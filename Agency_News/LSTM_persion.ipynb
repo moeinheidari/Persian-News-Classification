{
  "nbformat": 4,
  "nbformat_minor": 0,
  "metadata": {
    "colab": {
      "name": "LSTM_persion.ipynb",
      "provenance": [],
      "collapsed_sections": []
    },
    "kernelspec": {
      "name": "python3",
      "display_name": "Python 3"
    },
    "accelerator": "GPU"
  },
  "cells": [
    {
      "cell_type": "markdown",
      "metadata": {
        "id": "HQO-vjSBb56U"
      },
      "source": [
        "### Install Pakage"
      ]
    },
    {
      "cell_type": "code",
      "metadata": {
        "id": "QxjUX0F_RMUf",
        "colab": {
          "base_uri": "https://localhost:8080/"
        },
        "outputId": "1f314ebb-4454-43f3-dbad-96f9495942ac"
      },
      "source": [
        "!pip install hazm\n",
        "!pip install tensorflow-gpu==2.0"
      ],
      "execution_count": null,
      "outputs": [
        {
          "output_type": "stream",
          "text": [
            "Collecting hazm\n",
            "  Downloading hazm-0.7.0-py3-none-any.whl (316 kB)\n",
            "\u001b[?25l\r\u001b[K     |█                               | 10 kB 23.2 MB/s eta 0:00:01\r\u001b[K     |██                              | 20 kB 24.3 MB/s eta 0:00:01\r\u001b[K     |███                             | 30 kB 17.6 MB/s eta 0:00:01\r\u001b[K     |████▏                           | 40 kB 15.6 MB/s eta 0:00:01\r\u001b[K     |█████▏                          | 51 kB 7.2 MB/s eta 0:00:01\r\u001b[K     |██████▏                         | 61 kB 8.4 MB/s eta 0:00:01\r\u001b[K     |███████▎                        | 71 kB 8.1 MB/s eta 0:00:01\r\u001b[K     |████████▎                       | 81 kB 9.0 MB/s eta 0:00:01\r\u001b[K     |█████████▎                      | 92 kB 9.1 MB/s eta 0:00:01\r\u001b[K     |██████████▍                     | 102 kB 7.2 MB/s eta 0:00:01\r\u001b[K     |███████████▍                    | 112 kB 7.2 MB/s eta 0:00:01\r\u001b[K     |████████████▍                   | 122 kB 7.2 MB/s eta 0:00:01\r\u001b[K     |█████████████▌                  | 133 kB 7.2 MB/s eta 0:00:01\r\u001b[K     |██████████████▌                 | 143 kB 7.2 MB/s eta 0:00:01\r\u001b[K     |███████████████▌                | 153 kB 7.2 MB/s eta 0:00:01\r\u001b[K     |████████████████▋               | 163 kB 7.2 MB/s eta 0:00:01\r\u001b[K     |█████████████████▋              | 174 kB 7.2 MB/s eta 0:00:01\r\u001b[K     |██████████████████▋             | 184 kB 7.2 MB/s eta 0:00:01\r\u001b[K     |███████████████████▋            | 194 kB 7.2 MB/s eta 0:00:01\r\u001b[K     |████████████████████▊           | 204 kB 7.2 MB/s eta 0:00:01\r\u001b[K     |█████████████████████▊          | 215 kB 7.2 MB/s eta 0:00:01\r\u001b[K     |██████████████████████▊         | 225 kB 7.2 MB/s eta 0:00:01\r\u001b[K     |███████████████████████▉        | 235 kB 7.2 MB/s eta 0:00:01\r\u001b[K     |████████████████████████▉       | 245 kB 7.2 MB/s eta 0:00:01\r\u001b[K     |█████████████████████████▉      | 256 kB 7.2 MB/s eta 0:00:01\r\u001b[K     |███████████████████████████     | 266 kB 7.2 MB/s eta 0:00:01\r\u001b[K     |████████████████████████████    | 276 kB 7.2 MB/s eta 0:00:01\r\u001b[K     |█████████████████████████████   | 286 kB 7.2 MB/s eta 0:00:01\r\u001b[K     |██████████████████████████████  | 296 kB 7.2 MB/s eta 0:00:01\r\u001b[K     |███████████████████████████████ | 307 kB 7.2 MB/s eta 0:00:01\r\u001b[K     |████████████████████████████████| 316 kB 7.2 MB/s \n",
            "\u001b[?25hCollecting nltk==3.3\n",
            "  Downloading nltk-3.3.0.zip (1.4 MB)\n",
            "\u001b[K     |████████████████████████████████| 1.4 MB 13.5 MB/s \n",
            "\u001b[?25hCollecting libwapiti>=0.2.1\n",
            "  Downloading libwapiti-0.2.1.tar.gz (233 kB)\n",
            "\u001b[K     |████████████████████████████████| 233 kB 42.2 MB/s \n",
            "\u001b[?25hRequirement already satisfied: six in /usr/local/lib/python3.7/dist-packages (from nltk==3.3->hazm) (1.15.0)\n",
            "Building wheels for collected packages: nltk, libwapiti\n",
            "  Building wheel for nltk (setup.py) ... \u001b[?25l\u001b[?25hdone\n",
            "  Created wheel for nltk: filename=nltk-3.3-py3-none-any.whl size=1394486 sha256=d916c1b3b3ee242ef72fe80e293eb683dd48b51a9a8409f81d04c09b91010233\n",
            "  Stored in directory: /root/.cache/pip/wheels/9b/fd/0c/d92302c876e5de87ebd7fc0979d82edb93e2d8d768bf71fac4\n",
            "  Building wheel for libwapiti (setup.py) ... \u001b[?25l\u001b[?25hdone\n",
            "  Created wheel for libwapiti: filename=libwapiti-0.2.1-cp37-cp37m-linux_x86_64.whl size=154535 sha256=e6db3e593e0835229e81bcf2fc84bd5f429cf77a1ab1fa95daced389c81c6960\n",
            "  Stored in directory: /root/.cache/pip/wheels/ab/b2/5b/0fe4b8f5c0e65341e8ea7bb3f4a6ebabfe8b1ac31322392dbf\n",
            "Successfully built nltk libwapiti\n",
            "Installing collected packages: nltk, libwapiti, hazm\n",
            "  Attempting uninstall: nltk\n",
            "    Found existing installation: nltk 3.2.5\n",
            "    Uninstalling nltk-3.2.5:\n",
            "      Successfully uninstalled nltk-3.2.5\n",
            "Successfully installed hazm-0.7.0 libwapiti-0.2.1 nltk-3.3\n",
            "Collecting tensorflow-gpu==2.0\n",
            "  Downloading tensorflow_gpu-2.0.0-cp37-cp37m-manylinux2010_x86_64.whl (380.8 MB)\n",
            "\u001b[K     |████████████████████████████████| 380.8 MB 37 kB/s \n",
            "\u001b[?25hRequirement already satisfied: protobuf>=3.6.1 in /usr/local/lib/python3.7/dist-packages (from tensorflow-gpu==2.0) (3.17.3)\n",
            "Requirement already satisfied: keras-preprocessing>=1.0.5 in /usr/local/lib/python3.7/dist-packages (from tensorflow-gpu==2.0) (1.1.2)\n",
            "Requirement already satisfied: termcolor>=1.1.0 in /usr/local/lib/python3.7/dist-packages (from tensorflow-gpu==2.0) (1.1.0)\n",
            "Requirement already satisfied: wheel>=0.26 in /usr/local/lib/python3.7/dist-packages (from tensorflow-gpu==2.0) (0.36.2)\n",
            "Collecting gast==0.2.2\n",
            "  Downloading gast-0.2.2.tar.gz (10 kB)\n",
            "Collecting keras-applications>=1.0.8\n",
            "  Downloading Keras_Applications-1.0.8-py3-none-any.whl (50 kB)\n",
            "\u001b[K     |████████████████████████████████| 50 kB 7.7 MB/s \n",
            "\u001b[?25hCollecting tensorboard<2.1.0,>=2.0.0\n",
            "  Downloading tensorboard-2.0.2-py3-none-any.whl (3.8 MB)\n",
            "\u001b[K     |████████████████████████████████| 3.8 MB 45.2 MB/s \n",
            "\u001b[?25hCollecting tensorflow-estimator<2.1.0,>=2.0.0\n",
            "  Downloading tensorflow_estimator-2.0.1-py2.py3-none-any.whl (449 kB)\n",
            "\u001b[K     |████████████████████████████████| 449 kB 63.3 MB/s \n",
            "\u001b[?25hRequirement already satisfied: wrapt>=1.11.1 in /usr/local/lib/python3.7/dist-packages (from tensorflow-gpu==2.0) (1.12.1)\n",
            "Requirement already satisfied: numpy<2.0,>=1.16.0 in /usr/local/lib/python3.7/dist-packages (from tensorflow-gpu==2.0) (1.19.5)\n",
            "Requirement already satisfied: opt-einsum>=2.3.2 in /usr/local/lib/python3.7/dist-packages (from tensorflow-gpu==2.0) (3.3.0)\n",
            "Requirement already satisfied: grpcio>=1.8.6 in /usr/local/lib/python3.7/dist-packages (from tensorflow-gpu==2.0) (1.34.1)\n",
            "Requirement already satisfied: absl-py>=0.7.0 in /usr/local/lib/python3.7/dist-packages (from tensorflow-gpu==2.0) (0.12.0)\n",
            "Requirement already satisfied: six>=1.10.0 in /usr/local/lib/python3.7/dist-packages (from tensorflow-gpu==2.0) (1.15.0)\n",
            "Requirement already satisfied: astor>=0.6.0 in /usr/local/lib/python3.7/dist-packages (from tensorflow-gpu==2.0) (0.8.1)\n",
            "Requirement already satisfied: google-pasta>=0.1.6 in /usr/local/lib/python3.7/dist-packages (from tensorflow-gpu==2.0) (0.2.0)\n",
            "Requirement already satisfied: h5py in /usr/local/lib/python3.7/dist-packages (from keras-applications>=1.0.8->tensorflow-gpu==2.0) (3.1.0)\n",
            "Requirement already satisfied: werkzeug>=0.11.15 in /usr/local/lib/python3.7/dist-packages (from tensorboard<2.1.0,>=2.0.0->tensorflow-gpu==2.0) (1.0.1)\n",
            "Requirement already satisfied: setuptools>=41.0.0 in /usr/local/lib/python3.7/dist-packages (from tensorboard<2.1.0,>=2.0.0->tensorflow-gpu==2.0) (57.2.0)\n",
            "Requirement already satisfied: requests<3,>=2.21.0 in /usr/local/lib/python3.7/dist-packages (from tensorboard<2.1.0,>=2.0.0->tensorflow-gpu==2.0) (2.23.0)\n",
            "Requirement already satisfied: markdown>=2.6.8 in /usr/local/lib/python3.7/dist-packages (from tensorboard<2.1.0,>=2.0.0->tensorflow-gpu==2.0) (3.3.4)\n",
            "Requirement already satisfied: google-auth<2,>=1.6.3 in /usr/local/lib/python3.7/dist-packages (from tensorboard<2.1.0,>=2.0.0->tensorflow-gpu==2.0) (1.32.1)\n",
            "Requirement already satisfied: google-auth-oauthlib<0.5,>=0.4.1 in /usr/local/lib/python3.7/dist-packages (from tensorboard<2.1.0,>=2.0.0->tensorflow-gpu==2.0) (0.4.4)\n",
            "Requirement already satisfied: pyasn1-modules>=0.2.1 in /usr/local/lib/python3.7/dist-packages (from google-auth<2,>=1.6.3->tensorboard<2.1.0,>=2.0.0->tensorflow-gpu==2.0) (0.2.8)\n",
            "Requirement already satisfied: cachetools<5.0,>=2.0.0 in /usr/local/lib/python3.7/dist-packages (from google-auth<2,>=1.6.3->tensorboard<2.1.0,>=2.0.0->tensorflow-gpu==2.0) (4.2.2)\n",
            "Requirement already satisfied: rsa<5,>=3.1.4 in /usr/local/lib/python3.7/dist-packages (from google-auth<2,>=1.6.3->tensorboard<2.1.0,>=2.0.0->tensorflow-gpu==2.0) (4.7.2)\n",
            "Requirement already satisfied: requests-oauthlib>=0.7.0 in /usr/local/lib/python3.7/dist-packages (from google-auth-oauthlib<0.5,>=0.4.1->tensorboard<2.1.0,>=2.0.0->tensorflow-gpu==2.0) (1.3.0)\n",
            "Requirement already satisfied: importlib-metadata in /usr/local/lib/python3.7/dist-packages (from markdown>=2.6.8->tensorboard<2.1.0,>=2.0.0->tensorflow-gpu==2.0) (4.6.1)\n",
            "Requirement already satisfied: pyasn1<0.5.0,>=0.4.6 in /usr/local/lib/python3.7/dist-packages (from pyasn1-modules>=0.2.1->google-auth<2,>=1.6.3->tensorboard<2.1.0,>=2.0.0->tensorflow-gpu==2.0) (0.4.8)\n",
            "Requirement already satisfied: idna<3,>=2.5 in /usr/local/lib/python3.7/dist-packages (from requests<3,>=2.21.0->tensorboard<2.1.0,>=2.0.0->tensorflow-gpu==2.0) (2.10)\n",
            "Requirement already satisfied: chardet<4,>=3.0.2 in /usr/local/lib/python3.7/dist-packages (from requests<3,>=2.21.0->tensorboard<2.1.0,>=2.0.0->tensorflow-gpu==2.0) (3.0.4)\n",
            "Requirement already satisfied: urllib3!=1.25.0,!=1.25.1,<1.26,>=1.21.1 in /usr/local/lib/python3.7/dist-packages (from requests<3,>=2.21.0->tensorboard<2.1.0,>=2.0.0->tensorflow-gpu==2.0) (1.24.3)\n",
            "Requirement already satisfied: certifi>=2017.4.17 in /usr/local/lib/python3.7/dist-packages (from requests<3,>=2.21.0->tensorboard<2.1.0,>=2.0.0->tensorflow-gpu==2.0) (2021.5.30)\n",
            "Requirement already satisfied: oauthlib>=3.0.0 in /usr/local/lib/python3.7/dist-packages (from requests-oauthlib>=0.7.0->google-auth-oauthlib<0.5,>=0.4.1->tensorboard<2.1.0,>=2.0.0->tensorflow-gpu==2.0) (3.1.1)\n",
            "Requirement already satisfied: cached-property in /usr/local/lib/python3.7/dist-packages (from h5py->keras-applications>=1.0.8->tensorflow-gpu==2.0) (1.5.2)\n",
            "Requirement already satisfied: typing-extensions>=3.6.4 in /usr/local/lib/python3.7/dist-packages (from importlib-metadata->markdown>=2.6.8->tensorboard<2.1.0,>=2.0.0->tensorflow-gpu==2.0) (3.7.4.3)\n",
            "Requirement already satisfied: zipp>=0.5 in /usr/local/lib/python3.7/dist-packages (from importlib-metadata->markdown>=2.6.8->tensorboard<2.1.0,>=2.0.0->tensorflow-gpu==2.0) (3.5.0)\n",
            "Building wheels for collected packages: gast\n",
            "  Building wheel for gast (setup.py) ... \u001b[?25l\u001b[?25hdone\n",
            "  Created wheel for gast: filename=gast-0.2.2-py3-none-any.whl size=7553 sha256=6223e6886584fb62d18c2ad4355afa531d763c2d3b8363683d3451f0fed83a1f\n",
            "  Stored in directory: /root/.cache/pip/wheels/21/7f/02/420f32a803f7d0967b48dd823da3f558c5166991bfd204eef3\n",
            "Successfully built gast\n",
            "Installing collected packages: tensorflow-estimator, tensorboard, keras-applications, gast, tensorflow-gpu\n",
            "  Attempting uninstall: tensorflow-estimator\n",
            "    Found existing installation: tensorflow-estimator 2.5.0\n",
            "    Uninstalling tensorflow-estimator-2.5.0:\n",
            "      Successfully uninstalled tensorflow-estimator-2.5.0\n",
            "  Attempting uninstall: tensorboard\n",
            "    Found existing installation: tensorboard 2.5.0\n",
            "    Uninstalling tensorboard-2.5.0:\n",
            "      Successfully uninstalled tensorboard-2.5.0\n",
            "  Attempting uninstall: gast\n",
            "    Found existing installation: gast 0.4.0\n",
            "    Uninstalling gast-0.4.0:\n",
            "      Successfully uninstalled gast-0.4.0\n",
            "\u001b[31mERROR: pip's dependency resolver does not currently take into account all the packages that are installed. This behaviour is the source of the following dependency conflicts.\n",
            "tensorflow 2.5.0 requires gast==0.4.0, but you have gast 0.2.2 which is incompatible.\n",
            "tensorflow 2.5.0 requires tensorboard~=2.5, but you have tensorboard 2.0.2 which is incompatible.\n",
            "tensorflow 2.5.0 requires tensorflow-estimator<2.6.0,>=2.5.0rc0, but you have tensorflow-estimator 2.0.1 which is incompatible.\n",
            "tensorflow-probability 0.13.0 requires gast>=0.3.2, but you have gast 0.2.2 which is incompatible.\u001b[0m\n",
            "Successfully installed gast-0.2.2 keras-applications-1.0.8 tensorboard-2.0.2 tensorflow-estimator-2.0.1 tensorflow-gpu-2.0.0\n"
          ],
          "name": "stdout"
        }
      ]
    },
    {
      "cell_type": "markdown",
      "metadata": {
        "id": "EMCXlBkvTeWf"
      },
      "source": [
        "### import Pakage "
      ]
    },
    {
      "cell_type": "code",
      "metadata": {
        "id": "cztLUCuyTb3u"
      },
      "source": [
        "import numpy as np\n",
        "import pandas as pd\n",
        "\n",
        "from tensorflow.keras import optimizers\n",
        "from tensorflow.keras.models import Model, Sequential\n",
        "from tensorflow.keras.layers import Dense, Input, Embedding, Dropout, GlobalMaxPool1D\n",
        "from tensorflow.keras.layers import LSTM, Bidirectional\n",
        "from tensorflow.keras.utils import to_categorical\n",
        "from tensorflow.keras.preprocessing.text import Tokenizer\n",
        "from tensorflow.keras.preprocessing.sequence import pad_sequences\n",
        "\n",
        "# Preprocessing\n",
        "from hazm import *"
      ],
      "execution_count": null,
      "outputs": []
    },
    {
      "cell_type": "code",
      "metadata": {
        "colab": {
          "base_uri": "https://localhost:8080/"
        },
        "id": "-XGvGi-gobMb",
        "outputId": "407bb346-8f34-42e3-ede0-3e688042108c"
      },
      "source": [
        "from google.colab import drive\n",
        "drive.mount('/content/drive')"
      ],
      "execution_count": null,
      "outputs": [
        {
          "output_type": "stream",
          "text": [
            "Mounted at /content/drive\n"
          ],
          "name": "stdout"
        }
      ]
    },
    {
      "cell_type": "code",
      "metadata": {
        "colab": {
          "base_uri": "https://localhost:8080/"
        },
        "id": "Mhjy4t46jdby",
        "outputId": "d8eba80b-c511-432a-c353-e5f98c70b511"
      },
      "source": [
        "!unzip /content/drive/MyDrive/persian_news.zip -d /content/drive/MyDrive"
      ],
      "execution_count": null,
      "outputs": [
        {
          "output_type": "stream",
          "text": [
            "Archive:  /content/drive/MyDrive/persian_news.zip\n",
            "   creating: /content/drive/MyDrive/persian_news/\n",
            "  inflating: /content/drive/MyDrive/persian_news/dev.csv  \n",
            "  inflating: /content/drive/MyDrive/persian_news/train.csv  \n",
            "  inflating: /content/drive/MyDrive/persian_news/test.csv  \n"
          ],
          "name": "stdout"
        }
      ]
    },
    {
      "cell_type": "code",
      "metadata": {
        "id": "UkN0EOZiQWwE",
        "colab": {
          "base_uri": "https://localhost:8080/"
        },
        "outputId": "c2fa95d8-b376-48a6-e105-77275df94088"
      },
      "source": [
        "!unzip /content/drive/MyDrive/persian_news.zip -d /content/dataset/"
      ],
      "execution_count": null,
      "outputs": [
        {
          "output_type": "stream",
          "text": [
            "Archive:  /content/drive/MyDrive/persian_news.zip\n",
            "   creating: /content/dataset/persian_news/\n",
            "  inflating: /content/dataset/persian_news/dev.csv  \n",
            "  inflating: /content/dataset/persian_news/train.csv  \n",
            "  inflating: /content/dataset/persian_news/test.csv  \n"
          ],
          "name": "stdout"
        }
      ]
    },
    {
      "cell_type": "code",
      "metadata": {
        "id": "DNx25HZyQI8H",
        "colab": {
          "base_uri": "https://localhost:8080/",
          "height": 423
        },
        "outputId": "79d61b43-da6b-468b-bed7-0490406ba4d4"
      },
      "source": [
        "train_data = pd.read_csv('/content/drive/MyDrive/persian_news/train.csv', encoding='utf-8', sep='\\t')\n",
        "train_data"
      ],
      "execution_count": null,
      "outputs": [
        {
          "output_type": "execute_result",
          "data": {
            "text/html": [
              "<div>\n",
              "<style scoped>\n",
              "    .dataframe tbody tr th:only-of-type {\n",
              "        vertical-align: middle;\n",
              "    }\n",
              "\n",
              "    .dataframe tbody tr th {\n",
              "        vertical-align: top;\n",
              "    }\n",
              "\n",
              "    .dataframe thead th {\n",
              "        text-align: right;\n",
              "    }\n",
              "</style>\n",
              "<table border=\"1\" class=\"dataframe\">\n",
              "  <thead>\n",
              "    <tr style=\"text-align: right;\">\n",
              "      <th></th>\n",
              "      <th>Unnamed: 0</th>\n",
              "      <th>content</th>\n",
              "      <th>label</th>\n",
              "      <th>label_id</th>\n",
              "    </tr>\n",
              "  </thead>\n",
              "  <tbody>\n",
              "    <tr>\n",
              "      <th>0</th>\n",
              "      <td>0</td>\n",
              "      <td>به گزارش خبرنگار حوزه بهداشت و درمان گروه علمی...</td>\n",
              "      <td>پزشکی</td>\n",
              "      <td>7</td>\n",
              "    </tr>\n",
              "    <tr>\n",
              "      <th>1</th>\n",
              "      <td>1</td>\n",
              "      <td>به گزارش خبرنگار فوتبال و فوتسال گروه ورزشی با...</td>\n",
              "      <td>ورزشی</td>\n",
              "      <td>6</td>\n",
              "    </tr>\n",
              "    <tr>\n",
              "      <th>2</th>\n",
              "      <td>2</td>\n",
              "      <td>بهروز اکرمی، در گفتگو با خبرنگار اجتماعی باشگا...</td>\n",
              "      <td>اجتماعی</td>\n",
              "      <td>0</td>\n",
              "    </tr>\n",
              "    <tr>\n",
              "      <th>3</th>\n",
              "      <td>3</td>\n",
              "      <td>به گزارش خبرنگار حوزه شهری گروه اجتماعی باشگاه...</td>\n",
              "      <td>اجتماعی</td>\n",
              "      <td>0</td>\n",
              "    </tr>\n",
              "    <tr>\n",
              "      <th>4</th>\n",
              "      <td>4</td>\n",
              "      <td>به گزارش باشگاه خبرنگاران و به نقل از روابط عم...</td>\n",
              "      <td>فرهنگی هنری</td>\n",
              "      <td>5</td>\n",
              "    </tr>\n",
              "    <tr>\n",
              "      <th>...</th>\n",
              "      <td>...</td>\n",
              "      <td>...</td>\n",
              "      <td>...</td>\n",
              "      <td>...</td>\n",
              "    </tr>\n",
              "    <tr>\n",
              "      <th>13309</th>\n",
              "      <td>13309</td>\n",
              "      <td>به گزارش خبرنگار دولت باشگاه خبرنگاران رضا فرج...</td>\n",
              "      <td>سیاسی</td>\n",
              "      <td>3</td>\n",
              "    </tr>\n",
              "    <tr>\n",
              "      <th>13310</th>\n",
              "      <td>13310</td>\n",
              "      <td>به گزارش خبرنگار اقتصادی باشگاه خبرنگاران، باز...</td>\n",
              "      <td>اقتصادی</td>\n",
              "      <td>1</td>\n",
              "    </tr>\n",
              "    <tr>\n",
              "      <th>13311</th>\n",
              "      <td>13311</td>\n",
              "      <td>ایسوس همیشه سورپرایزهایی را برای کامپیوتکس کنا...</td>\n",
              "      <td>علمی فناوری</td>\n",
              "      <td>4</td>\n",
              "    </tr>\n",
              "    <tr>\n",
              "      <th>13312</th>\n",
              "      <td>13312</td>\n",
              "      <td>به گزارش حوزه مجلس گروه سیاسی باشگاه خبرنگاران...</td>\n",
              "      <td>سیاسی</td>\n",
              "      <td>3</td>\n",
              "    </tr>\n",
              "    <tr>\n",
              "      <th>13313</th>\n",
              "      <td>13313</td>\n",
              "      <td>به گزارش خبرنگار اقتصادی باشگاه خبرنگاران؛ در ...</td>\n",
              "      <td>اقتصادی</td>\n",
              "      <td>1</td>\n",
              "    </tr>\n",
              "  </tbody>\n",
              "</table>\n",
              "<p>13314 rows × 4 columns</p>\n",
              "</div>"
            ],
            "text/plain": [
              "       Unnamed: 0  ... label_id\n",
              "0               0  ...        7\n",
              "1               1  ...        6\n",
              "2               2  ...        0\n",
              "3               3  ...        0\n",
              "4               4  ...        5\n",
              "...           ...  ...      ...\n",
              "13309       13309  ...        3\n",
              "13310       13310  ...        1\n",
              "13311       13311  ...        4\n",
              "13312       13312  ...        3\n",
              "13313       13313  ...        1\n",
              "\n",
              "[13314 rows x 4 columns]"
            ]
          },
          "metadata": {
            "tags": []
          },
          "execution_count": 7
        }
      ]
    },
    {
      "cell_type": "markdown",
      "metadata": {
        "id": "o47gfQ99UHrv"
      },
      "source": [
        "### Read dataset"
      ]
    },
    {
      "cell_type": "code",
      "metadata": {
        "id": "suHu3ZRgUMn0",
        "colab": {
          "base_uri": "https://localhost:8080/"
        },
        "outputId": "9991df69-d812-4544-ae72-0634ba9c58c9"
      },
      "source": [
        "sentence_train = train_data['content']\n",
        "label_train = train_data['label_id']\n",
        "\n",
        "print('Number of training sentence: ', sentence_train.shape)\n",
        "print('Number of training label: ', label_train.shape)\n"
      ],
      "execution_count": null,
      "outputs": [
        {
          "output_type": "stream",
          "text": [
            "Number of training sentence:  (13314,)\n",
            "Number of training label:  (13314,)\n"
          ],
          "name": "stdout"
        }
      ]
    },
    {
      "cell_type": "code",
      "metadata": {
        "id": "uc0wOKRGfoSc",
        "colab": {
          "base_uri": "https://localhost:8080/"
        },
        "outputId": "5587a4ea-e731-4d13-cec6-c9941c6f302d"
      },
      "source": [
        "from collections import Counter\n",
        "cnt = Counter(label_train)\n",
        "cnt = dict(cnt)\n",
        "print(cnt)"
      ],
      "execution_count": null,
      "outputs": [
        {
          "output_type": "stream",
          "text": [
            "{7: 1688, 6: 1119, 0: 1757, 5: 2072, 4: 1973, 3: 1838, 2: 1600, 1: 1267}\n"
          ],
          "name": "stdout"
        }
      ]
    },
    {
      "cell_type": "code",
      "metadata": {
        "id": "0Rp0HyGXUkPD"
      },
      "source": [
        "# Convert dataframes to numpy arrays\n",
        "sentence_train = np.asarray(sentence_train)\n",
        "label_train = np.asarray(label_train)"
      ],
      "execution_count": null,
      "outputs": []
    },
    {
      "cell_type": "code",
      "metadata": {
        "id": "1a0IFZTwXy3Y",
        "colab": {
          "base_uri": "https://localhost:8080/"
        },
        "outputId": "dcd8c36e-6920-4dae-ee9e-90e97102be46"
      },
      "source": [
        "# Prepare labels for categorical prediction\n",
        "categorical_label_train = to_categorical(label_train, 8)\n",
        "categorical_label_train"
      ],
      "execution_count": null,
      "outputs": [
        {
          "output_type": "execute_result",
          "data": {
            "text/plain": [
              "array([[0., 0., 0., ..., 0., 0., 1.],\n",
              "       [0., 0., 0., ..., 0., 1., 0.],\n",
              "       [1., 0., 0., ..., 0., 0., 0.],\n",
              "       ...,\n",
              "       [0., 0., 0., ..., 0., 0., 0.],\n",
              "       [0., 0., 0., ..., 0., 0., 0.],\n",
              "       [0., 1., 0., ..., 0., 0., 0.]], dtype=float32)"
            ]
          },
          "metadata": {
            "tags": []
          },
          "execution_count": 11
        }
      ]
    },
    {
      "cell_type": "markdown",
      "metadata": {
        "id": "bz6bQG55V1EX"
      },
      "source": [
        "### Preprocessing "
      ]
    },
    {
      "cell_type": "code",
      "metadata": {
        "id": "hWzTC7SRU9aP"
      },
      "source": [
        "import re\n",
        "normalizer = Normalizer()\n",
        "lemmatizer = Lemmatizer()\n",
        "stemmer = Stemmer()\n",
        "# turn a doc into clean tokens\n",
        "def clean_data(doc):\n",
        "    doc = normalizer.normalize(doc) # Normalize document using Hazm Normalizer\n",
        "    tokenized = word_tokenize(doc)  # Tokenize text\n",
        "    # ['یه', 'ساله', 'خریدم', 'خیلی', 'ضعیف', 'است', 'بازی', 'هم', 'که', 'چی', 'بگم', 'هیچ', 'کدوم', 'رو', 'باز', 'نمیکنه']\n",
        "    tokens = []\n",
        "    for token in tokenized:\n",
        "      token = re.sub(\"[،:.,;()/+]\", \" \", token) \n",
        "      token = re.sub(r\"\\!+\",\"!\", token)\n",
        "      token = re.sub(r\"\\؟+\",\"؟\", token)\n",
        "      token = re.sub(r\"\\u200c\", \" \", token)\n",
        "      tokens.append(token)\n",
        "\n",
        "    tokens = [w for w in tokens if not len(w) <= 1] # single character removal \n",
        "    tokens = [w for w in tokens if not w.isdigit()] # digit remove\n",
        "    tokens = [lemmatizer.lemmatize(w) for w in tokens] # Lemmatize sentence words using Hazm Lemmatizer\n",
        "    tokens = [stemmer.stem(w) for w in tokens] \n",
        "    tokens = ' '.join(tokens)\n",
        "    return tokens"
      ],
      "execution_count": null,
      "outputs": []
    },
    {
      "cell_type": "markdown",
      "metadata": {
        "id": "xsLFXIa0WRBV"
      },
      "source": [
        "### Apply preprocessing to dataset\n",
        "\n",
        "\n"
      ]
    },
    {
      "cell_type": "code",
      "metadata": {
        "id": "DCnhFVpuW46y"
      },
      "source": [
        "# Apply preprocessing step to training data\n",
        "train_docs = np.empty_like(sentence_train)\n",
        "for index, document in enumerate(sentence_train):\n",
        "  train_docs[index] = clean_data(document)"
      ],
      "execution_count": null,
      "outputs": []
    },
    {
      "cell_type": "markdown",
      "metadata": {
        "id": "52iua_gbXK1c"
      },
      "source": [
        "### Set tokenizer and encode sentences\n",
        "\n",
        "\n",
        "```\n",
        "با کمي هزينه بيشتر يک گوشي سوني در همين رده بگيريد بهتر خواهد بود.\n",
        "[7, 64, 664, 104, 16, 11, 240, 5, 191, 282, 68, 54, 131, 36, 37]\n",
        "```\n",
        "\n"
      ]
    },
    {
      "cell_type": "code",
      "metadata": {
        "id": "q0AQ_pRJXCp8",
        "colab": {
          "base_uri": "https://localhost:8080/"
        },
        "outputId": "5dc52087-60f4-44f1-f902-de1c699a9057"
      },
      "source": [
        "num_words = 2000\n",
        "\n",
        "# Create the tokenizer\n",
        "tokenizer = Tokenizer(num_words=num_words)\n",
        "tokenizer.fit_on_texts(train_docs)\n",
        "encoded_docs = tokenizer.texts_to_sequences(train_docs)\n",
        "print(encoded_docs)"
      ],
      "execution_count": null,
      "outputs": [
        {
          "output_type": "stream",
          "text": [
            "IOPub data rate exceeded.\n",
            "The notebook server will temporarily stop sending output\n",
            "to the client in order to avoid crashing it.\n",
            "To change this limit, set the config variable\n",
            "`--NotebookApp.iopub_data_rate_limit`.\n",
            "\n",
            "Current values:\n",
            "NotebookApp.iopub_data_rate_limit=1000000.0 (bytes/sec)\n",
            "NotebookApp.rate_limit_window=3.0 (secs)\n",
            "\n"
          ],
          "name": "stderr"
        }
      ]
    },
    {
      "cell_type": "code",
      "metadata": {
        "id": "7HokPEHLXQj3",
        "colab": {
          "base_uri": "https://localhost:8080/"
        },
        "outputId": "27715bd9-d649-4e54-9d2f-9b10a7676381"
      },
      "source": [
        "# Find maximum length of training sentences\n",
        "max_length = max([len(s.split()) for s in train_docs])\n",
        "max_length"
      ],
      "execution_count": null,
      "outputs": [
        {
          "output_type": "execute_result",
          "data": {
            "text/plain": [
              "18907"
            ]
          },
          "metadata": {
            "tags": []
          },
          "execution_count": 15
        }
      ]
    },
    {
      "cell_type": "markdown",
      "metadata": {
        "id": "CtirPRR2XWIB"
      },
      "source": [
        "### Padding "
      ]
    },
    {
      "cell_type": "code",
      "metadata": {
        "id": "uVfbfnvyXTcg"
      },
      "source": [
        "# Pad embeded training sequences\n",
        "x_train_padded = pad_sequences(encoded_docs, maxlen=max_length, padding='post')"
      ],
      "execution_count": null,
      "outputs": []
    },
    {
      "cell_type": "code",
      "metadata": {
        "id": "IjImis2_XdVl",
        "colab": {
          "base_uri": "https://localhost:8080/"
        },
        "outputId": "31773837-f5f0-4fa1-8fd6-ef9be03c4530"
      },
      "source": [
        "x_train_padded[1]"
      ],
      "execution_count": null,
      "outputs": [
        {
          "output_type": "execute_result",
          "data": {
            "text/plain": [
              "array([ 2, 45, 28, ...,  0,  0,  0], dtype=int32)"
            ]
          },
          "metadata": {
            "tags": []
          },
          "execution_count": 17
        }
      ]
    },
    {
      "cell_type": "code",
      "metadata": {
        "id": "Sgf7SfvrXivd"
      },
      "source": [
        "#vocabulary size\n",
        "vocab_size = len(tokenizer.word_index)"
      ],
      "execution_count": null,
      "outputs": []
    },
    {
      "cell_type": "code",
      "metadata": {
        "colab": {
          "base_uri": "https://localhost:8080/",
          "height": 423
        },
        "id": "nUi3dxW6xhNc",
        "outputId": "22fa1d7d-47ea-4c02-bfb4-a96bd918942e"
      },
      "source": [
        "valid_set = pd.read_csv('/content/drive/MyDrive/persian_news/dev.csv',encoding=\"utf-8\",sep='\\t')\n",
        "valid_set"
      ],
      "execution_count": null,
      "outputs": [
        {
          "output_type": "execute_result",
          "data": {
            "text/html": [
              "<div>\n",
              "<style scoped>\n",
              "    .dataframe tbody tr th:only-of-type {\n",
              "        vertical-align: middle;\n",
              "    }\n",
              "\n",
              "    .dataframe tbody tr th {\n",
              "        vertical-align: top;\n",
              "    }\n",
              "\n",
              "    .dataframe thead th {\n",
              "        text-align: right;\n",
              "    }\n",
              "</style>\n",
              "<table border=\"1\" class=\"dataframe\">\n",
              "  <thead>\n",
              "    <tr style=\"text-align: right;\">\n",
              "      <th></th>\n",
              "      <th>Unnamed: 0</th>\n",
              "      <th>content</th>\n",
              "      <th>label</th>\n",
              "      <th>label_id</th>\n",
              "    </tr>\n",
              "  </thead>\n",
              "  <tbody>\n",
              "    <tr>\n",
              "      <th>0</th>\n",
              "      <td>0</td>\n",
              "      <td>به گزارش حوزه بهداشت و درمان گروه علمی پزشکی ب...</td>\n",
              "      <td>پزشکی</td>\n",
              "      <td>7</td>\n",
              "    </tr>\n",
              "    <tr>\n",
              "      <th>1</th>\n",
              "      <td>1</td>\n",
              "      <td>به گزارش خبرنگار حوزه شهری گروه اجتماعی باشگاه...</td>\n",
              "      <td>اجتماعی</td>\n",
              "      <td>0</td>\n",
              "    </tr>\n",
              "    <tr>\n",
              "      <th>2</th>\n",
              "      <td>2</td>\n",
              "      <td>به گزارش گروه اجتماعی باشگاه خبرنگاران جوان، س...</td>\n",
              "      <td>اجتماعی</td>\n",
              "      <td>0</td>\n",
              "    </tr>\n",
              "    <tr>\n",
              "      <th>3</th>\n",
              "      <td>3</td>\n",
              "      <td>به گزارش گروه بین الملل باشگاه خبرنگاران به نق...</td>\n",
              "      <td>بین الملل</td>\n",
              "      <td>2</td>\n",
              "    </tr>\n",
              "    <tr>\n",
              "      <th>4</th>\n",
              "      <td>4</td>\n",
              "      <td>به گزارش خبرنگار راه و شهرسازی گروه اقتصادی با...</td>\n",
              "      <td>اقتصادی</td>\n",
              "      <td>1</td>\n",
              "    </tr>\n",
              "    <tr>\n",
              "      <th>...</th>\n",
              "      <td>...</td>\n",
              "      <td>...</td>\n",
              "      <td>...</td>\n",
              "      <td>...</td>\n",
              "    </tr>\n",
              "    <tr>\n",
              "      <th>1475</th>\n",
              "      <td>1475</td>\n",
              "      <td>به گزارش خبرنگارکلینیک باشگاه خبرنگاران؛ کم خو...</td>\n",
              "      <td>پزشکی</td>\n",
              "      <td>7</td>\n",
              "    </tr>\n",
              "    <tr>\n",
              "      <th>1476</th>\n",
              "      <td>1476</td>\n",
              "      <td>رضا قدیمی رئیس کمیته منابع انسانی ستاد اربعین ...</td>\n",
              "      <td>اجتماعی</td>\n",
              "      <td>0</td>\n",
              "    </tr>\n",
              "    <tr>\n",
              "      <th>1477</th>\n",
              "      <td>1477</td>\n",
              "      <td>به گزارش خبرنگار گروه علمی و دانشگاهی خبرگزاری...</td>\n",
              "      <td>علمی فناوری</td>\n",
              "      <td>4</td>\n",
              "    </tr>\n",
              "    <tr>\n",
              "      <th>1478</th>\n",
              "      <td>1478</td>\n",
              "      <td>به گزارش خبرنگار حوزه کلینیک گروه علمی پزشکی ب...</td>\n",
              "      <td>پزشکی</td>\n",
              "      <td>7</td>\n",
              "    </tr>\n",
              "    <tr>\n",
              "      <th>1479</th>\n",
              "      <td>1479</td>\n",
              "      <td>به گزارش گروه اقتصادی باشگاه خبرنگاران به نقل ...</td>\n",
              "      <td>اقتصادی</td>\n",
              "      <td>1</td>\n",
              "    </tr>\n",
              "  </tbody>\n",
              "</table>\n",
              "<p>1480 rows × 4 columns</p>\n",
              "</div>"
            ],
            "text/plain": [
              "      Unnamed: 0  ... label_id\n",
              "0              0  ...        7\n",
              "1              1  ...        0\n",
              "2              2  ...        0\n",
              "3              3  ...        2\n",
              "4              4  ...        1\n",
              "...          ...  ...      ...\n",
              "1475        1475  ...        7\n",
              "1476        1476  ...        0\n",
              "1477        1477  ...        4\n",
              "1478        1478  ...        7\n",
              "1479        1479  ...        1\n",
              "\n",
              "[1480 rows x 4 columns]"
            ]
          },
          "metadata": {
            "tags": []
          },
          "execution_count": 19
        }
      ]
    },
    {
      "cell_type": "code",
      "metadata": {
        "id": "-gJSYNO8x7--"
      },
      "source": [
        "sentence_valid = np.asarray(valid_set['content'])\n",
        "label_valid = np.asarray(valid_set['label_id'])"
      ],
      "execution_count": null,
      "outputs": []
    },
    {
      "cell_type": "code",
      "metadata": {
        "colab": {
          "base_uri": "https://localhost:8080/"
        },
        "id": "KTlW3tjVxTRn",
        "outputId": "ef004f13-3924-4116-966c-244eb2d19128"
      },
      "source": [
        "categorical_label_valid = to_categorical(label_valid, 8)\n",
        "categorical_label_valid"
      ],
      "execution_count": null,
      "outputs": [
        {
          "output_type": "execute_result",
          "data": {
            "text/plain": [
              "array([[0., 0., 0., ..., 0., 0., 1.],\n",
              "       [1., 0., 0., ..., 0., 0., 0.],\n",
              "       [1., 0., 0., ..., 0., 0., 0.],\n",
              "       ...,\n",
              "       [0., 0., 0., ..., 0., 0., 0.],\n",
              "       [0., 0., 0., ..., 0., 0., 1.],\n",
              "       [0., 1., 0., ..., 0., 0., 0.]], dtype=float32)"
            ]
          },
          "metadata": {
            "tags": []
          },
          "execution_count": 21
        }
      ]
    },
    {
      "cell_type": "code",
      "metadata": {
        "id": "zNucBGCv2Lf3"
      },
      "source": [
        "# Apply preprocessing step to valid data\n",
        "valid_docs = np.empty_like(sentence_valid)\n",
        "for index, document in enumerate(sentence_valid):\n",
        "  valid_docs[index] = clean_data(document)"
      ],
      "execution_count": null,
      "outputs": []
    },
    {
      "cell_type": "code",
      "metadata": {
        "id": "22z_wbGbJ7CP"
      },
      "source": [
        "# Embed valid sequences\n",
        "encoded_docs1 = tokenizer.texts_to_sequences(valid_docs)\n",
        "x_valid_padded = pad_sequences(encoded_docs1, maxlen=max_length, padding='post')"
      ],
      "execution_count": null,
      "outputs": []
    },
    {
      "cell_type": "code",
      "metadata": {
        "id": "oGshs0f5Xohk"
      },
      "source": [
        "model_blstm = Sequential()\n",
        "\n",
        "model_blstm.add(Embedding(vocab_size, 100, input_length=max_length))\n",
        "model_blstm.add(Bidirectional(LSTM(100, return_sequences=True, name='lstm_layer')))\n",
        "\n",
        "model_blstm.add(GlobalMaxPool1D())\n",
        "model_blstm.add(Dropout(0.25))\n",
        "model_blstm.add(Dense(300, activation=\"relu\"))\n",
        "model_blstm.add(Dropout(0.2))\n",
        "model_blstm.add(Dense(8, activation='softmax'))"
      ],
      "execution_count": null,
      "outputs": []
    },
    {
      "cell_type": "code",
      "metadata": {
        "id": "MUHcLn2-Xq-s",
        "colab": {
          "base_uri": "https://localhost:8080/"
        },
        "outputId": "4e290aaf-8546-4091-d7ae-bd99f254e159"
      },
      "source": [
        "model_blstm.compile(loss='categorical_crossentropy',\n",
        "              optimizer='adam',\n",
        "              metrics=[\"categorical_accuracy\"])\n",
        "\n",
        "model_blstm.summary()\n",
        "batch_size_blstm = 64\n",
        "epochs_blstm = 20"
      ],
      "execution_count": null,
      "outputs": [
        {
          "output_type": "stream",
          "text": [
            "Model: \"sequential\"\n",
            "_________________________________________________________________\n",
            "Layer (type)                 Output Shape              Param #   \n",
            "=================================================================\n",
            "embedding (Embedding)        (None, 18907, 100)        6405100   \n",
            "_________________________________________________________________\n",
            "bidirectional (Bidirectional (None, 18907, 200)        160800    \n",
            "_________________________________________________________________\n",
            "global_max_pooling1d (Global (None, 200)               0         \n",
            "_________________________________________________________________\n",
            "dropout (Dropout)            (None, 200)               0         \n",
            "_________________________________________________________________\n",
            "dense (Dense)                (None, 300)               60300     \n",
            "_________________________________________________________________\n",
            "dropout_1 (Dropout)          (None, 300)               0         \n",
            "_________________________________________________________________\n",
            "dense_1 (Dense)              (None, 8)                 2408      \n",
            "=================================================================\n",
            "Total params: 6,628,608\n",
            "Trainable params: 6,628,608\n",
            "Non-trainable params: 0\n",
            "_________________________________________________________________\n"
          ],
          "name": "stdout"
        }
      ]
    },
    {
      "cell_type": "code",
      "metadata": {
        "id": "8IoPVntAYNM_",
        "colab": {
          "base_uri": "https://localhost:8080/"
        },
        "outputId": "a22242f9-eaef-40a7-c12a-0be9c6e0b2ad"
      },
      "source": [
        "hist_blstm = model_blstm.fit(x_train_padded, categorical_label_train,validation_data=(x_valid_padded,categorical_label_valid),\n",
        "                             batch_size=batch_size_blstm, epochs=epochs_blstm,\n",
        "                             shuffle=True)"
      ],
      "execution_count": null,
      "outputs": [
        {
          "output_type": "stream",
          "text": [
            "Train on 13314 samples, validate on 1480 samples\n",
            "Epoch 1/20\n",
            "13314/13314 [==============================] - 441s 33ms/sample - loss: 0.9037 - categorical_accuracy: 0.6823 - val_loss: 0.2044 - val_categorical_accuracy: 0.9345\n",
            "Epoch 2/20\n",
            "13314/13314 [==============================] - 427s 32ms/sample - loss: 0.1588 - categorical_accuracy: 0.9513 - val_loss: 0.1547 - val_categorical_accuracy: 0.9446\n",
            "Epoch 3/20\n",
            "13314/13314 [==============================] - 428s 32ms/sample - loss: 0.0974 - categorical_accuracy: 0.9715 - val_loss: 0.1490 - val_categorical_accuracy: 0.9527\n",
            "Epoch 4/20\n",
            "13314/13314 [==============================] - 426s 32ms/sample - loss: 0.0648 - categorical_accuracy: 0.9796 - val_loss: 0.1449 - val_categorical_accuracy: 0.9561\n",
            "Epoch 5/20\n",
            "13314/13314 [==============================] - 428s 32ms/sample - loss: 0.0505 - categorical_accuracy: 0.9832 - val_loss: 0.1750 - val_categorical_accuracy: 0.9507\n",
            "Epoch 6/20\n",
            "13314/13314 [==============================] - 421s 32ms/sample - loss: 0.0626 - categorical_accuracy: 0.9811 - val_loss: 0.1501 - val_categorical_accuracy: 0.9568\n",
            "Epoch 7/20\n",
            "13314/13314 [==============================] - 427s 32ms/sample - loss: 0.0297 - categorical_accuracy: 0.9906 - val_loss: 0.1642 - val_categorical_accuracy: 0.9547\n",
            "Epoch 8/20\n",
            "13314/13314 [==============================] - 425s 32ms/sample - loss: 0.0334 - categorical_accuracy: 0.9882 - val_loss: 0.1749 - val_categorical_accuracy: 0.9507\n",
            "Epoch 9/20\n",
            "13314/13314 [==============================] - 424s 32ms/sample - loss: 0.0193 - categorical_accuracy: 0.9944 - val_loss: 0.1753 - val_categorical_accuracy: 0.9554\n",
            "Epoch 10/20\n",
            "13314/13314 [==============================] - 422s 32ms/sample - loss: 0.0178 - categorical_accuracy: 0.9949 - val_loss: 0.1978 - val_categorical_accuracy: 0.9507\n",
            "Epoch 11/20\n",
            "13314/13314 [==============================] - 421s 32ms/sample - loss: 0.0149 - categorical_accuracy: 0.9952 - val_loss: 0.1893 - val_categorical_accuracy: 0.9514\n",
            "Epoch 12/20\n",
            "13314/13314 [==============================] - 421s 32ms/sample - loss: 0.0174 - categorical_accuracy: 0.9950 - val_loss: 0.2045 - val_categorical_accuracy: 0.9534\n",
            "Epoch 13/20\n",
            "13314/13314 [==============================] - 420s 32ms/sample - loss: 0.0148 - categorical_accuracy: 0.9961 - val_loss: 0.1981 - val_categorical_accuracy: 0.9493\n",
            "Epoch 14/20\n",
            "13314/13314 [==============================] - 421s 32ms/sample - loss: 0.0107 - categorical_accuracy: 0.9966 - val_loss: 0.2020 - val_categorical_accuracy: 0.9574\n",
            "Epoch 15/20\n",
            "13314/13314 [==============================] - 422s 32ms/sample - loss: 0.0069 - categorical_accuracy: 0.9986 - val_loss: 0.2018 - val_categorical_accuracy: 0.9541\n",
            "Epoch 16/20\n",
            "13314/13314 [==============================] - 423s 32ms/sample - loss: 0.0087 - categorical_accuracy: 0.9969 - val_loss: 0.2011 - val_categorical_accuracy: 0.9574\n",
            "Epoch 17/20\n",
            "13314/13314 [==============================] - 423s 32ms/sample - loss: 0.0038 - categorical_accuracy: 0.9990 - val_loss: 0.2146 - val_categorical_accuracy: 0.9534\n",
            "Epoch 18/20\n",
            "13314/13314 [==============================] - 422s 32ms/sample - loss: 0.0073 - categorical_accuracy: 0.9975 - val_loss: 0.2342 - val_categorical_accuracy: 0.9520\n",
            "Epoch 19/20\n",
            "13314/13314 [==============================] - 423s 32ms/sample - loss: 0.0158 - categorical_accuracy: 0.9944 - val_loss: 0.2121 - val_categorical_accuracy: 0.9486\n",
            "Epoch 20/20\n",
            "13314/13314 [==============================] - 424s 32ms/sample - loss: 0.0107 - categorical_accuracy: 0.9965 - val_loss: 0.2248 - val_categorical_accuracy: 0.9547\n"
          ],
          "name": "stdout"
        }
      ]
    },
    {
      "cell_type": "code",
      "metadata": {
        "id": "3rVbF9r_CnYj"
      },
      "source": [
        ""
      ],
      "execution_count": null,
      "outputs": []
    },
    {
      "cell_type": "code",
      "metadata": {
        "id": "0GH6UTu0Cnue"
      },
      "source": [
        "test_data = pd.read_csv('/content/drive/MyDrive/persian_news/test.csv', encoding='utf-8', sep='\\t')\n",
        "\n",
        "x_test = test_data['content']\n",
        "y_test = test_data['label_id']"
      ],
      "execution_count": null,
      "outputs": []
    },
    {
      "cell_type": "code",
      "metadata": {
        "id": "AaOgAxDgnof2",
        "colab": {
          "base_uri": "https://localhost:8080/"
        },
        "outputId": "cfd414aa-e1db-42fc-b400-7c89a3f5ce51"
      },
      "source": [
        "\n",
        "print('Number of testing sentence: ', x_test.shape)\n",
        "print('Number of testing label: ', y_test.shape)"
      ],
      "execution_count": null,
      "outputs": [
        {
          "output_type": "stream",
          "text": [
            "Number of testing sentence:  (1644,)\n",
            "Number of testing label:  (1644,)\n"
          ],
          "name": "stdout"
        }
      ]
    },
    {
      "cell_type": "code",
      "metadata": {
        "id": "kRTnA72wnrCs"
      },
      "source": [
        "# Convert dataframes to numpy arrays\n",
        "x_test = np.asarray(x_test)\n",
        "y_test = np.asarray(y_test)"
      ],
      "execution_count": null,
      "outputs": []
    },
    {
      "cell_type": "code",
      "metadata": {
        "id": "co3LO695nvRL"
      },
      "source": [
        "# Applying preprocessing step to test data\n",
        "test_docs = np.empty_like(x_test)\n",
        "for index, document in enumerate(x_test):\n",
        "  test_docs[index] = clean_data(document)"
      ],
      "execution_count": null,
      "outputs": []
    },
    {
      "cell_type": "code",
      "metadata": {
        "id": "pGruunIen-XK"
      },
      "source": [
        "# Embed testing sequences\n",
        "encoded_docs = tokenizer.texts_to_sequences(test_docs)\n",
        "x_test_padded = pad_sequences(encoded_docs, maxlen=max_length, padding='post')"
      ],
      "execution_count": null,
      "outputs": []
    },
    {
      "cell_type": "code",
      "metadata": {
        "id": "fyj6DuzynvTy"
      },
      "source": [
        "categorical_y_test = to_categorical(y_test, 8)"
      ],
      "execution_count": null,
      "outputs": []
    },
    {
      "cell_type": "code",
      "metadata": {
        "id": "7v7ONeWznvVv",
        "colab": {
          "base_uri": "https://localhost:8080/"
        },
        "outputId": "3b5b54ef-0984-440d-ec93-35fdf07b62b7"
      },
      "source": [
        "# Evaluate model\n",
        "loss_blstm, acc_blstm = model_blstm.evaluate(x_test_padded, categorical_y_test, verbose=1)\n",
        "print('Test Accuracy: %f' % (acc_blstm*100))"
      ],
      "execution_count": null,
      "outputs": [
        {
          "output_type": "stream",
          "text": [
            "\r1644/1 [========================================================================================================================================================================================================================================================================================================================================================================================================================================================================================================================================================================================================================================================================================================================================================================================================================================================================================================================================================================================================================================================================================================================================================================================================================================================================================================================================================================================================================================================================================================================================================================================================================================================================================================================================================================================================================================================================================================================================================================================================================================================================================================================================================================================================================================================================================================================================================================================================================================================================================================================================================================================================================================================================================================================================================================================================================================================================================================================================================================================================================================================================================================================================================================================================================================================================================================================================================================================================================================================================================================================================================================================================================================================================================================================================================================================================================================================================================================================================================================================================================================================================================================================================================================================================================================================================================================================================================================================================================================================================================================================================================================================================================================================================================================================================================================================================================================================================================================================================================================================================================================================================================================================================================================================================================================================================================================================================================================================================================================================================================================================================================================================================================================================================================================================================================================================================================================================================================================================================================================================================================================================================================================================================================================================================================================================================================================================================================================================================================================================================================================================================================================================================================================================================================================================================================================================================================================================================================================================================================================================================================================================================================================================================================================================================================================================================================================================================================================================================================================================================================================================================================================================================================================================================================================================================================================================================================================================================================================================================================================================================================================================================================================================================================================================================================================================================================================================================================================================================================================================================================================================================================================================================================================================================================================================================================================================================================================================================================================================================================================================================================================================================================================================================================================================================================================================================================================================================================================================================================================================================================================================================================================================================================================================================================================================================================================================================================================================================================================================================================================================================================================================================================================================================================================================================================================================================================================================================================================================================================================================================================================================================================================================================================================================================================================================================================================================================================================================================================================================================================================================================================================================================================================================================================================================================================================================================================================================================================================================================================================================================================================================================================================================================================================================================================================================================================================================================================================================================================================================================================================================================================================================================================================================================================================================================================================================================================================================================================================================================================================================================================================================================================================================================================================================================================================================================================================================================================================================================================================================================================================================================================================================================================================================================================================================================================================================================================================================================================================================================================================================================================================================================================================================================================================================================================================================================================================================================================================================================================================================================================================================================================================================================================================================================================================================================================================================================================================================================================================================================================================================================================================================================================================================================================================================================================================================================================================================================================================================================================================================================================================================================================================================================================================================================================================================================================================================================================================================================================================================================================================================================================================================================================================================================================================================================================================================================================================================================================================================================================================================================================================================================================================================================================================================================================================================================================================================================================================================================================================================================================================================================================================================================================================================================================================================================================================================================================================================================================================================================================================================================================================================================================================================================================================================================================================================================================================================================================================================================================================================================================================================================================================================================================================================================================================================================================================================================================================================================================================================================================================================================================================================================================================================================================================================================================================================================================================================================================================================================================================================================================================================================================================================================================================================================================================================================================================================================================================================================================================================================================================================================================================================================================================================================================================================================================================================================================================================================================================================================================================================================================================================================================================================================================================================================================================================================================================================================================================================================================================================================================================================================================================================================================================================================================================================================================================================================================================================================================================================================================================================================================================================================================================================================================================================================================================================================================================================================================================================================================================================================================================================================================================================================================================================================================================================================================================================================================================================================================================================================================================================================================================================================================================================================================================================================================================================================================================================================================================================================================================================================================================================================================================================================================================================================================================================================================================================================================================================================================================================================================================================================================================================================================================================================================================================================================================================================================================================================================================================================================================================================================================================================================================================================================================================================================================================================================================================================================================================================================================================================================================================================================================================================================================================================================================================================================================================================================================================================================================================================================================================================================================================================================================================================================================================================================================================================================================================================================================================================================================================================================================================================================================================================================================================================================================================================================================================================================================================================================================================================================================================================================================================================================================================================================================================================================================================================================================================================================================================================================================================================================================================================================================================================================================================================================================================================================================================================================================================================================================================================================================================================================================================================================================================================================================================================================================================================================================================================================================================================================================================================================================================================================================================================================================================================================================================================================================================================================================================================================================================================================================================================================================================================================================================================================================================================================================================================================================================================================================================================================================================================================================================================================================================================================================================================================================================================================================================================================================================================================================================================================================================================================================================================================================================================================================================================================================================================================================================================================================================================================================================================================================================================================================================================================================================================================================================================================================================================================================================================================================================================================================================================================================================================================================================================================================================================================================================================================================================================================================================================================================================================================================================================================================================================================================================================================================================================================================================================================================================================================================================================================================================================================================================================================================================================================================================================================================================================================================================================================================================================================================================================================================================================================================================================================================================================================================================================================================================================================================================================================================================================================================================================================================================================================================================================================================================================================================================================================================================================================================================================================================================================================================================================================================================================================================================================================================================================================================================================================================================================================================================================================================================================================================================================================================================================================================================================================================================================================================================================================================================================================================================================================================================================================================================================================================================================================================================================================================================================================================================================================================================================================================================================================================================================================================================================================================================================================================================================================================================================================================================================================================================================================================================================================================================================================================================================================================================================================================================================================================================================================================================================================================================================================================================================================================================================================================================================================================================================================================================================================================================================================================================================================================================================================================================================================================================================================================================================================================================================================================================================================================================================================================================================================================================================================================================================================================================================================================================================================================================================================================================================================================================================================================================================================================================================================================================================================================================================================================================================================================================================================================================================================================================================================================================================================================================================================================================================================================================================================================================================================================================================================================================================================================================================================================================================================================================================================================================================================================================================================================================================================================================================================================================================================================================================================================================================================================================================================================================================================================================================================================================================================================================================================================================================================================================================================================================================================================================================================================================================================================================================================================================================================================================================================================================================================================================================================================================================================================================================================================================================================================================================================================================================================================================================================================================================================================================================================================================================================================================================================================================================================================================================================================================================================================================================================================================================================================================================================================================================================================================================================================================================================================================================================================================================================================================================================================================================================================================================================================================================================================================================================================================================================================================================================================================================================================================================================================================================================================================================================================================================================================================================================================================================================================================================================================================================================================================================================================================================================================================================================================================================================================================================================================================================================================================================================================================================================================================================================================================================================================================================================================================================================================================================================================================================================================================================================================================================================================================================================================================================================================================================================================================================================================================================================================================================================================================================================================================================================================================================================================================================================================================================================================================================================================================================================================================================================================================================================================================================================================================================================================================================================================================================================================================================================================================================================================================================================================================================================================================================================================================================================================================================================================================================================================================================================================================================================================================================================================================================================================================================================================================================================================================================================================================================================================================================================================================================================================================================================================================================================================================================================================================================================================================================================================================================================================================================================================================================================================================================================================================================================================================================================================================================================================================================================================================================================================================================================================================================================================================================================================================================================================================================================================================================================================================================================================================================================================================================================================================================================================================================================================================================================================================================================================================================================================================================================================================================================================================================================================================================================================================================================================================================================================================================================================================================================================================================================================================================================================================================================================================================================================================================================================================================================================================================================================================================================================================================================================================================================================================================================================================================================================================================================================================================================================================================================================================================================================================================================================================================================================================================================================================================================================================================================================================================================================================================================================================================================================================================================================================================================================================================================================================================================================================================================================================================================================================================================================================================================================================================================================================================================================================================================================================================================================================================================================================================================================================================================================================================================================================================================================================================================================================================================================================================================================================================================================================================================================================================================================================================================================================================================================================================================================================================================================================================================================================================================================================================================================================================================================================================================================================================================================================================================================================================================================================================================================================================================================================================================================================================================================================================================================================================================================================================================================================================================================================================================================================================================================================================================================================================================================================================================================================================================================================================================================] - 30s 19ms/sample - loss: 0.3165 - categorical_accuracy: 0.9617\n",
            "Test Accuracy: 96.167880\n"
          ],
          "name": "stdout"
        }
      ]
    },
    {
      "cell_type": "code",
      "metadata": {
        "id": "oqqF14Z0rwEj"
      },
      "source": [
        "y_pred_blstm = model_blstm.predict_classes(x_test_padded)"
      ],
      "execution_count": null,
      "outputs": []
    },
    {
      "cell_type": "code",
      "metadata": {
        "id": "g2e9xe5DK1Tq"
      },
      "source": [
        "text = []\n",
        "true_label = []\n",
        "pred_label = []\n",
        "social = 0\n",
        "Economical = 0\n",
        "International = 0\n",
        "Political = 0\n",
        "technology = 0\n",
        "art = 0\n",
        "Sports = 0\n",
        "medical = 0\n",
        "\n",
        "for i in range(len(y_pred_blstm)):\n",
        "  text.append(x_test[i])\n",
        "  true_label.append(y_test[i])\n",
        "\n",
        "  if y_pred_blstm[i] == 0:\n",
        "    social +=1\n",
        "    pred_label.append(\"اجتماعی\")\n",
        "  elif y_pred_blstm[i] == 1:\n",
        "    Economical +=1\n",
        "    pred_label.append(\"اقتصادی\")\n",
        "  elif y_pred_blstm[i] == 2:\n",
        "    International +=1  \n",
        "    pred_label.append(\"بین الملل\")\n",
        "  if y_pred_blstm[i] == 3:\n",
        "    Political +=1\n",
        "    pred_label.append(\"سیاسی\")\n",
        "  elif y_pred_blstm[i] == 4:\n",
        "    technology +=1\n",
        "    pred_label.append(\"علمی فناوری\")\n",
        "  elif y_pred_blstm[i] == 5:\n",
        "    art +=1\n",
        "    pred_label.append(\"فرهنگی هنری\")\n",
        "  if y_pred_blstm[i] == 6:\n",
        "    Sports +=1\n",
        "    pred_label.append(\"ورزشی\")\n",
        "  elif y_pred_blstm[i] == 7:\n",
        "    medical +=1\n",
        "    pred_label.append(\"پزشکی\")\n",
        "\n"
      ],
      "execution_count": null,
      "outputs": []
    },
    {
      "cell_type": "markdown",
      "metadata": {
        "id": "27p71wWfbQ6S"
      },
      "source": [
        "\n",
        "\n",
        "```\n",
        "array([1, 0, 1, 1, 1, 2, 4, 2, 3, 0, 0, 0, 1, 2, 0, 1, 0, 1, 0, 4, 0, 4,\n",
        "       1, 1, 1, 4, 0, 4, 1, 2, 1, 1, 4, 0, 1, 0, 1, 1, 0, 1, 1, 0, 2, 0,\n",
        "       3, 4, 0, 4, 1, 1])\n",
        "       ```\n",
        "\n"
      ]
    },
    {
      "cell_type": "code",
      "metadata": {
        "id": "J5ku9WKpmsrO",
        "colab": {
          "base_uri": "https://localhost:8080/"
        },
        "outputId": "da8c0ddd-e86d-4c95-f2ef-4102937016ad"
      },
      "source": [
        "print(\"اجتماعی: \" , (social/1644)*100)\n",
        "print(\"اقتصادی: \" , (Economical/1644)*100)\n",
        "print(\"بین الملل: \" , (International/1644)*100)\n",
        "print(\"سیاسی: \" , (Political/1644)*100)\n",
        "print(\"علمی فناوری: \" , (technology/1644)*100)\n",
        "print(\"فرهنگی هنری: \" , (art/1644)*100)\n",
        "print(\"ورزشی: \" , (Sports/1644)*100)\n",
        "print(\"پزشکی: \" , (medical/1644)*100)\n",
        "\n"
      ],
      "execution_count": null,
      "outputs": [
        {
          "output_type": "stream",
          "text": [
            "اجتماعی:  12.530413625304138\n",
            "اقتصادی:  9.549878345498783\n",
            "بین الملل:  11.861313868613138\n",
            "سیاسی:  13.80778588807786\n",
            "علمی فناوری:  14.78102189781022\n",
            "فرهنگی هنری:  15.875912408759124\n",
            "ورزشی:  8.394160583941606\n",
            "پزشکی:  13.199513381995134\n"
          ],
          "name": "stdout"
        }
      ]
    },
    {
      "cell_type": "code",
      "metadata": {
        "id": "kstSvMwOMXWc"
      },
      "source": [
        "dataFrame = pd.DataFrame({\"text\":text, \"true label\":true_label, \"prediction label\":pred_label})"
      ],
      "execution_count": null,
      "outputs": []
    },
    {
      "cell_type": "code",
      "metadata": {
        "id": "xTOk2VrcNL-Z"
      },
      "source": [
        "dataFrame.to_excel(\"prediction2BLstm.xlsx\", index=False)"
      ],
      "execution_count": null,
      "outputs": []
    },
    {
      "cell_type": "markdown",
      "metadata": {
        "id": "Y1rxfz0RClLf"
      },
      "source": [
        "#LSTM"
      ]
    },
    {
      "cell_type": "code",
      "metadata": {
        "id": "a3zRzBkB2shI"
      },
      "source": [
        "# Embed valid sequences\n",
        "encoded_docs1 = tokenizer.texts_to_sequences(valid_docs)\n",
        "x_valid_padded = pad_sequences(encoded_docs1, maxlen=max_length, padding='post')"
      ],
      "execution_count": null,
      "outputs": []
    },
    {
      "cell_type": "code",
      "metadata": {
        "id": "zT2PpRMyP2_S"
      },
      "source": [
        "model_lstm = Sequential()\n",
        "model_lstm.add(Embedding(vocab_size, 100, input_length=max_length))\n",
        "model_lstm.add(LSTM(100, return_sequences=True, name='lstm_layer'))\n",
        "model_lstm.add(GlobalMaxPool1D())\n",
        "model_lstm.add(Dropout(0.25))\n",
        "model_lstm.add(Dense(300, activation=\"relu\"))\n",
        "model_lstm.add(Dropout(0.2))\n",
        "model_lstm.add(Dense(8, activation='softmax'))"
      ],
      "execution_count": null,
      "outputs": []
    },
    {
      "cell_type": "code",
      "metadata": {
        "id": "2j3q6GoE95qx",
        "colab": {
          "base_uri": "https://localhost:8080/"
        },
        "outputId": "c063383a-5f38-453e-c51b-35f5b93c9a1b"
      },
      "source": [
        "model_lstm.compile(loss='categorical_crossentropy',\n",
        "              optimizer='adam',\n",
        "              metrics=[\"categorical_accuracy\"])\n",
        "model_lstm.summary()"
      ],
      "execution_count": null,
      "outputs": [
        {
          "output_type": "stream",
          "text": [
            "Model: \"sequential_1\"\n",
            "_________________________________________________________________\n",
            "Layer (type)                 Output Shape              Param #   \n",
            "=================================================================\n",
            "embedding_1 (Embedding)      (None, 18907, 100)        6405100   \n",
            "_________________________________________________________________\n",
            "lstm_layer (LSTM)            (None, 18907, 100)        80400     \n",
            "_________________________________________________________________\n",
            "global_max_pooling1d_1 (Glob (None, 100)               0         \n",
            "_________________________________________________________________\n",
            "dropout_2 (Dropout)          (None, 100)               0         \n",
            "_________________________________________________________________\n",
            "dense_2 (Dense)              (None, 300)               30300     \n",
            "_________________________________________________________________\n",
            "dropout_3 (Dropout)          (None, 300)               0         \n",
            "_________________________________________________________________\n",
            "dense_3 (Dense)              (None, 8)                 2408      \n",
            "=================================================================\n",
            "Total params: 6,518,208\n",
            "Trainable params: 6,518,208\n",
            "Non-trainable params: 0\n",
            "_________________________________________________________________\n"
          ],
          "name": "stdout"
        }
      ]
    },
    {
      "cell_type": "code",
      "metadata": {
        "id": "T3wYFg8_-EUk",
        "colab": {
          "base_uri": "https://localhost:8080/"
        },
        "outputId": "62c6d76e-02b3-48c5-c61f-294a4d489355"
      },
      "source": [
        "hist_lstm = model_lstm.fit(\n",
        "    x_train_padded, categorical_label_train,validation_data=(x_valid_padded,categorical_label_valid),\n",
        "    batch_size=64, epochs=10,\n",
        "    shuffle=True, verbose=1)"
      ],
      "execution_count": null,
      "outputs": [
        {
          "output_type": "stream",
          "text": [
            "Train on 13314 samples, validate on 1480 samples\n",
            "Epoch 1/10\n",
            "13314/13314 [==============================] - 236s 18ms/sample - loss: 1.0439 - categorical_accuracy: 0.6272 - val_loss: 0.2863 - val_categorical_accuracy: 0.8959\n",
            "Epoch 2/10\n",
            "13314/13314 [==============================] - 234s 18ms/sample - loss: 0.2070 - categorical_accuracy: 0.9365 - val_loss: 0.1875 - val_categorical_accuracy: 0.9439\n",
            "Epoch 3/10\n",
            "13314/13314 [==============================] - 233s 18ms/sample - loss: 0.1182 - categorical_accuracy: 0.9627 - val_loss: 0.1682 - val_categorical_accuracy: 0.9439\n",
            "Epoch 4/10\n",
            "13314/13314 [==============================] - 233s 17ms/sample - loss: 0.0903 - categorical_accuracy: 0.9717 - val_loss: 0.1794 - val_categorical_accuracy: 0.9459\n",
            "Epoch 5/10\n",
            "13314/13314 [==============================] - 232s 17ms/sample - loss: 0.0663 - categorical_accuracy: 0.9795 - val_loss: 0.1721 - val_categorical_accuracy: 0.9480\n",
            "Epoch 6/10\n",
            "13314/13314 [==============================] - 231s 17ms/sample - loss: 0.0460 - categorical_accuracy: 0.9845 - val_loss: 0.2084 - val_categorical_accuracy: 0.9419\n",
            "Epoch 7/10\n",
            "13314/13314 [==============================] - 232s 17ms/sample - loss: 0.0389 - categorical_accuracy: 0.9884 - val_loss: 0.1944 - val_categorical_accuracy: 0.9473\n",
            "Epoch 8/10\n",
            "13314/13314 [==============================] - 232s 17ms/sample - loss: 0.0293 - categorical_accuracy: 0.9915 - val_loss: 0.1916 - val_categorical_accuracy: 0.9493\n",
            "Epoch 9/10\n",
            "13314/13314 [==============================] - 232s 17ms/sample - loss: 0.0285 - categorical_accuracy: 0.9924 - val_loss: 0.2124 - val_categorical_accuracy: 0.9453\n",
            "Epoch 10/10\n",
            "13314/13314 [==============================] - 230s 17ms/sample - loss: 0.0249 - categorical_accuracy: 0.9921 - val_loss: 0.1989 - val_categorical_accuracy: 0.9514\n"
          ],
          "name": "stdout"
        }
      ]
    },
    {
      "cell_type": "code",
      "metadata": {
        "id": "wLSBuDob-Xw-",
        "colab": {
          "base_uri": "https://localhost:8080/"
        },
        "outputId": "9ca1d8f8-7578-4517-bec1-a20edadc5c42"
      },
      "source": [
        "# Evaluate model\n",
        "loss_lstm, acc_lstm = model_lstm.evaluate(x_test_padded, categorical_y_test, verbose=1)\n",
        "print('Test Accuracy: %f' % (acc_lstm*100))"
      ],
      "execution_count": null,
      "outputs": [
        {
          "output_type": "stream",
          "text": [
            "\r1644/1 [========================================================================================================================================================================================================================================================================================================================================================================================================================================================================================================================================================================================================================================================================================================================================================================================================================================================================================================================================================================================================================================================================================================================================================================================================================================================================================================================================================================================================================================================================================================================================================================================================================================================================================================================================================================================================================================================================================================================================================================================================================================================================================================================================================================================================================================================================================================================================================================================================================================================================================================================================================================================================================================================================================================================================================================================================================================================================================================================================================================================================================================================================================================================================================================================================================================================================================================================================================================================================================================================================================================================================================================================================================================================================================================================================================================================================================================================================================================================================================================================================================================================================================================================================================================================================================================================================================================================================================================================================================================================================================================================================================================================================================================================================================================================================================================================================================================================================================================================================================================================================================================================================================================================================================================================================================================================================================================================================================================================================================================================================================================================================================================================================================================================================================================================================================================================================================================================================================================================================================================================================================================================================================================================================================================================================================================================================================================================================================================================================================================================================================================================================================================================================================================================================================================================================================================================================================================================================================================================================================================================================================================================================================================================================================================================================================================================================================================================================================================================================================================================================================================================================================================================================================================================================================================================================================================================================================================================================================================================================================================================================================================================================================================================================================================================================================================================================================================================================================================================================================================================================================================================================================================================================================================================================================================================================================================================================================================================================================================================================================================================================================================================================================================================================================================================================================================================================================================================================================================================================================================================================================================================================================================================================================================================================================================================================================================================================================================================================================================================================================================================================================================================================================================================================================================================================================================================================================================================================================================================================================================================================================================================================================================================================================================================================================================================================================================================================================================================================================================================================================================================================================================================================================================================================================================================================================================================================================================================================================================================================================================================================================================================================================================================================================================================================================================================================================================================================================================================================================================================================================================================================================================================================================================================================================================================================================================================================================================================================================================================================================================================================================================================================================================================================================================================================================================================================================================================================================================================================================================================================================================================================================================================================================================================================================================================================================================================================================================================================================================================================================================================================================================================================================================================================================================================================================================================================================================================================================================================================================================================================================================================================================================================================================================================================================================================================================================================================================================================================================================================================================================================================================================================================================================================================================================================================================================================================================================================================================================================================================================================================================================================================================================================================================================================================================================================================================================================================================================================================================================================================================================================================================================================================================================================================================================================================================================================================================================================================================================================================================================================================================================================================================================================================================================================================================================================================================================================================================================================================================================================================================================================================================================================================================================================================================================================================================================================================================================================================================================================================================================================================================================================================================================================================================================================================================================================================================================================================================================================================================================================================================================================================================================================================================================================================================================================================================================================================================================================================================================================================================================================================================================================================================================================================================================================================================================================================================================================================================================================================================================================================================================================================================================================================================================================================================================================================================================================================================================================================================================================================================================================================================================================================================================================================================================================================================================================================================================================================================================================================================================================================================================================================================================================================================================================================================================================================================================================================================================================================================================================================================================================================================================================================================================================================================================================================================================================================================================================================================================================================================================================================================================================================================================================================================================================================================================================================================================================================================================================================================================================================================================================================================================================================================================================================================================================================================================================================================================================================================================================================================================================================================================================================================================================================================================================================================================================================================================================================================================================================================================================================================================================================================================================================================================================================================================================================================================================================================================================================================================================================================================================================================================================================================================================================================================================================================================================================================================================================================================================================================================================================================================================================================================================================================================================================================================================================================================================================================================================================================================================================================================================================================================================================================================================================================================================================================================================================================================================================================================================================================================================================================================================================================================================================================================================================================================================================================================================================================================================================================================================================================================================================================================================================================================================================================================================================================================================================================================================================================================================================================================================================================================================================================================================================================================================================================================================================================================================================================================================================================================================================================================================================================================================================================================================================================================================================================================================================================================================================================================================================================================================================================================================================================================================================================================================================================================================================================================================================================================================================================================================================================================================================================================================================================================================================================================================================================================================================================================================================================================================================================================================================================================================================================================================================================================================================================================================================================================================================================================================================================================================================================================================================================================================================================================================================================================================================================================================================================================================================================================================================================================================================================================================================================================================================================================================================================================================================================================================================================================================================================================================================================================================================================================================================================================================================================================================================================================================================================================================================================================================================================================================================================================================================================================================================================================================================================================================================================================================================================================================================================================================================================================================================================================================================================================================================================================================================================================================================================================================================================================================================================================================================================================================================================================================================================================================================================================================================================================================================================================================================================================================================================================================================================================================================================================================================================================================================================================================================================================================================================================================================================================================================================================================================================================================================================================================================================================================================================================================================================================================================================================================================================================================================================================================================================================================================================================================================================================================================================================================================================================================================================================================================================================================================================================================================================================================================================================================================================================================================================================================================================================================================================================================================================================================================================================================================================================================================================================================================================================================================================================================================================================================================================================================================================================================================================================================================================================================================================================================================================================================================================================================================================================================================================================================================================================================================================================================================================================================================================================================================================================================================================================================================================================================================================================================================================================================================================================================================================================================================================================================================================================================================================================================================================================================================================================================================================================================================================================================================================================================================================================================================================================================================================================================================================================================================================================================================================================================================================================================================================================================================================================================================================================================================================================================================================================================================================================================================================================================================================================================================================================================================================================================================================================================================================================================================================================================================================================================================================================================================================================================================================================================================================================================================================================================================================================================================================================================================================================================================================================================================================================================================================================================================================================================================================================================================================================================================================================================================================================================================================================================================================================================================================================================================================================================================================================================================================================================================================================================================================================================================================================================================================================================================================================================================================================================================================================================================================================================================================================================================================================================================================================================================================================================================================================================================================================================================================================================================================================================================================================================================================================================================================================================================================================================================================================================================================================================================================================================================================================================================================================================================================================================================================================================================================================================================================================================================================================================================================================================================================================================================================================================================================================================================================================================================================================================================================================================================================================================================================================================================================================================================================================================================================================================================================================================================================================================================================================================================================================================================================================================================================================================================================================================================================================================================================================================================================================================================================================================================================================================================================================================================================================================================================================================================================================================================================================================================================================================================================================================================================================================================================================================================================================================================================================================================================================================================================================================================================================================================================================================================================================================================================================================================================================================================================================================================================================================================================================================================================================================================================================================================================================================================================================================================================================================================================================================================================================================================================================================================================================================================================================================================================================================================================================================================================================================================================================================================================================================================================================================================================================================================================================================================================================================================================================================================================================================================================================================================================================================================================================================================================================================================================================================================================================================================================================================================================================================================================================================================================================================================================================================================================================================================================================================================================================================================================================================================================================================================================================================================================================================================================================================================================================================================================================================================================================================================================================================================================================================================================================================================================================================================================================================================================================================================================================================================================================================================================================================================================================================================================================================================================================================================================================================================================================================================================================================================================================================================================================================================================================================================================================================================================================================================================================================================================================================================================================================================================================================================================================================================================================================================================================================================================================================================================================================================================================================================================================================================================================================================================================================================================================================================================================================================================================================================================================================================================================================================================================================================================================================================================================================================================================================================================================================================================================================================================================================================================================================================================================================================================================================================================================================================================================================================================================================================================================================================================================================================================================================================================================================================================================================================================================================================================================================================================================================================================================================================================================================================================================================================================================================================================================================================================================================================================================================================================================================================================================================================================================================================================================================================================================================================================================================================================================================================================================================================================================================================================================================================================================================================================================================================================================================================================================================================================================================================================================================================================================================================================================================================================================================================================================================================================================================================================================================================================================] - 16s 10ms/sample - loss: 0.1314 - categorical_accuracy: 0.9562\n",
            "Test Accuracy: 95.620435\n"
          ],
          "name": "stdout"
        }
      ]
    },
    {
      "cell_type": "code",
      "metadata": {
        "id": "sn1wJukrXbRK"
      },
      "source": [
        "y_pred_lstm = model_lstm.predict_classes(x_test_padded)"
      ],
      "execution_count": null,
      "outputs": []
    },
    {
      "cell_type": "code",
      "metadata": {
        "id": "PItPiV5AXhI-"
      },
      "source": [
        "text = []\n",
        "true_label = []\n",
        "pred_label = []\n",
        "social = 0\n",
        "Economical = 0\n",
        "International = 0\n",
        "Political = 0\n",
        "technology = 0\n",
        "art = 0\n",
        "Sports = 0\n",
        "medical = 0\n",
        "\n",
        "for i in range(len(y_pred_lstm)):\n",
        "  text.append(x_test[i])\n",
        "  true_label.append(y_test[i])\n",
        "\n",
        "   \n",
        "  if y_pred_blstm[i] == 0:\n",
        "    social +=1\n",
        "    pred_label.append(\"اجتماعی\")\n",
        "  elif y_pred_blstm[i] == 1:\n",
        "    Economical +=1\n",
        "    pred_label.append(\"اقتصادی\")\n",
        "  elif y_pred_blstm[i] == 2:\n",
        "    International +=1  \n",
        "    pred_label.append(\"بین الملل\")\n",
        "  if y_pred_blstm[i] == 3:\n",
        "    Political +=1\n",
        "    pred_label.append(\"سیاسی\")\n",
        "  elif y_pred_blstm[i] == 4:\n",
        "    technology +=1\n",
        "    pred_label.append(\"علمی فناوری\")\n",
        "  elif y_pred_blstm[i] == 5:\n",
        "    art +=1\n",
        "    pred_label.append(\"فرهنگی هنری\")\n",
        "  if y_pred_blstm[i] == 6:\n",
        "    Sports +=1\n",
        "    pred_label.append(\"ورزشی\")\n",
        "  elif y_pred_blstm[i] == 7:\n",
        "    medical +=1\n",
        "    pred_label.append(\"پزشکی\")\n"
      ],
      "execution_count": null,
      "outputs": []
    },
    {
      "cell_type": "code",
      "metadata": {
        "colab": {
          "base_uri": "https://localhost:8080/"
        },
        "id": "yLoLq_0UXwX-",
        "outputId": "5af16e28-ca83-46ac-f21d-51418681fe96"
      },
      "source": [
        "print(\"اجتماعی: \" , (social/1644)*100)\n",
        "print(\"اقتصادی: \" , (Economical/1644)*100)\n",
        "print(\"بین الملل: \" , (International/1644)*100)\n",
        "print(\"سیاسی: \" , (Political/1644)*100)\n",
        "print(\"علمی فناوری: \" , (technology/1644)*100)\n",
        "print(\"فرهنگی هنری: \" , (art/1644)*100)\n",
        "print(\"ورزشی: \" , (Sports/1644)*100)\n",
        "print(\"پزشکی: \" , (medical/1644)*100)\n",
        "\n"
      ],
      "execution_count": null,
      "outputs": [
        {
          "output_type": "stream",
          "text": [
            "اجتماعی:  12.530413625304138\n",
            "اقتصادی:  9.549878345498783\n",
            "بین الملل:  11.861313868613138\n",
            "سیاسی:  13.80778588807786\n",
            "علمی فناوری:  14.78102189781022\n",
            "فرهنگی هنری:  15.875912408759124\n",
            "ورزشی:  8.394160583941606\n",
            "پزشکی:  13.199513381995134\n"
          ],
          "name": "stdout"
        }
      ]
    },
    {
      "cell_type": "code",
      "metadata": {
        "id": "61D-JJxOX4JT"
      },
      "source": [
        "dataFrame = pd.DataFrame({\"text\":text, \"true label\":true_label, \"prediction label\":pred_label})"
      ],
      "execution_count": null,
      "outputs": []
    },
    {
      "cell_type": "code",
      "metadata": {
        "id": "LC3uQj_8X8IB"
      },
      "source": [
        "dataFrame.to_excel(\"prediction2Lstm.xlsx\", index=False)"
      ],
      "execution_count": null,
      "outputs": []
    },
    {
      "cell_type": "markdown",
      "metadata": {
        "id": "bb5NaYXRfyB8"
      },
      "source": [
        "#GRU"
      ]
    },
    {
      "cell_type": "code",
      "metadata": {
        "id": "FYsa9mJwfdvd"
      },
      "source": [
        "from tensorflow.keras.layers import GRU\n",
        "model_GRU = Sequential()\n",
        "model_GRU.add(Embedding(vocab_size, 100, input_length=max_length))\n",
        "model_GRU.add(GRU(100, return_sequences=True, name='gru_layer'))\n",
        "model_GRU.add(GlobalMaxPool1D())\n",
        "model_GRU.add(Dropout(0.25))\n",
        "model_GRU.add(Dense(300, activation=\"relu\"))\n",
        "model_GRU.add(Dropout(0.2))\n",
        "model_GRU.add(Dense(8, activation='softmax'))"
      ],
      "execution_count": null,
      "outputs": []
    },
    {
      "cell_type": "code",
      "metadata": {
        "id": "WYzGBvXXfd9W",
        "colab": {
          "base_uri": "https://localhost:8080/"
        },
        "outputId": "ecf1a6ea-d2ed-4998-813e-a89e137705d6"
      },
      "source": [
        "model_GRU.compile(loss='categorical_crossentropy',\n",
        "              optimizer='adam',\n",
        "              metrics=[\"categorical_accuracy\"])\n",
        "model_GRU.summary()"
      ],
      "execution_count": null,
      "outputs": [
        {
          "output_type": "stream",
          "text": [
            "Model: \"sequential_3\"\n",
            "_________________________________________________________________\n",
            "Layer (type)                 Output Shape              Param #   \n",
            "=================================================================\n",
            "embedding_3 (Embedding)      (None, 18907, 100)        6405100   \n",
            "_________________________________________________________________\n",
            "gru_layer (GRU)              (None, 18907, 100)        60600     \n",
            "_________________________________________________________________\n",
            "global_max_pooling1d_3 (Glob (None, 100)               0         \n",
            "_________________________________________________________________\n",
            "dropout_6 (Dropout)          (None, 100)               0         \n",
            "_________________________________________________________________\n",
            "dense_6 (Dense)              (None, 300)               30300     \n",
            "_________________________________________________________________\n",
            "dropout_7 (Dropout)          (None, 300)               0         \n",
            "_________________________________________________________________\n",
            "dense_7 (Dense)              (None, 8)                 2408      \n",
            "=================================================================\n",
            "Total params: 6,498,408\n",
            "Trainable params: 6,498,408\n",
            "Non-trainable params: 0\n",
            "_________________________________________________________________\n"
          ],
          "name": "stdout"
        }
      ]
    },
    {
      "cell_type": "code",
      "metadata": {
        "id": "4PAxywo5f3qd",
        "colab": {
          "base_uri": "https://localhost:8080/"
        },
        "outputId": "cfddd510-e477-4b58-af23-c5521a5a1e7e"
      },
      "source": [
        "hist_GRU = model_GRU.fit(\n",
        "    x_train_padded, categorical_label_train,validation_data=(x_valid_padded,categorical_label_valid),\n",
        "    batch_size=64, epochs=20,\n",
        "    shuffle=True, verbose=1)"
      ],
      "execution_count": null,
      "outputs": [
        {
          "output_type": "stream",
          "text": [
            "Train on 13314 samples, validate on 1480 samples\n",
            "Epoch 1/20\n",
            "13314/13314 [==============================] - 202s 15ms/sample - loss: 0.9279 - categorical_accuracy: 0.6862 - val_loss: 0.1887 - val_categorical_accuracy: 0.9365\n",
            "Epoch 2/20\n",
            "13314/13314 [==============================] - 200s 15ms/sample - loss: 0.1507 - categorical_accuracy: 0.9526 - val_loss: 0.1542 - val_categorical_accuracy: 0.9527\n",
            "Epoch 3/20\n",
            "13314/13314 [==============================] - 197s 15ms/sample - loss: 0.0967 - categorical_accuracy: 0.9689 - val_loss: 0.1430 - val_categorical_accuracy: 0.9534\n",
            "Epoch 4/20\n",
            "13314/13314 [==============================] - 197s 15ms/sample - loss: 0.0692 - categorical_accuracy: 0.9774 - val_loss: 0.1591 - val_categorical_accuracy: 0.9514\n",
            "Epoch 5/20\n",
            "13314/13314 [==============================] - 197s 15ms/sample - loss: 0.0510 - categorical_accuracy: 0.9846 - val_loss: 0.1592 - val_categorical_accuracy: 0.9500\n",
            "Epoch 6/20\n",
            "13314/13314 [==============================] - 198s 15ms/sample - loss: 0.0425 - categorical_accuracy: 0.9875 - val_loss: 0.1492 - val_categorical_accuracy: 0.9541\n",
            "Epoch 7/20\n",
            "13314/13314 [==============================] - 198s 15ms/sample - loss: 0.0283 - categorical_accuracy: 0.9918 - val_loss: 0.1820 - val_categorical_accuracy: 0.9507\n",
            "Epoch 8/20\n",
            "13314/13314 [==============================] - 198s 15ms/sample - loss: 0.0196 - categorical_accuracy: 0.9945 - val_loss: 0.1771 - val_categorical_accuracy: 0.9574\n",
            "Epoch 9/20\n",
            "13314/13314 [==============================] - 198s 15ms/sample - loss: 0.0178 - categorical_accuracy: 0.9941 - val_loss: 0.1878 - val_categorical_accuracy: 0.9561\n",
            "Epoch 10/20\n",
            "13314/13314 [==============================] - 198s 15ms/sample - loss: 0.0166 - categorical_accuracy: 0.9944 - val_loss: 0.2136 - val_categorical_accuracy: 0.9486\n",
            "Epoch 11/20\n",
            "13314/13314 [==============================] - 197s 15ms/sample - loss: 0.0157 - categorical_accuracy: 0.9956 - val_loss: 0.2047 - val_categorical_accuracy: 0.9554\n",
            "Epoch 12/20\n",
            "13314/13314 [==============================] - 198s 15ms/sample - loss: 0.0104 - categorical_accuracy: 0.9967 - val_loss: 0.2158 - val_categorical_accuracy: 0.9520\n",
            "Epoch 13/20\n",
            "13314/13314 [==============================] - 198s 15ms/sample - loss: 0.0118 - categorical_accuracy: 0.9968 - val_loss: 0.2268 - val_categorical_accuracy: 0.9500\n",
            "Epoch 14/20\n",
            "13314/13314 [==============================] - 198s 15ms/sample - loss: 0.0097 - categorical_accuracy: 0.9979 - val_loss: 0.2485 - val_categorical_accuracy: 0.9473\n",
            "Epoch 15/20\n",
            "13314/13314 [==============================] - 198s 15ms/sample - loss: 0.0114 - categorical_accuracy: 0.9966 - val_loss: 0.2443 - val_categorical_accuracy: 0.9541\n",
            "Epoch 16/20\n",
            "13314/13314 [==============================] - 198s 15ms/sample - loss: 0.0067 - categorical_accuracy: 0.9978 - val_loss: 0.2592 - val_categorical_accuracy: 0.9486\n",
            "Epoch 17/20\n",
            "13314/13314 [==============================] - 198s 15ms/sample - loss: 0.0094 - categorical_accuracy: 0.9965 - val_loss: 0.2808 - val_categorical_accuracy: 0.9514\n",
            "Epoch 18/20\n",
            "13314/13314 [==============================] - 197s 15ms/sample - loss: 0.0081 - categorical_accuracy: 0.9977 - val_loss: 0.2830 - val_categorical_accuracy: 0.9459\n",
            "Epoch 19/20\n",
            "13314/13314 [==============================] - 196s 15ms/sample - loss: 0.0073 - categorical_accuracy: 0.9975 - val_loss: 0.2449 - val_categorical_accuracy: 0.9554\n",
            "Epoch 20/20\n",
            "13314/13314 [==============================] - 196s 15ms/sample - loss: 0.0053 - categorical_accuracy: 0.9981 - val_loss: 0.2676 - val_categorical_accuracy: 0.9500\n"
          ],
          "name": "stdout"
        }
      ]
    },
    {
      "cell_type": "code",
      "metadata": {
        "id": "Se2LgWWsgIGw",
        "colab": {
          "base_uri": "https://localhost:8080/"
        },
        "outputId": "1f300dae-10f5-44a0-ad82-c8fe12528373"
      },
      "source": [
        "# Evaluate model\n",
        "loss_GRU, acc_GRU = model_GRU.evaluate(x_test_padded, categorical_y_test, verbose=1)\n",
        "print('Test Accuracy: %f' % (acc_GRU*100))"
      ],
      "execution_count": null,
      "outputs": [
        {
          "output_type": "stream",
          "text": [
            "\r1644/1 [========================================================================================================================================================================================================================================================================================================================================================================================================================================================================================================================================================================================================================================================================================================================================================================================================================================================================================================================================================================================================================================================================================================================================================================================================================================================================================================================================================================================================================================================================================================================================================================================================================================================================================================================================================================================================================================================================================================================================================================================================================================================================================================================================================================================================================================================================================================================================================================================================================================================================================================================================================================================================================================================================================================================================================================================================================================================================================================================================================================================================================================================================================================================================================================================================================================================================================================================================================================================================================================================================================================================================================================================================================================================================================================================================================================================================================================================================================================================================================================================================================================================================================================================================================================================================================================================================================================================================================================================================================================================================================================================================================================================================================================================================================================================================================================================================================================================================================================================================================================================================================================================================================================================================================================================================================================================================================================================================================================================================================================================================================================================================================================================================================================================================================================================================================================================================================================================================================================================================================================================================================================================================================================================================================================================================================================================================================================================================================================================================================================================================================================================================================================================================================================================================================================================================================================================================================================================================================================================================================================================================================================================================================================================================================================================================================================================================================================================================================================================================================================================================================================================================================================================================================================================================================================================================================================================================================================================================================================================================================================================================================================================================================================================================================================================================================================================================================================================================================================================================================================================================================================================================================================================================================================================================================================================================================================================================================================================================================================================================================================================================================================================================================================================================================================================================================================================================================================================================================================================================================================================================================================================================================================================================================================================================================================================================================================================================================================================================================================================================================================================================================================================================================================================================================================================================================================================================================================================================================================================================================================================================================================================================================================================================================================================================================================================================================================================================================================================================================================================================================================================================================================================================================================================================================================================================================================================================================================================================================================================================================================================================================================================================================================================================================================================================================================================================================================================================================================================================================================================================================================================================================================================================================================================================================================================================================================================================================================================================================================================================================================================================================================================================================================================================================================================================================================================================================================================================================================================================================================================================================================================================================================================================================================================================================================================================================================================================================================================================================================================================================================================================================================================================================================================================================================================================================================================================================================================================================================================================================================================================================================================================================================================================================================================================================================================================================================================================================================================================================================================================================================================================================================================================================================================================================================================================================================================================================================================================================================================================================================================================================================================================================================================================================================================================================================================================================================================================================================================================================================================================================================================================================================================================================================================================================================================================================================================================================================================================================================================================================================================================================================================================================================================================================================================================================================================================================================================================================================================================================================================================================================================================================================================================================================================================================================================================================================================================================================================================================================================================================================================================================================================================================================================================================================================================================================================================================================================================================================================================================================================================================================================================================================================================================================================================================================================================================================================================================================================================================================================================================================================================================================================================================================================================================================================================================================================================================================================================================================================================================================================================================================================================================================================================================================================================================================================================================================================================================================================================================================================================================================================================================================================================================================================================================================================================================================================================================================================================================================================================================================================================================================================================================================================================================================================================================================================================================================================================================================================================================================================================================================================================================================================================================================================================================================================================================================================================================================================================================================================================================================================================================================================================================================================================================================================================================================================================================================================================================================================================================================================================================================================================================================================================================================================================================================================================================================================================================================================================================================================================================================================================================================================================================================================================================================================================================================================================================================================================================================================================================================================================================================================================================================================================================================================================================================================================================================================================================================================================================================================================================================================================================================================================================================================================================================================================================================================================================================================================================================================================================================================================================================================================================================================================================================================================================================================================================================================================================================================================================================================================================================================================================================================================================================================================================================================================================================================================================================================================================================================================================================================================================================================================================================================================================================================================================================================================================================================================================================================================================================================================================================================================================================================================================================================================================================================================================================================================================================================================================================================================================================================================================================================================================================================================================================================================================================================================================================================================================================================================================================================================================================================================================================================================================================================================================================================================================================================================================================================================================================================================================================================================================================================================================================================================================================================================================================================================================================================================================================================================================================================================================================================================================================================================================================================================================================================================================================================================================================================================================================================================================================================================================================================================================================================================================================================================================================================================================================================================================================================================================================================================================================================================================================================================================================================================================================================================================================================================================================================================================================================================================================================================================================================================================================================================================================================================================================================================================================================================================================================================================================================================================================================================================================================================================================================================================================================================================================================================================================================================================================================================================================================================================================================================================================================================================================================================================================================================================================================================================================================================================================================================================================================================================================================================================================================================================================================================================================================================================================================================================================================================================================================================================================================================================================================================================================================================================================================================================================================================================================================================================================================================================================================================================================================================================================================================================================================================================================================================================================================================================================================================================================================================================================================================================================================================================================================================================================================================================================================================================================================================================================================================================================================================================================================================================================================================================================================================================================================================================================================================================================================================================================================================================================================================================================================================================================================================================================================================================================================================================================================================================================================================================================================================================================================================================================================================================================================================================================================================================================================================================================================================================================================================================================================================================================================================================================================================================================================================================================================================================================================================================================================================================================================================================================================================================================================================================================================================================================================================================================================================================================================================================================================================================================================================================================================================================================================================================================================================================================================================================================================================================================================================================================================================================================================================================================================================================================================================================================================================================================================================================================================================================================================================================================================================================================================================================================================================================================================================================================================================================================================================================================================================================================================================================================================================================================================================================================================================================================================================================================================================================================================================================================================================================================================================================================================================================================================================================================================================================================================================================================================================================================================================================================================================================================================================================================================================================================================================================================================================================================================================================================================================================================================================================================================================================================================================================================================================================================================================================================================================================================================================================================================================================================================================================================================================================================================================================================================================================================================================================================================================================================================================================================================================================================================================================================================================================================================================================================================================================================================================================================================================================================================================================================================================================================================================================================================================================================================================================================================================================================================================================================================================================================================================================================================================================================================================================================================================================================================================================================================================================================================================================================================================================================================================================================================================================================================================================================================================================================================================================================================================================================================================================================================================================================================================================================================================================================================================================================================================================================================================================================================================================================================================================================================================================================================================================================================================================================================================================================================================================================================================================================================================================================================================================================================================================================================================================================================================================================================================================================================================================================================================================================================================================================================================================================================================================================================================================================================================================================================================================================================================================================================================================================================================================================================================================================================================================================================================================================================================================================================================================================================================================================================================================================================================================================================================================================================================================================================================================================================================================================================================================================================================================================================================================================================================================================================================================================================================================================================================================================================================================================================================================================================================================================================================================================================================================================================================================================================================================================================================================================================================================================================================================================================================================================================================================================================================================================================================================================================================================================================================================================================================================================================================================================================================================================================================================================================================================================================================================================================================================================================================================================================================================================================================================================================================================================================================================================================================================================================================================================================================================================================================================================================================================================================================================================================================================================================================================================================================================================================================================================================================================================================================================================================================================================================================================================================================================================================================================================================================================================================================================================================================================================================================================================================================================================================================================================================================================================================================================================================================================================================================================================================================================================================================================================================================================================================================================================================================================================================================================================================================================================================================================================================================================================================================================================================================================================================================================================================================================================================================================================================================================================================================================================================================================================================================================================================================================================================================================================================================================================================================================================================================================================================================================================================================================================================================================================================================================================================================================================================================================================================================================================================================================================================================================================================================================================================================================================================================================================================================================================================================================================================================================================================================================================================================================================================================================================================================================================================================================================================================================================================================================================================================================================================================================================================================================================================================================================================================================================================================================================================================================================================================================================================================================================================================================================================================================================================================================================================================================================================================================================================================================================================================================================================================================================================================================================================================================================================================================================================================================================================================================================================================================================================================================================] - 15s 9ms/sample - loss: 0.1167 - categorical_accuracy: 0.9629\n",
            "Test Accuracy: 96.289539\n"
          ],
          "name": "stdout"
        }
      ]
    },
    {
      "cell_type": "code",
      "metadata": {
        "id": "dr_k1YnqhmH-"
      },
      "source": [
        "y_pred_GRU = model_GRU.predict_classes(x_test_padded)"
      ],
      "execution_count": null,
      "outputs": []
    },
    {
      "cell_type": "code",
      "metadata": {
        "id": "Ox9qE3_ghmIA"
      },
      "source": [
        "text = []\n",
        "true_label = []\n",
        "pred_label = []\n",
        "social = 0\n",
        "Economical = 0\n",
        "International = 0\n",
        "Political = 0\n",
        "technology = 0\n",
        "art = 0\n",
        "Sports = 0\n",
        "medical = 0\n",
        "\n",
        "for i in range(len(y_pred_GRU)):\n",
        "  text.append(x_test[i])\n",
        "  true_label.append(y_test[i])\n",
        "\n",
        "   \n",
        "  if y_pred_blstm[i] == 0:\n",
        "    social +=1\n",
        "    pred_label.append(\"اجتماعی\")\n",
        "  elif y_pred_blstm[i] == 1:\n",
        "    Economical +=1\n",
        "    pred_label.append(\"اقتصادی\")\n",
        "  elif y_pred_blstm[i] == 2:\n",
        "    International +=1  \n",
        "    pred_label.append(\"بین الملل\")\n",
        "  if y_pred_blstm[i] == 3:\n",
        "    Political +=1\n",
        "    pred_label.append(\"سیاسی\")\n",
        "  elif y_pred_blstm[i] == 4:\n",
        "    technology +=1\n",
        "    pred_label.append(\"علمی فناوری\")\n",
        "  elif y_pred_blstm[i] == 5:\n",
        "    art +=1\n",
        "    pred_label.append(\"فرهنگی هنری\")\n",
        "  if y_pred_blstm[i] == 6:\n",
        "    Sports +=1\n",
        "    pred_label.append(\"ورزشی\")\n",
        "  elif y_pred_blstm[i] == 7:\n",
        "    medical +=1\n",
        "    pred_label.append(\"پزشکی\")\n"
      ],
      "execution_count": null,
      "outputs": []
    },
    {
      "cell_type": "code",
      "metadata": {
        "colab": {
          "base_uri": "https://localhost:8080/"
        },
        "id": "G_x-mYFAhmIB",
        "outputId": "e8e63978-7192-4f35-d962-39c89f673101"
      },
      "source": [
        "print(\"اجتماعی: \" , (social/1644)*100)\n",
        "print(\"اقتصادی: \" , (Economical/1644)*100)\n",
        "print(\"بین الملل: \" , (International/1644)*100)\n",
        "print(\"سیاسی: \" , (Political/1644)*100)\n",
        "print(\"علمی فناوری: \" , (technology/1644)*100)\n",
        "print(\"فرهنگی هنری: \" , (art/1644)*100)\n",
        "print(\"ورزشی: \" , (Sports/1644)*100)\n",
        "print(\"پزشکی: \" , (medical/1644)*100)\n",
        "\n"
      ],
      "execution_count": null,
      "outputs": [
        {
          "output_type": "stream",
          "text": [
            "اجتماعی:  12.530413625304138\n",
            "اقتصادی:  9.549878345498783\n",
            "بین الملل:  11.861313868613138\n",
            "سیاسی:  13.80778588807786\n",
            "علمی فناوری:  14.78102189781022\n",
            "فرهنگی هنری:  15.875912408759124\n",
            "ورزشی:  8.394160583941606\n",
            "پزشکی:  13.199513381995134\n"
          ],
          "name": "stdout"
        }
      ]
    },
    {
      "cell_type": "code",
      "metadata": {
        "id": "A1qUbd3ohmIE"
      },
      "source": [
        "dataFrame = pd.DataFrame({\"text\":text, \"true label\":true_label, \"prediction label\":pred_label})"
      ],
      "execution_count": null,
      "outputs": []
    },
    {
      "cell_type": "code",
      "metadata": {
        "id": "IwOcO9w-hmIE"
      },
      "source": [
        "dataFrame.to_excel(\"prediction2GRU.xlsx\", index=False)"
      ],
      "execution_count": null,
      "outputs": []
    }
  ]
}