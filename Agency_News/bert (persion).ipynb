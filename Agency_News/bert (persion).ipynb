{
 "nbformat": 4,
 "nbformat_minor": 0,
 "metadata": {
  "colab": {
   "name": "bert.ipynb",
   "provenance": []
  },
  "kernelspec": {
   "name": "python3",
   "display_name": "Python 3"
  },
  "language_info": {
   "name": "python"
  },
  "accelerator": "GPU"
 },
 "cells": [
  {
   "cell_type": "code",
   "metadata": {
    "colab": {
     "base_uri": "https://localhost:8080/"
    },
    "id": "9tIvpXqko2Gu",
    "outputId": "246794b2-0ec9-467e-876b-3a72ca71b7ad"
   },
   "source": [
    "from google.colab import drive\n",
    "drive.mount('/content/drive')"
   ],
   "execution_count": 16,
   "outputs": [
    {
     "output_type": "stream",
     "text": [
      "Drive already mounted at /content/drive; to attempt to forcibly remount, call drive.mount(\"/content/drive\", force_remount=True).\n"
     ],
     "name": "stdout"
    }
   ]
  },
  {
   "cell_type": "code",
   "metadata": {
    "colab": {
     "base_uri": "https://localhost:8080/"
    },
    "id": "SKn3N45x_wyb",
    "outputId": "93d5c77d-3d6a-4186-ec72-01bb265aa790"
   },
   "source": [
    "!pip3 install ktrain"
   ],
   "execution_count": 36,
   "outputs": [
    {
     "output_type": "stream",
     "text": [
      "Requirement already satisfied: ktrain in /usr/local/lib/python3.7/dist-packages (0.27.2)\n",
      "Requirement already satisfied: pandas>=1.0.1 in /usr/local/lib/python3.7/dist-packages (from ktrain) (1.1.5)\n",
      "Requirement already satisfied: whoosh in /usr/local/lib/python3.7/dist-packages (from ktrain) (2.7.4)\n",
      "Requirement already satisfied: sentencepiece in /usr/local/lib/python3.7/dist-packages (from ktrain) (0.1.96)\n",
      "Requirement already satisfied: jieba in /usr/local/lib/python3.7/dist-packages (from ktrain) (0.42.1)\n",
      "Requirement already satisfied: packaging in /usr/local/lib/python3.7/dist-packages (from ktrain) (21.0)\n",
      "Requirement already satisfied: syntok in /usr/local/lib/python3.7/dist-packages (from ktrain) (1.3.1)\n",
      "Requirement already satisfied: joblib in /usr/local/lib/python3.7/dist-packages (from ktrain) (1.0.1)\n",
      "Requirement already satisfied: langdetect in /usr/local/lib/python3.7/dist-packages (from ktrain) (1.0.9)\n",
      "Requirement already satisfied: seqeval==0.0.19 in /usr/local/lib/python3.7/dist-packages (from ktrain) (0.0.19)\n",
      "Requirement already satisfied: fastprogress>=0.1.21 in /usr/local/lib/python3.7/dist-packages (from ktrain) (1.0.0)\n",
      "Requirement already satisfied: chardet in /usr/local/lib/python3.7/dist-packages (from ktrain) (3.0.4)\n",
      "Requirement already satisfied: requests in /usr/local/lib/python3.7/dist-packages (from ktrain) (2.23.0)\n",
      "Requirement already satisfied: scikit-learn==0.23.2 in /usr/local/lib/python3.7/dist-packages (from ktrain) (0.23.2)\n",
      "Requirement already satisfied: ipython in /usr/local/lib/python3.7/dist-packages (from ktrain) (5.5.0)\n",
      "Requirement already satisfied: transformers<=4.3.3,>=4.0.0 in /usr/local/lib/python3.7/dist-packages (from ktrain) (4.3.3)\n",
      "Requirement already satisfied: keras-bert>=0.86.0 in /usr/local/lib/python3.7/dist-packages (from ktrain) (0.88.0)\n",
      "Requirement already satisfied: cchardet in /usr/local/lib/python3.7/dist-packages (from ktrain) (2.1.7)\n",
      "Requirement already satisfied: networkx>=2.3 in /usr/local/lib/python3.7/dist-packages (from ktrain) (2.5.1)\n",
      "Requirement already satisfied: matplotlib>=3.0.0 in /usr/local/lib/python3.7/dist-packages (from ktrain) (3.2.2)\n",
      "Requirement already satisfied: threadpoolctl>=2.0.0 in /usr/local/lib/python3.7/dist-packages (from scikit-learn==0.23.2->ktrain) (2.2.0)\n",
      "Requirement already satisfied: numpy>=1.13.3 in /usr/local/lib/python3.7/dist-packages (from scikit-learn==0.23.2->ktrain) (1.19.5)\n",
      "Requirement already satisfied: scipy>=0.19.1 in /usr/local/lib/python3.7/dist-packages (from scikit-learn==0.23.2->ktrain) (1.4.1)\n",
      "Requirement already satisfied: Keras>=2.2.4 in /usr/local/lib/python3.7/dist-packages (from seqeval==0.0.19->ktrain) (2.4.3)\n",
      "Requirement already satisfied: h5py in /usr/local/lib/python3.7/dist-packages (from Keras>=2.2.4->seqeval==0.0.19->ktrain) (3.1.0)\n",
      "Requirement already satisfied: pyyaml in /usr/local/lib/python3.7/dist-packages (from Keras>=2.2.4->seqeval==0.0.19->ktrain) (3.13)\n",
      "Requirement already satisfied: keras-transformer>=0.39.0 in /usr/local/lib/python3.7/dist-packages (from keras-bert>=0.86.0->ktrain) (0.39.0)\n",
      "Requirement already satisfied: keras-position-wise-feed-forward>=0.7.0 in /usr/local/lib/python3.7/dist-packages (from keras-transformer>=0.39.0->keras-bert>=0.86.0->ktrain) (0.7.0)\n",
      "Requirement already satisfied: keras-embed-sim>=0.9.0 in /usr/local/lib/python3.7/dist-packages (from keras-transformer>=0.39.0->keras-bert>=0.86.0->ktrain) (0.9.0)\n",
      "Requirement already satisfied: keras-pos-embd>=0.12.0 in /usr/local/lib/python3.7/dist-packages (from keras-transformer>=0.39.0->keras-bert>=0.86.0->ktrain) (0.12.0)\n",
      "Requirement already satisfied: keras-layer-normalization>=0.15.0 in /usr/local/lib/python3.7/dist-packages (from keras-transformer>=0.39.0->keras-bert>=0.86.0->ktrain) (0.15.0)\n",
      "Requirement already satisfied: keras-multi-head>=0.28.0 in /usr/local/lib/python3.7/dist-packages (from keras-transformer>=0.39.0->keras-bert>=0.86.0->ktrain) (0.28.0)\n",
      "Requirement already satisfied: keras-self-attention>=0.50.0 in /usr/local/lib/python3.7/dist-packages (from keras-multi-head>=0.28.0->keras-transformer>=0.39.0->keras-bert>=0.86.0->ktrain) (0.50.0)\n",
      "Requirement already satisfied: python-dateutil>=2.1 in /usr/local/lib/python3.7/dist-packages (from matplotlib>=3.0.0->ktrain) (2.8.1)\n",
      "Requirement already satisfied: cycler>=0.10 in /usr/local/lib/python3.7/dist-packages (from matplotlib>=3.0.0->ktrain) (0.10.0)\n",
      "Requirement already satisfied: kiwisolver>=1.0.1 in /usr/local/lib/python3.7/dist-packages (from matplotlib>=3.0.0->ktrain) (1.3.1)\n",
      "Requirement already satisfied: pyparsing!=2.0.4,!=2.1.2,!=2.1.6,>=2.0.1 in /usr/local/lib/python3.7/dist-packages (from matplotlib>=3.0.0->ktrain) (2.4.7)\n",
      "Requirement already satisfied: six in /usr/local/lib/python3.7/dist-packages (from cycler>=0.10->matplotlib>=3.0.0->ktrain) (1.15.0)\n",
      "Requirement already satisfied: decorator<5,>=4.3 in /usr/local/lib/python3.7/dist-packages (from networkx>=2.3->ktrain) (4.4.2)\n",
      "Requirement already satisfied: pytz>=2017.2 in /usr/local/lib/python3.7/dist-packages (from pandas>=1.0.1->ktrain) (2018.9)\n",
      "Requirement already satisfied: tqdm>=4.27 in /usr/local/lib/python3.7/dist-packages (from transformers<=4.3.3,>=4.0.0->ktrain) (4.41.1)\n",
      "Requirement already satisfied: regex!=2019.12.17 in /usr/local/lib/python3.7/dist-packages (from transformers<=4.3.3,>=4.0.0->ktrain) (2019.12.20)\n",
      "Requirement already satisfied: tokenizers<0.11,>=0.10.1 in /usr/local/lib/python3.7/dist-packages (from transformers<=4.3.3,>=4.0.0->ktrain) (0.10.3)\n",
      "Requirement already satisfied: importlib-metadata in /usr/local/lib/python3.7/dist-packages (from transformers<=4.3.3,>=4.0.0->ktrain) (4.6.1)\n",
      "Requirement already satisfied: sacremoses in /usr/local/lib/python3.7/dist-packages (from transformers<=4.3.3,>=4.0.0->ktrain) (0.0.45)\n",
      "Requirement already satisfied: filelock in /usr/local/lib/python3.7/dist-packages (from transformers<=4.3.3,>=4.0.0->ktrain) (3.0.12)\n",
      "Requirement already satisfied: cached-property in /usr/local/lib/python3.7/dist-packages (from h5py->Keras>=2.2.4->seqeval==0.0.19->ktrain) (1.5.2)\n",
      "Requirement already satisfied: zipp>=0.5 in /usr/local/lib/python3.7/dist-packages (from importlib-metadata->transformers<=4.3.3,>=4.0.0->ktrain) (3.5.0)\n",
      "Requirement already satisfied: typing-extensions>=3.6.4 in /usr/local/lib/python3.7/dist-packages (from importlib-metadata->transformers<=4.3.3,>=4.0.0->ktrain) (3.7.4.3)\n",
      "Requirement already satisfied: traitlets>=4.2 in /usr/local/lib/python3.7/dist-packages (from ipython->ktrain) (5.0.5)\n",
      "Requirement already satisfied: simplegeneric>0.8 in /usr/local/lib/python3.7/dist-packages (from ipython->ktrain) (0.8.1)\n",
      "Requirement already satisfied: pickleshare in /usr/local/lib/python3.7/dist-packages (from ipython->ktrain) (0.7.5)\n",
      "Requirement already satisfied: prompt-toolkit<2.0.0,>=1.0.4 in /usr/local/lib/python3.7/dist-packages (from ipython->ktrain) (1.0.18)\n",
      "Requirement already satisfied: setuptools>=18.5 in /usr/local/lib/python3.7/dist-packages (from ipython->ktrain) (57.2.0)\n",
      "Requirement already satisfied: pygments in /usr/local/lib/python3.7/dist-packages (from ipython->ktrain) (2.6.1)\n",
      "Requirement already satisfied: pexpect in /usr/local/lib/python3.7/dist-packages (from ipython->ktrain) (4.8.0)\n",
      "Requirement already satisfied: wcwidth in /usr/local/lib/python3.7/dist-packages (from prompt-toolkit<2.0.0,>=1.0.4->ipython->ktrain) (0.2.5)\n",
      "Requirement already satisfied: ipython-genutils in /usr/local/lib/python3.7/dist-packages (from traitlets>=4.2->ipython->ktrain) (0.2.0)\n",
      "Requirement already satisfied: ptyprocess>=0.5 in /usr/local/lib/python3.7/dist-packages (from pexpect->ipython->ktrain) (0.7.0)\n",
      "Requirement already satisfied: idna<3,>=2.5 in /usr/local/lib/python3.7/dist-packages (from requests->ktrain) (2.10)\n",
      "Requirement already satisfied: urllib3!=1.25.0,!=1.25.1,<1.26,>=1.21.1 in /usr/local/lib/python3.7/dist-packages (from requests->ktrain) (1.24.3)\n",
      "Requirement already satisfied: certifi>=2017.4.17 in /usr/local/lib/python3.7/dist-packages (from requests->ktrain) (2021.5.30)\n",
      "Requirement already satisfied: click in /usr/local/lib/python3.7/dist-packages (from sacremoses->transformers<=4.3.3,>=4.0.0->ktrain) (7.1.2)\n"
     ],
     "name": "stdout"
    }
   ]
  },
  {
   "cell_type": "code",
   "metadata": {
    "id": "_MXH7InfpW0X"
   },
   "source": [
    "#import numpy as np\n",
    "#import pandas as pd\n",
    "#import tensorflow as tf\n",
    "#import ktrain\n",
    "#from ktrain import text\n"
   ],
   "execution_count": 22,
   "outputs": []
  },
  {
   "cell_type": "code",
   "metadata": {
    "id": "jrmSQTjM_4Ji"
   },
   "source": [
    "import ktrain\n",
    "from ktrain import text"
   ],
   "execution_count": 37,
   "outputs": []
  },
  {
   "cell_type": "code",
   "metadata": {
    "colab": {
     "base_uri": "https://localhost:8080/",
     "height": 423
    },
    "id": "lYb0wZ62s1zk",
    "outputId": "d71d5b4d-54ce-4728-c03f-ccdf2a25f61c"
   },
   "source": [
    "data_train = pd.read_csv('/content/drive/MyDrive/persian_news/train.csv', sep='\\t', encoding=\"utf-8\")\n",
    "data_train"
   ],
   "execution_count": 45,
   "outputs": [
    {
     "output_type": "execute_result",
     "data": {
      "text/html": [
       "<div>\n",
       "<style scoped>\n",
       "    .dataframe tbody tr th:only-of-type {\n",
       "        vertical-align: middle;\n",
       "    }\n",
       "\n",
       "    .dataframe tbody tr th {\n",
       "        vertical-align: top;\n",
       "    }\n",
       "\n",
       "    .dataframe thead th {\n",
       "        text-align: right;\n",
       "    }\n",
       "</style>\n",
       "<table border=\"1\" class=\"dataframe\">\n",
       "  <thead>\n",
       "    <tr style=\"text-align: right;\">\n",
       "      <th></th>\n",
       "      <th>Unnamed: 0</th>\n",
       "      <th>content</th>\n",
       "      <th>label</th>\n",
       "      <th>label_id</th>\n",
       "    </tr>\n",
       "  </thead>\n",
       "  <tbody>\n",
       "    <tr>\n",
       "      <th>0</th>\n",
       "      <td>0</td>\n",
       "      <td>به گزارش خبرنگار حوزه بهداشت و درمان گروه علمی...</td>\n",
       "      <td>پزشکی</td>\n",
       "      <td>7</td>\n",
       "    </tr>\n",
       "    <tr>\n",
       "      <th>1</th>\n",
       "      <td>1</td>\n",
       "      <td>به گزارش خبرنگار فوتبال و فوتسال گروه ورزشی با...</td>\n",
       "      <td>ورزشی</td>\n",
       "      <td>6</td>\n",
       "    </tr>\n",
       "    <tr>\n",
       "      <th>2</th>\n",
       "      <td>2</td>\n",
       "      <td>بهروز اکرمی، در گفتگو با خبرنگار اجتماعی باشگا...</td>\n",
       "      <td>اجتماعی</td>\n",
       "      <td>0</td>\n",
       "    </tr>\n",
       "    <tr>\n",
       "      <th>3</th>\n",
       "      <td>3</td>\n",
       "      <td>به گزارش خبرنگار حوزه شهری گروه اجتماعی باشگاه...</td>\n",
       "      <td>اجتماعی</td>\n",
       "      <td>0</td>\n",
       "    </tr>\n",
       "    <tr>\n",
       "      <th>4</th>\n",
       "      <td>4</td>\n",
       "      <td>به گزارش باشگاه خبرنگاران و به نقل از روابط عم...</td>\n",
       "      <td>فرهنگی هنری</td>\n",
       "      <td>5</td>\n",
       "    </tr>\n",
       "    <tr>\n",
       "      <th>...</th>\n",
       "      <td>...</td>\n",
       "      <td>...</td>\n",
       "      <td>...</td>\n",
       "      <td>...</td>\n",
       "    </tr>\n",
       "    <tr>\n",
       "      <th>13309</th>\n",
       "      <td>13309</td>\n",
       "      <td>به گزارش خبرنگار دولت باشگاه خبرنگاران رضا فرج...</td>\n",
       "      <td>سیاسی</td>\n",
       "      <td>3</td>\n",
       "    </tr>\n",
       "    <tr>\n",
       "      <th>13310</th>\n",
       "      <td>13310</td>\n",
       "      <td>به گزارش خبرنگار اقتصادی باشگاه خبرنگاران، باز...</td>\n",
       "      <td>اقتصادی</td>\n",
       "      <td>1</td>\n",
       "    </tr>\n",
       "    <tr>\n",
       "      <th>13311</th>\n",
       "      <td>13311</td>\n",
       "      <td>ایسوس همیشه سورپرایزهایی را برای کامپیوتکس کنا...</td>\n",
       "      <td>علمی فناوری</td>\n",
       "      <td>4</td>\n",
       "    </tr>\n",
       "    <tr>\n",
       "      <th>13312</th>\n",
       "      <td>13312</td>\n",
       "      <td>به گزارش حوزه مجلس گروه سیاسی باشگاه خبرنگاران...</td>\n",
       "      <td>سیاسی</td>\n",
       "      <td>3</td>\n",
       "    </tr>\n",
       "    <tr>\n",
       "      <th>13313</th>\n",
       "      <td>13313</td>\n",
       "      <td>به گزارش خبرنگار اقتصادی باشگاه خبرنگاران؛ در ...</td>\n",
       "      <td>اقتصادی</td>\n",
       "      <td>1</td>\n",
       "    </tr>\n",
       "  </tbody>\n",
       "</table>\n",
       "<p>13314 rows × 4 columns</p>\n",
       "</div>"
      ],
      "text/plain": [
       "       Unnamed: 0  ... label_id\n",
       "0               0  ...        7\n",
       "1               1  ...        6\n",
       "2               2  ...        0\n",
       "3               3  ...        0\n",
       "4               4  ...        5\n",
       "...           ...  ...      ...\n",
       "13309       13309  ...        3\n",
       "13310       13310  ...        1\n",
       "13311       13311  ...        4\n",
       "13312       13312  ...        3\n",
       "13313       13313  ...        1\n",
       "\n",
       "[13314 rows x 4 columns]"
      ]
     },
     "metadata": {
      "tags": []
     },
     "execution_count": 45
    }
   ]
  },
  {
   "cell_type": "code",
   "metadata": {
    "colab": {
     "base_uri": "https://localhost:8080/",
     "height": 423
    },
    "id": "KbIl8jbFBg_P",
    "outputId": "116f9525-ea71-402e-ec53-c4f162463d47"
   },
   "source": [
    "data_test = pd.read_csv('/content/drive/MyDrive/persian_news/test.csv', sep='\\t', encoding=\"utf-8\")\n",
    "data_test"
   ],
   "execution_count": 46,
   "outputs": [
    {
     "output_type": "execute_result",
     "data": {
      "text/html": [
       "<div>\n",
       "<style scoped>\n",
       "    .dataframe tbody tr th:only-of-type {\n",
       "        vertical-align: middle;\n",
       "    }\n",
       "\n",
       "    .dataframe tbody tr th {\n",
       "        vertical-align: top;\n",
       "    }\n",
       "\n",
       "    .dataframe thead th {\n",
       "        text-align: right;\n",
       "    }\n",
       "</style>\n",
       "<table border=\"1\" class=\"dataframe\">\n",
       "  <thead>\n",
       "    <tr style=\"text-align: right;\">\n",
       "      <th></th>\n",
       "      <th>Unnamed: 0</th>\n",
       "      <th>content</th>\n",
       "      <th>label</th>\n",
       "      <th>label_id</th>\n",
       "    </tr>\n",
       "  </thead>\n",
       "  <tbody>\n",
       "    <tr>\n",
       "      <th>0</th>\n",
       "      <td>0</td>\n",
       "      <td>حسن جوهرچی بازیگر سینما و تلویزیون ایران در گف...</td>\n",
       "      <td>فرهنگی هنری</td>\n",
       "      <td>5</td>\n",
       "    </tr>\n",
       "    <tr>\n",
       "      <th>1</th>\n",
       "      <td>1</td>\n",
       "      <td>به گزارش گروه بین الملل باشگاه خبرنگاران جوان ...</td>\n",
       "      <td>بین الملل</td>\n",
       "      <td>2</td>\n",
       "    </tr>\n",
       "    <tr>\n",
       "      <th>2</th>\n",
       "      <td>2</td>\n",
       "      <td>به گزارش خبرنگار فوتبال و فوتسال گروه ورزشی با...</td>\n",
       "      <td>ورزشی</td>\n",
       "      <td>6</td>\n",
       "    </tr>\n",
       "    <tr>\n",
       "      <th>3</th>\n",
       "      <td>3</td>\n",
       "      <td>به‌ گزارش گروه اقتصادی باشگاه خبرنگاران به نقل...</td>\n",
       "      <td>اقتصادی</td>\n",
       "      <td>1</td>\n",
       "    </tr>\n",
       "    <tr>\n",
       "      <th>4</th>\n",
       "      <td>4</td>\n",
       "      <td>به گزارش خبرنگار حوزه قرآن و عترت گروه فرهنگی ...</td>\n",
       "      <td>فرهنگی هنری</td>\n",
       "      <td>5</td>\n",
       "    </tr>\n",
       "    <tr>\n",
       "      <th>...</th>\n",
       "      <td>...</td>\n",
       "      <td>...</td>\n",
       "      <td>...</td>\n",
       "      <td>...</td>\n",
       "    </tr>\n",
       "    <tr>\n",
       "      <th>1639</th>\n",
       "      <td>1639</td>\n",
       "      <td>طرح رجیستری که برای قانون‌مند شدن واردات موبای...</td>\n",
       "      <td>علمی فناوری</td>\n",
       "      <td>4</td>\n",
       "    </tr>\n",
       "    <tr>\n",
       "      <th>1640</th>\n",
       "      <td>1640</td>\n",
       "      <td>به گزارش گروه بین‌الملل باشگاه خبرنگاران جوان ...</td>\n",
       "      <td>بین الملل</td>\n",
       "      <td>2</td>\n",
       "    </tr>\n",
       "    <tr>\n",
       "      <th>1641</th>\n",
       "      <td>1641</td>\n",
       "      <td>به گزارش گروه ورزشی باشگاه خبرنگاران، مرحله یک...</td>\n",
       "      <td>ورزشی</td>\n",
       "      <td>6</td>\n",
       "    </tr>\n",
       "    <tr>\n",
       "      <th>1642</th>\n",
       "      <td>1642</td>\n",
       "      <td>مجله شبانه باشگاه خبرنگاران؛ عطا کردی خطا کردم...</td>\n",
       "      <td>اجتماعی</td>\n",
       "      <td>0</td>\n",
       "    </tr>\n",
       "    <tr>\n",
       "      <th>1643</th>\n",
       "      <td>1643</td>\n",
       "      <td>به گزارش حوزه مجلس گروه سیاسی باشگاه خبرنگاران...</td>\n",
       "      <td>سیاسی</td>\n",
       "      <td>3</td>\n",
       "    </tr>\n",
       "  </tbody>\n",
       "</table>\n",
       "<p>1644 rows × 4 columns</p>\n",
       "</div>"
      ],
      "text/plain": [
       "      Unnamed: 0  ... label_id\n",
       "0              0  ...        5\n",
       "1              1  ...        2\n",
       "2              2  ...        6\n",
       "3              3  ...        1\n",
       "4              4  ...        5\n",
       "...          ...  ...      ...\n",
       "1639        1639  ...        4\n",
       "1640        1640  ...        2\n",
       "1641        1641  ...        6\n",
       "1642        1642  ...        0\n",
       "1643        1643  ...        3\n",
       "\n",
       "[1644 rows x 4 columns]"
      ]
     },
     "metadata": {
      "tags": []
     },
     "execution_count": 46
    }
   ]
  },
  {
   "cell_type": "code",
   "metadata": {
    "colab": {
     "base_uri": "https://localhost:8080/",
     "height": 520
    },
    "id": "vfg05yfEtOv0",
    "outputId": "41635dbf-db21-4e1c-cf2b-98fd1a9bbcc7"
   },
   "source": [
    "(X_train, y_train), (X_test, y_test), preprocess = text.texts_from_df(train_df = data_train,\n",
    "                                                                      text_column = 'content',\n",
    "                                                                      label_columns = 'label',\n",
    "                                                                      val_df = data_test,\n",
    "                                                                      maxlen = 512,\n",
    "                                                                      preprocess_mode = 'bert')\n"
   ],
   "execution_count": 47,
   "outputs": [
    {
     "output_type": "stream",
     "text": [
      "['اجتماعی', 'اقتصادی', 'بین الملل', 'سیاسی', 'علمی فناوری', 'فرهنگی هنری', 'ورزشی', 'پزشکی']\n",
      "   اجتماعی  اقتصادی  بین الملل  سیاسی  علمی فناوری  فرهنگی هنری  ورزشی  پزشکی\n",
      "0      0.0      0.0        0.0    0.0          0.0          0.0    0.0    1.0\n",
      "1      0.0      0.0        0.0    0.0          0.0          0.0    1.0    0.0\n",
      "2      1.0      0.0        0.0    0.0          0.0          0.0    0.0    0.0\n",
      "3      1.0      0.0        0.0    0.0          0.0          0.0    0.0    0.0\n",
      "4      0.0      0.0        0.0    0.0          0.0          1.0    0.0    0.0\n",
      "['اجتماعی', 'اقتصادی', 'بین الملل', 'سیاسی', 'علمی فناوری', 'فرهنگی هنری', 'ورزشی', 'پزشکی']\n",
      "   اجتماعی  اقتصادی  بین الملل  سیاسی  علمی فناوری  فرهنگی هنری  ورزشی  پزشکی\n",
      "0      0.0      0.0        0.0    0.0          0.0          1.0    0.0    0.0\n",
      "1      0.0      0.0        1.0    0.0          0.0          0.0    0.0    0.0\n",
      "2      0.0      0.0        0.0    0.0          0.0          0.0    1.0    0.0\n",
      "3      0.0      1.0        0.0    0.0          0.0          0.0    0.0    0.0\n",
      "4      0.0      0.0        0.0    0.0          0.0          1.0    0.0    0.0\n",
      "downloading pretrained BERT model (multi_cased_L-12_H-768_A-12.zip)...\n",
      "[██████████████████████████████████████████████████]\n",
      "extracting pretrained BERT model...\n",
      "done.\n",
      "\n",
      "cleanup downloaded zip...\n",
      "done.\n",
      "\n",
      "preprocessing train...\n",
      "language: fa\n"
     ],
     "name": "stdout"
    },
    {
     "output_type": "display_data",
     "data": {
      "text/html": [
       "done."
      ],
      "text/plain": [
       "<IPython.core.display.HTML object>"
      ]
     },
     "metadata": {
      "tags": []
     }
    },
    {
     "output_type": "stream",
     "text": [
      "Is Multi-Label? False\n",
      "preprocessing test...\n",
      "language: fa\n"
     ],
     "name": "stdout"
    },
    {
     "output_type": "display_data",
     "data": {
      "text/html": [
       "done."
      ],
      "text/plain": [
       "<IPython.core.display.HTML object>"
      ]
     },
     "metadata": {
      "tags": []
     }
    }
   ]
  },
  {
   "cell_type": "code",
   "metadata": {
    "colab": {
     "base_uri": "https://localhost:8080/"
    },
    "id": "gj4fSpN9DJhx",
    "outputId": "b193ce38-8542-4b2f-9324-ace42fc44c99"
   },
   "source": [
    "X_train[0].shape"
   ],
   "execution_count": 53,
   "outputs": [
    {
     "output_type": "execute_result",
     "data": {
      "text/plain": [
       "(13314, 400)"
      ]
     },
     "metadata": {
      "tags": []
     },
     "execution_count": 53
    }
   ]
  },
  {
   "cell_type": "code",
   "metadata": {
    "colab": {
     "base_uri": "https://localhost:8080/"
    },
    "id": "3Ibq1xm1AIUX",
    "outputId": "2955fb1c-f365-4914-dfc3-1a6b3073742a"
   },
   "source": [
    "model = text.text_classifier(name = 'bert',\n",
    "                             train_data = (X_train, y_train),\n",
    "                             preproc = preprocess)"
   ],
   "execution_count": 48,
   "outputs": [
    {
     "output_type": "stream",
     "text": [
      "Is Multi-Label? False\n",
      "maxlen is 400\n",
      "done.\n"
     ],
     "name": "stdout"
    }
   ]
  },
  {
   "cell_type": "code",
   "metadata": {
    "id": "ITNsErMCCLdd"
   },
   "source": [
    "learner = ktrain.get_learner(model = model,\n",
    "                             train_data = (X_train, y_train),\n",
    "                             val_data = (X_test, y_test), \n",
    "                             batch_size = 5)\n",
    "\n"
   ],
   "execution_count": 54,
   "outputs": []
  },
  {
   "cell_type": "code",
   "metadata": {
    "colab": {
     "base_uri": "https://localhost:8080/"
    },
    "id": "AqE_69NcDfCB",
    "outputId": "e78343a0-1743-4525-d823-83500f8ee4df"
   },
   "source": [
    "learner.fit_onecycle(lr = 2e-5 , epochs = 1)"
   ],
   "execution_count": 56,
   "outputs": [
    {
     "output_type": "stream",
     "text": [
      "\n",
      "\n",
      "begin training using onecycle policy with max lr of 2e-05...\n",
      "2219/2219 [==============================] - 3064s 1s/step - loss: 0.3220 - accuracy: 0.8971 - val_loss: 0.0958 - val_accuracy: 0.9696\n"
     ],
     "name": "stdout"
    },
    {
     "output_type": "execute_result",
     "data": {
      "text/plain": [
       "<tensorflow.python.keras.callbacks.History at 0x7f2dd1dbc3d0>"
      ]
     },
     "metadata": {
      "tags": []
     },
     "execution_count": 56
    }
   ]
  },
  {
   "cell_type": "code",
   "metadata": {
    "id": "akYnnQCSCSDF"
   },
   "source": [
    "predictor = ktrain.get_predictor(learner.model, preprocess)"
   ],
   "execution_count": 50,
   "outputs": []
  },
  {
   "cell_type": "code",
   "metadata": {
    "id": "PPbZoD6PGQDJ"
   },
   "source": [
    "data = [ 'دومین نشست از سلسله نشست‌های بررسی مسایٔل اقتصادی-اجتماعی ایران با موضوع رنج‌های اجتماعی انسان‌مدرن از سوی معاونت فرهنگی جهاددانشگاهی البرز در دانشگاه خوارزمی برگزار شد. دکتر صلاح الدین قادری در این نشست، گفت: تضاد، تعارض و تناقض مهمترین عامل احساس رنج در دنیای مدرن است البته این رنج‌ها گاهی می‌توانند فرصت، امکان یا راهی برای رسیدن به رشد و تعالی باشند؛ همچنین می‌شود گفت که رنج‌های انسان مدرن همان امکان‌های او برای تعادل در وضعیت مدرن هستند. وی افزود: تعارض و تناقض اساس زندگی مدرن است و تمام نظریه پردازان بدون استثنا در مورد اینکه دنیای مدرن دنیایی دارای تضاد و تعارض و تناقض است توافق دارند. این جامعه شناس گفت: مهم‌ترین رنجی که انسان مدرن می‌برد و بزرگ‌ترین تفاوتی که با انسان سنتی دارد مساله تناقض است؛ انسان مدرن انسانی متعارض است و دارای ویژگی‌های شخصیتی و علایٔق رفتاری و روابط اجتماعی متضاد است؛ بنابراین بزرگترین رنج انسان مدرن که با آن متولد شده است کنار آمدن با تناقض‌هاست؛ آن چیزی که در گذشته می‌گفتند جمع نقیضین وجود ندارد برای انسان مدرن کاملا وجود دارد. وی افزود: مساله اصلی با رویکرد دکارتی به وجود آمد با جمله‌ای که می‌گوید: می‌اندیشم پس هستم هستم به معنای عینیت است و می‌اندیشم معنای ذهن را می‌دهد، یعنی از ذهن ‌استفاده می‌کنم برای این که بگویم وجود دارم؛ این موضوع تنها به اینجا خاتمه پیدا نکرد و انسان خودش را مالک و سرور طبیعت، جهان و انسان‌های دیگر دانست. این استاد جامعه شناسی دانشگاه ‌خوارزمی گفت: عده بسیاری معتقدند که رنج انسان از این الگوی فکری نمود پیدا کرد و انسان مدرن خودش را با این الگو از طبیعت جدا کرد چون حق خودش می‌دانست که باید طبیعت را بشناسد که این مورد فاعل شناسا است و همزمان با شناسایی طبیعت این مورد هم وجود داشت که انسان سرور طبیعت باشد و آن را کنترل کند پس در نتیجه این گرایش انسان به مسلط شدن و کنترل بر طبیعت پیدا کردن زمینه رنجی بود که برایش به وجود آمد. وی در ادامه افزود: هنر انسان سنتی تقلید از طبیعت و همسو شدن با آن بود اما انسان مدرن در مقابل طبیعت ایستاد و به دنبال مهار کردن و کنترل آن در آمد و همین مسیٔله باعث شد زمینه‌ای برای آن فراهم شود که علاوه بر توسعه گرایی، اراده گرایی هم به وجود آید که از آن به خواست تغییر تعبیر می‌شود. قادری اظهار کرد: این خواست، تغییرهای متفاوتی را در بر می‌گیرد و خودش نوعی رنج برای انسان به دنبال داشته است؛ دلیل این مسیٔله نوعی خود انکشاف‌یافتگی بود که برای انسان به وجود می‌آید و او را به تغییر جهان، اراده طلبی آزاد، اراده تشکیل دولت و حتی درگیر شدن با خدا وادار می‌کند. وی ادامه داد: انسان در این وضعیت به این موضوع فکر می‌کند که باید رابطه خود با خدا را تغییر دهد، در همه چیز دخالت کند و خودش خدای زمین شود و این مسیٔله‌ای است که رنج را برای انسان وجود آورد. این استاد جامعه شناس در ادامه به تعریفی از مدرنیته پرداخت و گفت: جدا کردن خود از هر آنچه گذشته‌ هر شخص بوده تعریفی است که برای مدرنیته ارایٔه می‌شود. مشکل و رنج انسان مدرن در دنیا این است که نمی‌داند چه کسی حامی اوست و اگر بخواهد کسی از او حمایت کند حامی یا مکانیسمی که بخواهد وی را مورد حمایت قرار دهد وجود ندارد؛ در واقع از حمایت‌ها رها شده است اما در عین حال نیاز به حمایت را احساس می‌کند که خود نوعی تضاد است. طبق اعلام روابط عمومی جهاددانشگاهی، قادری در پایان اظهار کرد: همه این‌ها مواردی هستند که باعث رنجش انسان در دنیای مدرن شده است و خود انسان هم در این تناقض و تعارض و تضادها دچار گرفتاری شده است و نمی‌داند چه انتخابی داشته باشد. ']"
   ],
   "execution_count": 57,
   "outputs": []
  },
  {
   "cell_type": "code",
   "metadata": {
    "colab": {
     "base_uri": "https://localhost:8080/"
    },
    "id": "y1dBzyO2Qm0d",
    "outputId": "4aa95ec9-9a2f-468d-a121-09561132e740"
   },
   "source": [
    "predictor.predict(data)"
   ],
   "execution_count": 58,
   "outputs": [
    {
     "output_type": "execute_result",
     "data": {
      "text/plain": [
       "['اجتماعی']"
      ]
     },
     "metadata": {
      "tags": []
     },
     "execution_count": 58
    }
   ]
  },
  {
   "cell_type": "code",
   "metadata": {
    "colab": {
     "base_uri": "https://localhost:8080/"
    },
    "id": "7t97apyw_u-E",
    "outputId": "74b394ee-dd6c-410b-dff5-d1dbe6d07ac0"
   },
   "source": [
    "predictor.save('contents/bertmag')"
   ],
   "execution_count": 59,
   "outputs": [
    {
     "output_type": "stream",
     "text": [
      "/usr/local/lib/python3.7/dist-packages/tensorflow/python/keras/utils/generic_utils.py:497: CustomMaskWarning: Custom mask layers require a config and must override get_config. When loading, the custom mask layer must be passed to the custom_objects argument.\n",
      "  category=CustomMaskWarning)\n"
     ],
     "name": "stderr"
    }
   ]
  }
 ]
}