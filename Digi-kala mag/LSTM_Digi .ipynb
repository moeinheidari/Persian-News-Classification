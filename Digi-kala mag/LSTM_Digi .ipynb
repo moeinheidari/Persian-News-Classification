{
  "nbformat": 4,
  "nbformat_minor": 0,
  "metadata": {
    "colab": {
      "name": "LSTM_Digi.ipynb",
      "provenance": [],
      "collapsed_sections": []
    },
    "kernelspec": {
      "name": "python3",
      "display_name": "Python 3"
    },
    "accelerator": "GPU"
  },
  "cells": [
    {
      "cell_type": "markdown",
      "metadata": {
        "id": "HQO-vjSBb56U"
      },
      "source": [
        "### Install Pakage"
      ]
    },
    {
      "cell_type": "code",
      "metadata": {
        "id": "QxjUX0F_RMUf",
        "colab": {
          "base_uri": "https://localhost:8080/"
        },
        "outputId": "bbc45052-bd01-409e-fe14-58c960f4716d"
      },
      "source": [
        "!pip install hazm\n",
        "!pip install tensorflow-gpu==2.0"
      ],
      "execution_count": null,
      "outputs": [
        {
          "output_type": "stream",
          "text": [
            "Requirement already satisfied: hazm in /usr/local/lib/python3.7/dist-packages (0.7.0)\n",
            "Requirement already satisfied: nltk==3.3 in /usr/local/lib/python3.7/dist-packages (from hazm) (3.3)\n",
            "Requirement already satisfied: libwapiti>=0.2.1 in /usr/local/lib/python3.7/dist-packages (from hazm) (0.2.1)\n",
            "Requirement already satisfied: six in /usr/local/lib/python3.7/dist-packages (from nltk==3.3->hazm) (1.15.0)\n",
            "Requirement already satisfied: tensorflow-gpu==2.0 in /usr/local/lib/python3.7/dist-packages (2.0.0)\n",
            "Requirement already satisfied: wrapt>=1.11.1 in /usr/local/lib/python3.7/dist-packages (from tensorflow-gpu==2.0) (1.12.1)\n",
            "Requirement already satisfied: grpcio>=1.8.6 in /usr/local/lib/python3.7/dist-packages (from tensorflow-gpu==2.0) (1.34.1)\n",
            "Requirement already satisfied: gast==0.2.2 in /usr/local/lib/python3.7/dist-packages (from tensorflow-gpu==2.0) (0.2.2)\n",
            "Requirement already satisfied: numpy<2.0,>=1.16.0 in /usr/local/lib/python3.7/dist-packages (from tensorflow-gpu==2.0) (1.19.5)\n",
            "Requirement already satisfied: tensorboard<2.1.0,>=2.0.0 in /usr/local/lib/python3.7/dist-packages (from tensorflow-gpu==2.0) (2.0.2)\n",
            "Requirement already satisfied: opt-einsum>=2.3.2 in /usr/local/lib/python3.7/dist-packages (from tensorflow-gpu==2.0) (3.3.0)\n",
            "Requirement already satisfied: termcolor>=1.1.0 in /usr/local/lib/python3.7/dist-packages (from tensorflow-gpu==2.0) (1.1.0)\n",
            "Requirement already satisfied: astor>=0.6.0 in /usr/local/lib/python3.7/dist-packages (from tensorflow-gpu==2.0) (0.8.1)\n",
            "Requirement already satisfied: keras-applications>=1.0.8 in /usr/local/lib/python3.7/dist-packages (from tensorflow-gpu==2.0) (1.0.8)\n",
            "Requirement already satisfied: google-pasta>=0.1.6 in /usr/local/lib/python3.7/dist-packages (from tensorflow-gpu==2.0) (0.2.0)\n",
            "Requirement already satisfied: keras-preprocessing>=1.0.5 in /usr/local/lib/python3.7/dist-packages (from tensorflow-gpu==2.0) (1.1.2)\n",
            "Requirement already satisfied: six>=1.10.0 in /usr/local/lib/python3.7/dist-packages (from tensorflow-gpu==2.0) (1.15.0)\n",
            "Requirement already satisfied: wheel>=0.26 in /usr/local/lib/python3.7/dist-packages (from tensorflow-gpu==2.0) (0.36.2)\n",
            "Requirement already satisfied: protobuf>=3.6.1 in /usr/local/lib/python3.7/dist-packages (from tensorflow-gpu==2.0) (3.17.3)\n",
            "Requirement already satisfied: tensorflow-estimator<2.1.0,>=2.0.0 in /usr/local/lib/python3.7/dist-packages (from tensorflow-gpu==2.0) (2.0.1)\n",
            "Requirement already satisfied: absl-py>=0.7.0 in /usr/local/lib/python3.7/dist-packages (from tensorflow-gpu==2.0) (0.12.0)\n",
            "Requirement already satisfied: h5py in /usr/local/lib/python3.7/dist-packages (from keras-applications>=1.0.8->tensorflow-gpu==2.0) (3.1.0)\n",
            "Requirement already satisfied: setuptools>=41.0.0 in /usr/local/lib/python3.7/dist-packages (from tensorboard<2.1.0,>=2.0.0->tensorflow-gpu==2.0) (57.2.0)\n",
            "Requirement already satisfied: google-auth<2,>=1.6.3 in /usr/local/lib/python3.7/dist-packages (from tensorboard<2.1.0,>=2.0.0->tensorflow-gpu==2.0) (1.32.1)\n",
            "Requirement already satisfied: requests<3,>=2.21.0 in /usr/local/lib/python3.7/dist-packages (from tensorboard<2.1.0,>=2.0.0->tensorflow-gpu==2.0) (2.23.0)\n",
            "Requirement already satisfied: markdown>=2.6.8 in /usr/local/lib/python3.7/dist-packages (from tensorboard<2.1.0,>=2.0.0->tensorflow-gpu==2.0) (3.3.4)\n",
            "Requirement already satisfied: google-auth-oauthlib<0.5,>=0.4.1 in /usr/local/lib/python3.7/dist-packages (from tensorboard<2.1.0,>=2.0.0->tensorflow-gpu==2.0) (0.4.4)\n",
            "Requirement already satisfied: werkzeug>=0.11.15 in /usr/local/lib/python3.7/dist-packages (from tensorboard<2.1.0,>=2.0.0->tensorflow-gpu==2.0) (1.0.1)\n",
            "Requirement already satisfied: cachetools<5.0,>=2.0.0 in /usr/local/lib/python3.7/dist-packages (from google-auth<2,>=1.6.3->tensorboard<2.1.0,>=2.0.0->tensorflow-gpu==2.0) (4.2.2)\n",
            "Requirement already satisfied: rsa<5,>=3.1.4 in /usr/local/lib/python3.7/dist-packages (from google-auth<2,>=1.6.3->tensorboard<2.1.0,>=2.0.0->tensorflow-gpu==2.0) (4.7.2)\n",
            "Requirement already satisfied: pyasn1-modules>=0.2.1 in /usr/local/lib/python3.7/dist-packages (from google-auth<2,>=1.6.3->tensorboard<2.1.0,>=2.0.0->tensorflow-gpu==2.0) (0.2.8)\n",
            "Requirement already satisfied: requests-oauthlib>=0.7.0 in /usr/local/lib/python3.7/dist-packages (from google-auth-oauthlib<0.5,>=0.4.1->tensorboard<2.1.0,>=2.0.0->tensorflow-gpu==2.0) (1.3.0)\n",
            "Requirement already satisfied: importlib-metadata in /usr/local/lib/python3.7/dist-packages (from markdown>=2.6.8->tensorboard<2.1.0,>=2.0.0->tensorflow-gpu==2.0) (4.6.1)\n",
            "Requirement already satisfied: pyasn1<0.5.0,>=0.4.6 in /usr/local/lib/python3.7/dist-packages (from pyasn1-modules>=0.2.1->google-auth<2,>=1.6.3->tensorboard<2.1.0,>=2.0.0->tensorflow-gpu==2.0) (0.4.8)\n",
            "Requirement already satisfied: urllib3!=1.25.0,!=1.25.1,<1.26,>=1.21.1 in /usr/local/lib/python3.7/dist-packages (from requests<3,>=2.21.0->tensorboard<2.1.0,>=2.0.0->tensorflow-gpu==2.0) (1.24.3)\n",
            "Requirement already satisfied: idna<3,>=2.5 in /usr/local/lib/python3.7/dist-packages (from requests<3,>=2.21.0->tensorboard<2.1.0,>=2.0.0->tensorflow-gpu==2.0) (2.10)\n",
            "Requirement already satisfied: chardet<4,>=3.0.2 in /usr/local/lib/python3.7/dist-packages (from requests<3,>=2.21.0->tensorboard<2.1.0,>=2.0.0->tensorflow-gpu==2.0) (3.0.4)\n",
            "Requirement already satisfied: certifi>=2017.4.17 in /usr/local/lib/python3.7/dist-packages (from requests<3,>=2.21.0->tensorboard<2.1.0,>=2.0.0->tensorflow-gpu==2.0) (2021.5.30)\n",
            "Requirement already satisfied: oauthlib>=3.0.0 in /usr/local/lib/python3.7/dist-packages (from requests-oauthlib>=0.7.0->google-auth-oauthlib<0.5,>=0.4.1->tensorboard<2.1.0,>=2.0.0->tensorflow-gpu==2.0) (3.1.1)\n",
            "Requirement already satisfied: cached-property in /usr/local/lib/python3.7/dist-packages (from h5py->keras-applications>=1.0.8->tensorflow-gpu==2.0) (1.5.2)\n",
            "Requirement already satisfied: typing-extensions>=3.6.4 in /usr/local/lib/python3.7/dist-packages (from importlib-metadata->markdown>=2.6.8->tensorboard<2.1.0,>=2.0.0->tensorflow-gpu==2.0) (3.7.4.3)\n",
            "Requirement already satisfied: zipp>=0.5 in /usr/local/lib/python3.7/dist-packages (from importlib-metadata->markdown>=2.6.8->tensorboard<2.1.0,>=2.0.0->tensorflow-gpu==2.0) (3.5.0)\n"
          ],
          "name": "stdout"
        }
      ]
    },
    {
      "cell_type": "markdown",
      "metadata": {
        "id": "EMCXlBkvTeWf"
      },
      "source": [
        "### import Pakage "
      ]
    },
    {
      "cell_type": "code",
      "metadata": {
        "id": "cztLUCuyTb3u"
      },
      "source": [
        "import numpy as np\n",
        "import pandas as pd\n",
        "\n",
        "from tensorflow.keras import optimizers\n",
        "from tensorflow.keras.models import Model, Sequential\n",
        "from tensorflow.keras.layers import Dense, Input, Embedding, Dropout, GlobalMaxPool1D\n",
        "from tensorflow.keras.layers import LSTM, Bidirectional\n",
        "from tensorflow.keras.utils import to_categorical\n",
        "from tensorflow.keras.preprocessing.text import Tokenizer\n",
        "from tensorflow.keras.preprocessing.sequence import pad_sequences\n",
        "\n",
        "# Preprocessing\n",
        "from hazm import *\n"
      ],
      "execution_count": null,
      "outputs": []
    },
    {
      "cell_type": "code",
      "metadata": {
        "colab": {
          "base_uri": "https://localhost:8080/"
        },
        "id": "pLKYJUwBQ1nv",
        "outputId": "6868c00d-826d-421a-bc4f-f4526eb91a8c"
      },
      "source": [
        "from google.colab import drive\n",
        "drive.mount('/content/drive')"
      ],
      "execution_count": null,
      "outputs": [
        {
          "output_type": "stream",
          "text": [
            "Drive already mounted at /content/drive; to attempt to forcibly remount, call drive.mount(\"/content/drive\", force_remount=True).\n"
          ],
          "name": "stdout"
        }
      ]
    },
    {
      "cell_type": "code",
      "metadata": {
        "colab": {
          "base_uri": "https://localhost:8080/"
        },
        "id": "RGj8XsjGk6Wp",
        "outputId": "79e26471-be75-4568-d6f6-12e4a0c410d4"
      },
      "source": [
        "!unzip /content/drive/MyDrive/digimag -d /content/drive/MyDrive"
      ],
      "execution_count": null,
      "outputs": [
        {
          "output_type": "stream",
          "text": [
            "Archive:  /content/drive/MyDrive/digimag.zip\n",
            "replace /content/drive/MyDrive/digimag/dev.csv? [y]es, [n]o, [A]ll, [N]one, [r]ename: no\n",
            "replace /content/drive/MyDrive/digimag/test.csv? [y]es, [n]o, [A]ll, [N]one, [r]ename: no\n",
            "replace /content/drive/MyDrive/digimag/train.csv? [y]es, [n]o, [A]ll, [N]one, [r]ename: no\n"
          ],
          "name": "stdout"
        }
      ]
    },
    {
      "cell_type": "code",
      "metadata": {
        "id": "UkN0EOZiQWwE",
        "colab": {
          "base_uri": "https://localhost:8080/"
        },
        "outputId": "7c162079-2849-4336-9bef-58345d564ac0"
      },
      "source": [
        "!unzip /content/drive/MyDrive/digimag.zip -d /content/dataset/"
      ],
      "execution_count": null,
      "outputs": [
        {
          "output_type": "stream",
          "text": [
            "Archive:  /content/drive/MyDrive/digimag.zip\n",
            "replace /content/dataset/digimag/dev.csv? [y]es, [n]o, [A]ll, [N]one, [r]ename: no\n",
            "replace /content/dataset/digimag/test.csv? [y]es, [n]o, [A]ll, [N]one, [r]ename: no\n",
            "replace /content/dataset/digimag/train.csv? [y]es, [n]o, [A]ll, [N]one, [r]ename: no\n"
          ],
          "name": "stdout"
        }
      ]
    },
    {
      "cell_type": "markdown",
      "metadata": {
        "id": "o47gfQ99UHrv"
      },
      "source": [
        "### Read dataset"
      ]
    },
    {
      "cell_type": "code",
      "metadata": {
        "id": "DNx25HZyQI8H",
        "colab": {
          "base_uri": "https://localhost:8080/",
          "height": 423
        },
        "outputId": "dda978ee-c44e-428c-8101-b5baf9f1cc4d"
      },
      "source": [
        "train_data = pd.read_csv('/content/drive/MyDrive/digimag/train.csv', encoding='utf-8', sep='\\t')\n",
        "train_data"
      ],
      "execution_count": null,
      "outputs": [
        {
          "output_type": "execute_result",
          "data": {
            "text/html": [
              "<div>\n",
              "<style scoped>\n",
              "    .dataframe tbody tr th:only-of-type {\n",
              "        vertical-align: middle;\n",
              "    }\n",
              "\n",
              "    .dataframe tbody tr th {\n",
              "        vertical-align: top;\n",
              "    }\n",
              "\n",
              "    .dataframe thead th {\n",
              "        text-align: right;\n",
              "    }\n",
              "</style>\n",
              "<table border=\"1\" class=\"dataframe\">\n",
              "  <thead>\n",
              "    <tr style=\"text-align: right;\">\n",
              "      <th></th>\n",
              "      <th>Unnamed: 0</th>\n",
              "      <th>content</th>\n",
              "      <th>label</th>\n",
              "      <th>label_id</th>\n",
              "    </tr>\n",
              "  </thead>\n",
              "  <tbody>\n",
              "    <tr>\n",
              "      <th>0</th>\n",
              "      <td>0</td>\n",
              "      <td>نمایش تبلیغ در لاک‌اسکرین تعدادی از گوشی‌های ه...</td>\n",
              "      <td>علم و تکنولوژی</td>\n",
              "      <td>3</td>\n",
              "    </tr>\n",
              "    <tr>\n",
              "      <th>1</th>\n",
              "      <td>1</td>\n",
              "      <td>شکست Justice League در باکس آفیس پس از بازخورد...</td>\n",
              "      <td>هنر و سینما</td>\n",
              "      <td>5</td>\n",
              "    </tr>\n",
              "    <tr>\n",
              "      <th>2</th>\n",
              "      <td>2</td>\n",
              "      <td>کلاسیک بینی؛ همه چیز در یک شب اتفاق افتاد فیلم...</td>\n",
              "      <td>هنر و سینما</td>\n",
              "      <td>5</td>\n",
              "    </tr>\n",
              "    <tr>\n",
              "      <th>3</th>\n",
              "      <td>3</td>\n",
              "      <td>اپل دوباره سراغ رنده رفته چراکه آپگرید کردن سط...</td>\n",
              "      <td>علم و تکنولوژی</td>\n",
              "      <td>3</td>\n",
              "    </tr>\n",
              "    <tr>\n",
              "      <th>4</th>\n",
              "      <td>4</td>\n",
              "      <td>بررسی جزء به جزء بهترین بخش Ori and the Blind ...</td>\n",
              "      <td>بازی ویدیویی</td>\n",
              "      <td>0</td>\n",
              "    </tr>\n",
              "    <tr>\n",
              "      <th>...</th>\n",
              "      <td>...</td>\n",
              "      <td>...</td>\n",
              "      <td>...</td>\n",
              "      <td>...</td>\n",
              "    </tr>\n",
              "    <tr>\n",
              "      <th>6891</th>\n",
              "      <td>6891</td>\n",
              "      <td>چند ساعت خواب برای بدن شما مفید است؟ شایع است ...</td>\n",
              "      <td>سلامت و زیبایی</td>\n",
              "      <td>2</td>\n",
              "    </tr>\n",
              "    <tr>\n",
              "      <th>6892</th>\n",
              "      <td>6892</td>\n",
              "      <td>فیلم مگامن ساخته می‌شود شرکت بازی‌سازی کپ‌کام ...</td>\n",
              "      <td>بازی ویدیویی</td>\n",
              "      <td>0</td>\n",
              "    </tr>\n",
              "    <tr>\n",
              "      <th>6893</th>\n",
              "      <td>6893</td>\n",
              "      <td>تعداد حملات بدافزاری به سیستم‌ عامل مکینتاش بر...</td>\n",
              "      <td>علم و تکنولوژی</td>\n",
              "      <td>3</td>\n",
              "    </tr>\n",
              "    <tr>\n",
              "      <th>6894</th>\n",
              "      <td>6894</td>\n",
              "      <td>چطور از مبتلا شدن به آنفولانزا پیشگیری کنیم؟ (...</td>\n",
              "      <td>سلامت و زیبایی</td>\n",
              "      <td>2</td>\n",
              "    </tr>\n",
              "    <tr>\n",
              "      <th>6895</th>\n",
              "      <td>6895</td>\n",
              "      <td>وقتی اینترنت بتسدا را بر سر عرضه Doom دست می‌ا...</td>\n",
              "      <td>بازی ویدیویی</td>\n",
              "      <td>0</td>\n",
              "    </tr>\n",
              "  </tbody>\n",
              "</table>\n",
              "<p>6896 rows × 4 columns</p>\n",
              "</div>"
            ],
            "text/plain": [
              "      Unnamed: 0  ... label_id\n",
              "0              0  ...        3\n",
              "1              1  ...        5\n",
              "2              2  ...        5\n",
              "3              3  ...        3\n",
              "4              4  ...        0\n",
              "...          ...  ...      ...\n",
              "6891        6891  ...        2\n",
              "6892        6892  ...        0\n",
              "6893        6893  ...        3\n",
              "6894        6894  ...        2\n",
              "6895        6895  ...        0\n",
              "\n",
              "[6896 rows x 4 columns]"
            ]
          },
          "metadata": {
            "tags": []
          },
          "execution_count": 61
        }
      ]
    },
    {
      "cell_type": "code",
      "metadata": {
        "id": "suHu3ZRgUMn0",
        "colab": {
          "base_uri": "https://localhost:8080/"
        },
        "outputId": "2db31849-870b-4c7d-e60d-894e76ad4325"
      },
      "source": [
        "sentence_train = train_data['content']\n",
        "label_train = train_data['label_id']\n",
        "\n",
        "print('Number of training sentence: ', sentence_train.shape)\n",
        "print('Number of training label: ', label_train.shape)\n"
      ],
      "execution_count": null,
      "outputs": [
        {
          "output_type": "stream",
          "text": [
            "Number of training sentence:  (6896,)\n",
            "Number of training label:  (6896,)\n"
          ],
          "name": "stdout"
        }
      ]
    },
    {
      "cell_type": "code",
      "metadata": {
        "id": "uc0wOKRGfoSc",
        "colab": {
          "base_uri": "https://localhost:8080/"
        },
        "outputId": "5aa34860-f3f0-46ef-c3b4-7aaaad862362"
      },
      "source": [
        "from collections import Counter\n",
        "cnt = Counter(label_train)\n",
        "cnt = dict(cnt)\n",
        "print(cnt)"
      ],
      "execution_count": null,
      "outputs": [
        {
          "output_type": "stream",
          "text": [
            "{3: 2245, 5: 1350, 0: 1593, 6: 206, 2: 1304, 4: 97, 1: 101}\n"
          ],
          "name": "stdout"
        }
      ]
    },
    {
      "cell_type": "code",
      "metadata": {
        "id": "0Rp0HyGXUkPD"
      },
      "source": [
        "# Convert dataframes to numpy arrays\n",
        "sentence_train = np.asarray(sentence_train)\n",
        "label_train = np.asarray(label_train)"
      ],
      "execution_count": null,
      "outputs": []
    },
    {
      "cell_type": "code",
      "metadata": {
        "id": "1a0IFZTwXy3Y",
        "colab": {
          "base_uri": "https://localhost:8080/"
        },
        "outputId": "8b1f516a-234c-4900-988b-30b010f984e4"
      },
      "source": [
        "# Prepare labels for categorical prediction\n",
        "categorical_label_train = to_categorical(label_train, 7)\n",
        "categorical_label_train"
      ],
      "execution_count": null,
      "outputs": [
        {
          "output_type": "execute_result",
          "data": {
            "text/plain": [
              "array([[0., 0., 0., ..., 0., 0., 0.],\n",
              "       [0., 0., 0., ..., 0., 1., 0.],\n",
              "       [0., 0., 0., ..., 0., 1., 0.],\n",
              "       ...,\n",
              "       [0., 0., 0., ..., 0., 0., 0.],\n",
              "       [0., 0., 1., ..., 0., 0., 0.],\n",
              "       [1., 0., 0., ..., 0., 0., 0.]], dtype=float32)"
            ]
          },
          "metadata": {
            "tags": []
          },
          "execution_count": 65
        }
      ]
    },
    {
      "cell_type": "markdown",
      "metadata": {
        "id": "bz6bQG55V1EX"
      },
      "source": [
        "### Preprocessing "
      ]
    },
    {
      "cell_type": "code",
      "metadata": {
        "id": "hWzTC7SRU9aP"
      },
      "source": [
        "import re\n",
        "normalizer = Normalizer()\n",
        "lemmatizer = Lemmatizer()\n",
        "stemmer = Stemmer()\n",
        "# turn a doc into clean tokens\n",
        "def clean_data(doc):\n",
        "    doc = normalizer.normalize(doc) # Normalize document using Hazm Normalizer\n",
        "    tokenized = word_tokenize(doc)  # Tokenize text\n",
        "    # ['یه', 'ساله', 'خریدم', 'خیلی', 'ضعیف', 'است', 'بازی', 'هم', 'که', 'چی', 'بگم', 'هیچ', 'کدوم', 'رو', 'باز', 'نمیکنه']\n",
        "    tokens = []\n",
        "    for token in tokenized:\n",
        "      token = re.sub(\"[،:.,;()/+]\", \" \", token) \n",
        "      token = re.sub(r\"\\!+\",\"!\", token)\n",
        "      token = re.sub(r\"\\؟+\",\"؟\", token)\n",
        "      token = re.sub(r\"\\u200c\", \" \", token)\n",
        "      tokens.append(token)\n",
        "\n",
        "    tokens = [w for w in tokens if not len(w) <= 1] # single character removal \n",
        "    tokens = [w for w in tokens if not w.isdigit()] # digit remove\n",
        "    tokens = [lemmatizer.lemmatize(w) for w in tokens] # Lemmatize sentence words using Hazm Lemmatizer\n",
        "    tokens = [stemmer.stem(w) for w in tokens] \n",
        "    tokens = ' '.join(tokens)\n",
        "    return tokens"
      ],
      "execution_count": null,
      "outputs": []
    },
    {
      "cell_type": "markdown",
      "metadata": {
        "id": "xsLFXIa0WRBV"
      },
      "source": [
        "### Apply preprocessing to dataset\n",
        "\n",
        "\n"
      ]
    },
    {
      "cell_type": "code",
      "metadata": {
        "id": "DCnhFVpuW46y"
      },
      "source": [
        "# Apply preprocessing step to training data\n",
        "train_docs = np.empty_like(sentence_train)\n",
        "for index, document in enumerate(sentence_train):\n",
        "  train_docs[index] = clean_data(document)"
      ],
      "execution_count": null,
      "outputs": []
    },
    {
      "cell_type": "markdown",
      "metadata": {
        "id": "52iua_gbXK1c"
      },
      "source": [
        "### Set tokenizer and encode sentences\n",
        "\n",
        "\n",
        "```\n",
        "با کمي هزينه بيشتر يک گوشي سوني در همين رده بگيريد بهتر خواهد بود.\n",
        "[7, 64, 664, 104, 16, 11, 240, 5, 191, 282, 68, 54, 131, 36, 37]\n",
        "```\n",
        "\n"
      ]
    },
    {
      "cell_type": "code",
      "metadata": {
        "id": "q0AQ_pRJXCp8",
        "colab": {
          "base_uri": "https://localhost:8080/"
        },
        "outputId": "7ab79007-a1e2-466c-c732-df3a27b33209"
      },
      "source": [
        "num_words = 2000\n",
        "\n",
        "# Create the tokenizer\n",
        "tokenizer = Tokenizer(num_words=num_words)\n",
        "tokenizer.fit_on_texts(train_docs)\n",
        "encoded_docs = tokenizer.texts_to_sequences(train_docs)\n",
        "print(encoded_docs)"
      ],
      "execution_count": null,
      "outputs": [
        {
          "output_type": "stream",
          "text": [
            "IOPub data rate exceeded.\n",
            "The notebook server will temporarily stop sending output\n",
            "to the client in order to avoid crashing it.\n",
            "To change this limit, set the config variable\n",
            "`--NotebookApp.iopub_data_rate_limit`.\n",
            "\n",
            "Current values:\n",
            "NotebookApp.iopub_data_rate_limit=1000000.0 (bytes/sec)\n",
            "NotebookApp.rate_limit_window=3.0 (secs)\n",
            "\n"
          ],
          "name": "stderr"
        }
      ]
    },
    {
      "cell_type": "code",
      "metadata": {
        "id": "7HokPEHLXQj3",
        "colab": {
          "base_uri": "https://localhost:8080/"
        },
        "outputId": "d69ceb24-3b55-4448-dde0-786800226e83"
      },
      "source": [
        "# Find maximum length of training sentences\n",
        "max_length = max([len(s.split()) for s in train_docs])\n",
        "max_length"
      ],
      "execution_count": null,
      "outputs": [
        {
          "output_type": "execute_result",
          "data": {
            "text/plain": [
              "10148"
            ]
          },
          "metadata": {
            "tags": []
          },
          "execution_count": 69
        }
      ]
    },
    {
      "cell_type": "markdown",
      "metadata": {
        "id": "CtirPRR2XWIB"
      },
      "source": [
        "### Padding "
      ]
    },
    {
      "cell_type": "code",
      "metadata": {
        "id": "uVfbfnvyXTcg"
      },
      "source": [
        "# Pad embeded training sequences\n",
        "x_train_padded = pad_sequences(encoded_docs, maxlen=max_length, padding='post')"
      ],
      "execution_count": null,
      "outputs": []
    },
    {
      "cell_type": "code",
      "metadata": {
        "id": "IjImis2_XdVl",
        "colab": {
          "base_uri": "https://localhost:8080/"
        },
        "outputId": "0c0d16f1-0056-4fc4-8c4d-02bbb91116ef"
      },
      "source": [
        "x_train_padded[1]"
      ],
      "execution_count": null,
      "outputs": [
        {
          "output_type": "execute_result",
          "data": {
            "text/plain": [
              "array([664,   2, 216, ...,   0,   0,   0], dtype=int32)"
            ]
          },
          "metadata": {
            "tags": []
          },
          "execution_count": 71
        }
      ]
    },
    {
      "cell_type": "code",
      "metadata": {
        "id": "Sgf7SfvrXivd"
      },
      "source": [
        "#vocabulary size\n",
        "vocab_size = len(tokenizer.word_index)"
      ],
      "execution_count": null,
      "outputs": []
    },
    {
      "cell_type": "code",
      "metadata": {
        "colab": {
          "base_uri": "https://localhost:8080/",
          "height": 423
        },
        "id": "LxXa3AtXlcZh",
        "outputId": "40d52bed-affd-48a9-f734-721f5120a06d"
      },
      "source": [
        "valid_set = pd.read_csv('/content/drive/MyDrive/digimag/dev.csv',encoding=\"utf-8\",sep='\\t')\n",
        "valid_set"
      ],
      "execution_count": null,
      "outputs": [
        {
          "output_type": "execute_result",
          "data": {
            "text/html": [
              "<div>\n",
              "<style scoped>\n",
              "    .dataframe tbody tr th:only-of-type {\n",
              "        vertical-align: middle;\n",
              "    }\n",
              "\n",
              "    .dataframe tbody tr th {\n",
              "        vertical-align: top;\n",
              "    }\n",
              "\n",
              "    .dataframe thead th {\n",
              "        text-align: right;\n",
              "    }\n",
              "</style>\n",
              "<table border=\"1\" class=\"dataframe\">\n",
              "  <thead>\n",
              "    <tr style=\"text-align: right;\">\n",
              "      <th></th>\n",
              "      <th>Unnamed: 0</th>\n",
              "      <th>content</th>\n",
              "      <th>label</th>\n",
              "      <th>label_id</th>\n",
              "    </tr>\n",
              "  </thead>\n",
              "  <tbody>\n",
              "    <tr>\n",
              "      <th>0</th>\n",
              "      <td>0</td>\n",
              "      <td>نت‌فلیکس مجموعه‌ی سریالی کسلوانیا را می‌سازد [...</td>\n",
              "      <td>هنر و سینما</td>\n",
              "      <td>5</td>\n",
              "    </tr>\n",
              "    <tr>\n",
              "      <th>1</th>\n",
              "      <td>1</td>\n",
              "      <td>کارگردان The Last Guardian از بازی بعدی‌اش می‌...</td>\n",
              "      <td>بازی ویدیویی</td>\n",
              "      <td>0</td>\n",
              "    </tr>\n",
              "    <tr>\n",
              "      <th>2</th>\n",
              "      <td>2</td>\n",
              "      <td>کارت اعتباری اپل کارت معرفی شد در مراسم Show T...</td>\n",
              "      <td>علم و تکنولوژی</td>\n",
              "      <td>3</td>\n",
              "    </tr>\n",
              "    <tr>\n",
              "      <th>3</th>\n",
              "      <td>3</td>\n",
              "      <td>از کنفرانس مایکروسافت و کنسول بعدی سونی تا دیگ...</td>\n",
              "      <td>بازی ویدیویی</td>\n",
              "      <td>0</td>\n",
              "    </tr>\n",
              "    <tr>\n",
              "      <th>4</th>\n",
              "      <td>4</td>\n",
              "      <td>از رویداد ماه اکتبر اپل چه انتظاراتی داریم؟ در...</td>\n",
              "      <td>علم و تکنولوژی</td>\n",
              "      <td>3</td>\n",
              "    </tr>\n",
              "    <tr>\n",
              "      <th>...</th>\n",
              "      <td>...</td>\n",
              "      <td>...</td>\n",
              "      <td>...</td>\n",
              "      <td>...</td>\n",
              "    </tr>\n",
              "    <tr>\n",
              "      <th>762</th>\n",
              "      <td>762</td>\n",
              "      <td>۱۰ جزیره زیبای دنیا که حتما باید به آن‌ها سفر ...</td>\n",
              "      <td>سلامت و زیبایی</td>\n",
              "      <td>2</td>\n",
              "    </tr>\n",
              "    <tr>\n",
              "      <th>763</th>\n",
              "      <td>763</td>\n",
              "      <td>تریلر بسته الحاقی Iceborne برای Monster Hunter...</td>\n",
              "      <td>بازی ویدیویی</td>\n",
              "      <td>0</td>\n",
              "    </tr>\n",
              "    <tr>\n",
              "      <th>764</th>\n",
              "      <td>764</td>\n",
              "      <td>دیزنی از روابطش با الکترونیک آرتز می‌گوید به گ...</td>\n",
              "      <td>بازی ویدیویی</td>\n",
              "      <td>0</td>\n",
              "    </tr>\n",
              "    <tr>\n",
              "      <th>765</th>\n",
              "      <td>765</td>\n",
              "      <td>افتضاح لوت‌باکس‌های Battlefront ۲ سیاه‌ترین دو...</td>\n",
              "      <td>بازی ویدیویی</td>\n",
              "      <td>0</td>\n",
              "    </tr>\n",
              "    <tr>\n",
              "      <th>766</th>\n",
              "      <td>766</td>\n",
              "      <td>چطور هنگام تماس تلفنی نفر سوم را به مکالمه اضا...</td>\n",
              "      <td>علم و تکنولوژی</td>\n",
              "      <td>3</td>\n",
              "    </tr>\n",
              "  </tbody>\n",
              "</table>\n",
              "<p>767 rows × 4 columns</p>\n",
              "</div>"
            ],
            "text/plain": [
              "     Unnamed: 0  ... label_id\n",
              "0             0  ...        5\n",
              "1             1  ...        0\n",
              "2             2  ...        3\n",
              "3             3  ...        0\n",
              "4             4  ...        3\n",
              "..          ...  ...      ...\n",
              "762         762  ...        2\n",
              "763         763  ...        0\n",
              "764         764  ...        0\n",
              "765         765  ...        0\n",
              "766         766  ...        3\n",
              "\n",
              "[767 rows x 4 columns]"
            ]
          },
          "metadata": {
            "tags": []
          },
          "execution_count": 73
        }
      ]
    },
    {
      "cell_type": "code",
      "metadata": {
        "id": "iSPYyNdnlymM"
      },
      "source": [
        "sentence_valid = np.asarray(valid_set['content'])\n",
        "label_valid = np.asarray(valid_set['label_id'])"
      ],
      "execution_count": null,
      "outputs": []
    },
    {
      "cell_type": "code",
      "metadata": {
        "colab": {
          "base_uri": "https://localhost:8080/"
        },
        "id": "eRx88n7Il3Sy",
        "outputId": "b4619c96-0d7c-479f-8e10-764dc15d2c52"
      },
      "source": [
        "categorical_label_valid = to_categorical(label_valid, 7)\n",
        "categorical_label_valid"
      ],
      "execution_count": null,
      "outputs": [
        {
          "output_type": "execute_result",
          "data": {
            "text/plain": [
              "array([[0., 0., 0., ..., 0., 1., 0.],\n",
              "       [1., 0., 0., ..., 0., 0., 0.],\n",
              "       [0., 0., 0., ..., 0., 0., 0.],\n",
              "       ...,\n",
              "       [1., 0., 0., ..., 0., 0., 0.],\n",
              "       [1., 0., 0., ..., 0., 0., 0.],\n",
              "       [0., 0., 0., ..., 0., 0., 0.]], dtype=float32)"
            ]
          },
          "metadata": {
            "tags": []
          },
          "execution_count": 75
        }
      ]
    },
    {
      "cell_type": "code",
      "metadata": {
        "id": "Gu5Q77fwl-I8"
      },
      "source": [
        "# Apply preprocessing step to valid data\n",
        "valid_docs = np.empty_like(sentence_valid)\n",
        "for index, document in enumerate(sentence_valid):\n",
        "  valid_docs[index] = clean_data(document)"
      ],
      "execution_count": null,
      "outputs": []
    },
    {
      "cell_type": "code",
      "metadata": {
        "id": "MiqmtsnWl_Et"
      },
      "source": [
        "# Embed valid sequences\n",
        "encoded_docs1 = tokenizer.texts_to_sequences(valid_docs)\n",
        "x_valid_padded = pad_sequences(encoded_docs1, maxlen=max_length, padding='post')"
      ],
      "execution_count": null,
      "outputs": []
    },
    {
      "cell_type": "code",
      "metadata": {
        "id": "oGshs0f5Xohk"
      },
      "source": [
        "model_blstm = Sequential()\n",
        "\n",
        "model_blstm.add(Embedding(vocab_size, 100, input_length=max_length))\n",
        "model_blstm.add(Bidirectional(LSTM(100, return_sequences=True, name='lstm_layer')))\n",
        "\n",
        "model_blstm.add(GlobalMaxPool1D())\n",
        "model_blstm.add(Dropout(0.25))\n",
        "model_blstm.add(Dense(300, activation=\"relu\"))\n",
        "model_blstm.add(Dropout(0.2))\n",
        "model_blstm.add(Dense(7, activation='softmax'))"
      ],
      "execution_count": null,
      "outputs": []
    },
    {
      "cell_type": "code",
      "metadata": {
        "id": "MUHcLn2-Xq-s",
        "colab": {
          "base_uri": "https://localhost:8080/"
        },
        "outputId": "32ea0196-9b41-4125-a4ee-06128992bc07"
      },
      "source": [
        "model_blstm.compile(loss='categorical_crossentropy',\n",
        "              optimizer='adam',\n",
        "              metrics=[\"categorical_accuracy\"])\n",
        "\n",
        "model_blstm.summary()\n",
        "batch_size_blstm = 64\n",
        "epochs_blstm = 10"
      ],
      "execution_count": null,
      "outputs": [
        {
          "output_type": "stream",
          "text": [
            "Model: \"sequential_2\"\n",
            "_________________________________________________________________\n",
            "Layer (type)                 Output Shape              Param #   \n",
            "=================================================================\n",
            "embedding_2 (Embedding)      (None, 10148, 100)        6750400   \n",
            "_________________________________________________________________\n",
            "bidirectional_2 (Bidirection (None, 10148, 200)        160800    \n",
            "_________________________________________________________________\n",
            "global_max_pooling1d_2 (Glob (None, 200)               0         \n",
            "_________________________________________________________________\n",
            "dropout_4 (Dropout)          (None, 200)               0         \n",
            "_________________________________________________________________\n",
            "dense_4 (Dense)              (None, 300)               60300     \n",
            "_________________________________________________________________\n",
            "dropout_5 (Dropout)          (None, 300)               0         \n",
            "_________________________________________________________________\n",
            "dense_5 (Dense)              (None, 7)                 2107      \n",
            "=================================================================\n",
            "Total params: 6,973,607\n",
            "Trainable params: 6,973,607\n",
            "Non-trainable params: 0\n",
            "_________________________________________________________________\n"
          ],
          "name": "stdout"
        }
      ]
    },
    {
      "cell_type": "code",
      "metadata": {
        "id": "8IoPVntAYNM_",
        "colab": {
          "base_uri": "https://localhost:8080/"
        },
        "outputId": "a4965889-f369-42b3-ad1a-0d70bc337d81"
      },
      "source": [
        "hist_blstm = model_blstm.fit(x_train_padded, categorical_label_train,validation_data=(x_valid_padded,categorical_label_valid),\n",
        "                             batch_size=batch_size_blstm, epochs=epochs_blstm,\n",
        "                             shuffle=True)"
      ],
      "execution_count": null,
      "outputs": [
        {
          "output_type": "stream",
          "text": [
            "Train on 6896 samples, validate on 767 samples\n",
            "Epoch 1/10\n",
            "6896/6896 [==============================] - 163s 24ms/sample - loss: 1.2801 - categorical_accuracy: 0.5310 - val_loss: 0.6121 - val_categorical_accuracy: 0.8631\n",
            "Epoch 2/10\n",
            "6896/6896 [==============================] - 159s 23ms/sample - loss: 0.4730 - categorical_accuracy: 0.8727 - val_loss: 0.3647 - val_categorical_accuracy: 0.8996\n",
            "Epoch 3/10\n",
            "6896/6896 [==============================] - 159s 23ms/sample - loss: 0.3253 - categorical_accuracy: 0.9066 - val_loss: 0.2787 - val_categorical_accuracy: 0.9270\n",
            "Epoch 4/10\n",
            "6896/6896 [==============================] - 159s 23ms/sample - loss: 0.2391 - categorical_accuracy: 0.9394 - val_loss: 0.2471 - val_categorical_accuracy: 0.9270\n",
            "Epoch 5/10\n",
            "6896/6896 [==============================] - 159s 23ms/sample - loss: 0.1969 - categorical_accuracy: 0.9465 - val_loss: 0.2770 - val_categorical_accuracy: 0.9244\n",
            "Epoch 6/10\n",
            "6896/6896 [==============================] - 159s 23ms/sample - loss: 0.1649 - categorical_accuracy: 0.9542 - val_loss: 0.2623 - val_categorical_accuracy: 0.9283\n",
            "Epoch 7/10\n",
            "6896/6896 [==============================] - 159s 23ms/sample - loss: 0.1374 - categorical_accuracy: 0.9635 - val_loss: 0.2525 - val_categorical_accuracy: 0.9335\n",
            "Epoch 8/10\n",
            "6896/6896 [==============================] - 159s 23ms/sample - loss: 0.1217 - categorical_accuracy: 0.9674 - val_loss: 0.2691 - val_categorical_accuracy: 0.9348\n",
            "Epoch 9/10\n",
            "6896/6896 [==============================] - 159s 23ms/sample - loss: 0.1063 - categorical_accuracy: 0.9701 - val_loss: 0.2289 - val_categorical_accuracy: 0.9361\n",
            "Epoch 10/10\n",
            "6896/6896 [==============================] - 159s 23ms/sample - loss: 0.0984 - categorical_accuracy: 0.9743 - val_loss: 0.2217 - val_categorical_accuracy: 0.9387\n"
          ],
          "name": "stdout"
        }
      ]
    },
    {
      "cell_type": "code",
      "metadata": {
        "id": "3rVbF9r_CnYj"
      },
      "source": [
        ""
      ],
      "execution_count": null,
      "outputs": []
    },
    {
      "cell_type": "code",
      "metadata": {
        "id": "0GH6UTu0Cnue"
      },
      "source": [
        "test_data = pd.read_csv('/content/drive/MyDrive/digimag/test.csv', encoding='utf-8', sep='\\t')\n",
        "\n",
        "x_test = test_data['content']\n",
        "y_test = test_data['label_id']"
      ],
      "execution_count": null,
      "outputs": []
    },
    {
      "cell_type": "code",
      "metadata": {
        "id": "AaOgAxDgnof2",
        "colab": {
          "base_uri": "https://localhost:8080/"
        },
        "outputId": "8a21eecc-b303-4a97-af40-37a9d231077e"
      },
      "source": [
        "\n",
        "print('Number of testing sentence: ', x_test.shape)\n",
        "print('Number of testing label: ', y_test.shape)"
      ],
      "execution_count": null,
      "outputs": [
        {
          "output_type": "stream",
          "text": [
            "Number of testing sentence:  (852,)\n",
            "Number of testing label:  (852,)\n"
          ],
          "name": "stdout"
        }
      ]
    },
    {
      "cell_type": "code",
      "metadata": {
        "id": "kRTnA72wnrCs"
      },
      "source": [
        "# Convert dataframes to numpy arrays\n",
        "x_test = np.asarray(x_test)\n",
        "y_test = np.asarray(y_test)"
      ],
      "execution_count": null,
      "outputs": []
    },
    {
      "cell_type": "code",
      "metadata": {
        "id": "co3LO695nvRL"
      },
      "source": [
        "# Applying preprocessing step to test data\n",
        "test_docs = np.empty_like(x_test)\n",
        "for index, document in enumerate(x_test):\n",
        "  test_docs[index] = clean_data(document)"
      ],
      "execution_count": null,
      "outputs": []
    },
    {
      "cell_type": "code",
      "metadata": {
        "id": "pGruunIen-XK"
      },
      "source": [
        "# Embed testing sequences\n",
        "encoded_docs = tokenizer.texts_to_sequences(test_docs)\n",
        "x_test_padded = pad_sequences(encoded_docs, maxlen=max_length, padding='post')"
      ],
      "execution_count": null,
      "outputs": []
    },
    {
      "cell_type": "code",
      "metadata": {
        "id": "fyj6DuzynvTy"
      },
      "source": [
        "categorical_y_test = to_categorical(y_test, 7)"
      ],
      "execution_count": null,
      "outputs": []
    },
    {
      "cell_type": "code",
      "metadata": {
        "id": "7v7ONeWznvVv",
        "colab": {
          "base_uri": "https://localhost:8080/"
        },
        "outputId": "67e3f067-758a-4a18-cb4a-8e24c33e8ad0"
      },
      "source": [
        "# Evaluate model\n",
        "loss_blstm, acc_blstm = model_blstm.evaluate(x_test_padded, categorical_y_test, verbose=1)\n",
        "print('Test Accuracy: %f' % (acc_blstm*100))"
      ],
      "execution_count": null,
      "outputs": [
        {
          "output_type": "stream",
          "text": [
            "\r852/1 [========================================================================================================================================================================================================================================================================================================================================================================================================================================================================================================================================================================================================================================================================================================================================================================================================================================================================================================================================================================================================================================================================================================================================================================================================================================================================================================================================================================================================================================================================================================================================================================================================================================================================================================================================================================================================================================================================================================================================================================================================================================================================================================================================================================================================================================================================================================================================================================================================================================================================================================================================================================================================================================================================================================================================================================================================================================================================================================================================================================================================================================================================================================================================================================================================================================================================================================================================================================================================================================================================================================================================================================================================================================================================================================================================================================================================================================================================================================================================================================================================================================================================================================================================================================================================================================================================================================================================================================================================================================================================================================================================================================================================================================================================================================================================================================================================================================================================================================================================================================================================================================================================================================================================================================================================================================================================================================================================================================================================================================================================================================================================================================================================================================================================================================================================================================================================================================================================================================================================================================================================================================================================================================================================================================================================================================================================================================================================================================================================================================================================================================================================================================================================================================================================================================================================================================================================================================================================================================================================================================================================================================================================================================================================================================================================================================================================================================================================================================================================================================================================================================================================================================================================================================================================================================================================================================================================================================================================================================================================================================================================================================================================================================================================================================================================================================================================================================================================================================================================================================================================================================================================================================================================================================================================================================================================================================================================================================================================================================================================================================================================================================================================================================================================================================================================================================================================================================================================================================================================================================================================================================================================================================================================================================================================================================================================================================================================================================================================================================================================================================================================================================================================================================================================================================================================================================================================================================================================================================================================================================================================================================================================================================================================================================================================================================================================================================================================================================================================================================================================================================================================================================================================================================================================================================================================================================================================================================================================================================================================================================================================================================================================================================================================================================================================================================================================================================================================================================================================================================================================================================================================================================================================================================================================================================================================================================================================================================================================================================================================================================================================================================================================================================================================================================================================================================================================================================================================================================================================================================================================================================================================================================================================================================================================================================================================================================================================================================================================================================================================================================================================================================================================================================================================================================================================================================================================================================================================================================================================================================================================================================================================================================================================================================================================================================================================================================================================================================================================================================================================================================================================================================================================================================================================================================================================================================================================================================================================================================================================================================================================================================================================================================================================================================================================================================================================================================================================================================================================================================================================================================================================================================================================================================================================================================================================================================================================================================================================================================================================================================================================================================================================================================================================================================================================================================================================================================================================================================================================================================================================================================================================================================================================================================================================================================================================================================================================================================================================================================================================================================================================================================================================================================================================================================================================================================================================================================================================================================================================================================================================================================================================================================================================================================================================================================================================================================================================================================================================================================================================================================================================================================================================================================================================================================================================================================================================================================================================================================================================================================================================================================================================================================================================================================================================================================================================================================================================================================================================================================================================================================================================================================================================================================================================================================================================================================================================================================================================================================================================================================================================================================================================================================================================================================================================================================================================================================================================================================================================================================================================================================================================================================================================================================================================================================================================================================================================================================================================================================================================================================================================================================================================================================================================================================================================================================================================================================================================================================================================================================================================================================================================================================================================================================================================================================================================================================================================================================================================================================================================================================================================================================================================================================================================================================================================================================================================================================================================================================================================================================================================================================================================================================================================================================================================================================================================================================================================================================================================================================================================================================================================================================================================================================================================================================================================================================================================================================================================================================================================================================================================================================================================================================================================================================================================================================================================================================================================================================================================================================================================================================================================================================================================================================================================================================================================================================================================================================================================================================================================================================================================================================================================================================================================================================================================================================================================================================================================================================================================================================================================================================================================================================================================================================================================================================================================================================================================================================================================================================================================================================================================================================================================================================================================================================================================================================================================================================================================================================================================================================================================================================================================================================================================================================================================================================================================================================================================================================================================================================================================================================================================================================================================================================================================================================================================================================================================================================================================================================================================================================================================================================================================================================================================================================================================================================================================================] - 11s 13ms/sample - loss: 0.2981 - categorical_accuracy: 0.9202\n",
            "Test Accuracy: 92.018777\n"
          ],
          "name": "stdout"
        }
      ]
    },
    {
      "cell_type": "code",
      "metadata": {
        "id": "oqqF14Z0rwEj"
      },
      "source": [
        "y_pred_blstm = model_blstm.predict_classes(x_test_padded)"
      ],
      "execution_count": null,
      "outputs": []
    },
    {
      "cell_type": "code",
      "metadata": {
        "id": "g2e9xe5DK1Tq"
      },
      "source": [
        "text = []\n",
        "true_label = []\n",
        "pred_label = []\n",
        "\n",
        "public =0\n",
        "\n",
        "Art_cinema= 0 \n",
        "\n",
        "Science_technology=0\n",
        "\n",
        "Health_Beauty = 0\n",
        "\n",
        "Purchase_guide = 0\n",
        "\n",
        "Books_literature = 0\n",
        "\n",
        "games=0\n",
        "\n",
        "\n",
        "\n",
        "for i in range(len(y_pred_blstm)):\n",
        "  text.append(x_test[i])\n",
        "  true_label.append(y_test[i])\n",
        "\n",
        "  if y_pred_blstm[i] == 0:\n",
        "    games +=1\n",
        "    pred_label.append(\"بازی ویدیویی\")\n",
        "\n",
        "  elif y_pred_blstm[i] == 1:\n",
        "    Purchase_guide +=1\n",
        "    pred_label.append(\"راهنمای خرید\")\n",
        "\n",
        "  elif y_pred_blstm[i] == 2:\n",
        "    Health_Beauty +=1\n",
        "    pred_label.append(\"سلامت و زیبایی\")\n",
        "\n",
        "  if y_pred_blstm[i] == 3:\n",
        "    Science_technology +=1\n",
        "    pred_label.append(\"علم و تکنولوژی\")\n",
        "\n",
        "  elif y_pred_blstm[i] == 4:\n",
        "    public +=1\n",
        "    pred_label.append(\"عمومی\")\n",
        "\n",
        "  elif y_pred_blstm[i] == 5:\n",
        "    Art_cinema +=1\n",
        "    pred_label.append(\"هنر و سینما\")\n",
        "\n",
        "  if y_pred_blstm[i] == 6:\n",
        "    Books_literature +=1\n",
        "    pred_label.append(\"کتاب و ادبیات\")\n",
        "\n"
      ],
      "execution_count": null,
      "outputs": []
    },
    {
      "cell_type": "markdown",
      "metadata": {
        "id": "27p71wWfbQ6S"
      },
      "source": [
        "\n",
        "\n",
        "```\n",
        "array([1, 0, 1, 1, 1, 2, 4, 2, 3, 0, 0, 0, 1, 2, 0, 1, 0, 1, 0, 4, 0, 4,\n",
        "       1, 1, 1, 4, 0, 4, 1, 2, 1, 1, 4, 0, 1, 0, 1, 1, 0, 1, 1, 0, 2, 0,\n",
        "       3, 4, 0, 4, 1, 1])\n",
        "       ```\n",
        "\n"
      ]
    },
    {
      "cell_type": "code",
      "metadata": {
        "id": "J5ku9WKpmsrO",
        "colab": {
          "base_uri": "https://localhost:8080/"
        },
        "outputId": "823ed381-ba5a-4aac-e9f6-d076ab34a3d4"
      },
      "source": [
        "print(\"بازی ویدیویی: \" , (games/852)*100)\n",
        "print(\"راهنمای خرید: \" , (Purchase_guide/852)*100)\n",
        "print(\"سلامت و زیبایی: \" , (Health_Beauty/852)*100)\n",
        "print(\"علم و تکنولوژی: \" , (Science_technology/852)*100)\n",
        "print(\"عمومی: \" , (public/852)*100)\n",
        "print(\"هنر و سینما: \" , (Art_cinema/852)*100)\n",
        "print(\"کتاب و ادبیات: \" , (Books_literature/852)*100)\n",
        "\n"
      ],
      "execution_count": null,
      "outputs": [
        {
          "output_type": "stream",
          "text": [
            "بازی ویدیویی:  23.591549295774648\n",
            "راهنمای خرید:  1.5258215962441315\n",
            "سلامت و زیبایی:  20.657276995305164\n",
            "علم و تکنولوژی:  31.572769953051644\n",
            "عمومی:  0.4694835680751174\n",
            "هنر و سینما:  19.366197183098592\n",
            "کتاب و ادبیات:  2.8169014084507045\n"
          ],
          "name": "stdout"
        }
      ]
    },
    {
      "cell_type": "code",
      "metadata": {
        "id": "kstSvMwOMXWc"
      },
      "source": [
        "dataFrame = pd.DataFrame({\"text\":text, \"true label\":true_label, \"prediction label\":pred_label})"
      ],
      "execution_count": null,
      "outputs": []
    },
    {
      "cell_type": "code",
      "metadata": {
        "id": "xTOk2VrcNL-Z"
      },
      "source": [
        "dataFrame.to_excel(\"prediction2BLstm.xlsx\", index=False)"
      ],
      "execution_count": null,
      "outputs": []
    },
    {
      "cell_type": "markdown",
      "metadata": {
        "id": "Y1rxfz0RClLf"
      },
      "source": [
        "#LSTM"
      ]
    },
    {
      "cell_type": "code",
      "metadata": {
        "colab": {
          "base_uri": "https://localhost:8080/",
          "height": 423
        },
        "id": "nUi3dxW6xhNc",
        "outputId": "9a402bcb-1321-432c-9e56-245b7e45e309"
      },
      "source": [
        "valid_set = pd.read_csv('/content/drive/MyDrive/digimag/dev.csv',encoding=\"utf-8\",sep='\\t')\n",
        "valid_set"
      ],
      "execution_count": null,
      "outputs": [
        {
          "output_type": "execute_result",
          "data": {
            "text/html": [
              "<div>\n",
              "<style scoped>\n",
              "    .dataframe tbody tr th:only-of-type {\n",
              "        vertical-align: middle;\n",
              "    }\n",
              "\n",
              "    .dataframe tbody tr th {\n",
              "        vertical-align: top;\n",
              "    }\n",
              "\n",
              "    .dataframe thead th {\n",
              "        text-align: right;\n",
              "    }\n",
              "</style>\n",
              "<table border=\"1\" class=\"dataframe\">\n",
              "  <thead>\n",
              "    <tr style=\"text-align: right;\">\n",
              "      <th></th>\n",
              "      <th>Unnamed: 0</th>\n",
              "      <th>content</th>\n",
              "      <th>label</th>\n",
              "      <th>label_id</th>\n",
              "    </tr>\n",
              "  </thead>\n",
              "  <tbody>\n",
              "    <tr>\n",
              "      <th>0</th>\n",
              "      <td>0</td>\n",
              "      <td>نت‌فلیکس مجموعه‌ی سریالی کسلوانیا را می‌سازد [...</td>\n",
              "      <td>هنر و سینما</td>\n",
              "      <td>5</td>\n",
              "    </tr>\n",
              "    <tr>\n",
              "      <th>1</th>\n",
              "      <td>1</td>\n",
              "      <td>کارگردان The Last Guardian از بازی بعدی‌اش می‌...</td>\n",
              "      <td>بازی ویدیویی</td>\n",
              "      <td>0</td>\n",
              "    </tr>\n",
              "    <tr>\n",
              "      <th>2</th>\n",
              "      <td>2</td>\n",
              "      <td>کارت اعتباری اپل کارت معرفی شد در مراسم Show T...</td>\n",
              "      <td>علم و تکنولوژی</td>\n",
              "      <td>3</td>\n",
              "    </tr>\n",
              "    <tr>\n",
              "      <th>3</th>\n",
              "      <td>3</td>\n",
              "      <td>از کنفرانس مایکروسافت و کنسول بعدی سونی تا دیگ...</td>\n",
              "      <td>بازی ویدیویی</td>\n",
              "      <td>0</td>\n",
              "    </tr>\n",
              "    <tr>\n",
              "      <th>4</th>\n",
              "      <td>4</td>\n",
              "      <td>از رویداد ماه اکتبر اپل چه انتظاراتی داریم؟ در...</td>\n",
              "      <td>علم و تکنولوژی</td>\n",
              "      <td>3</td>\n",
              "    </tr>\n",
              "    <tr>\n",
              "      <th>...</th>\n",
              "      <td>...</td>\n",
              "      <td>...</td>\n",
              "      <td>...</td>\n",
              "      <td>...</td>\n",
              "    </tr>\n",
              "    <tr>\n",
              "      <th>762</th>\n",
              "      <td>762</td>\n",
              "      <td>۱۰ جزیره زیبای دنیا که حتما باید به آن‌ها سفر ...</td>\n",
              "      <td>سلامت و زیبایی</td>\n",
              "      <td>2</td>\n",
              "    </tr>\n",
              "    <tr>\n",
              "      <th>763</th>\n",
              "      <td>763</td>\n",
              "      <td>تریلر بسته الحاقی Iceborne برای Monster Hunter...</td>\n",
              "      <td>بازی ویدیویی</td>\n",
              "      <td>0</td>\n",
              "    </tr>\n",
              "    <tr>\n",
              "      <th>764</th>\n",
              "      <td>764</td>\n",
              "      <td>دیزنی از روابطش با الکترونیک آرتز می‌گوید به گ...</td>\n",
              "      <td>بازی ویدیویی</td>\n",
              "      <td>0</td>\n",
              "    </tr>\n",
              "    <tr>\n",
              "      <th>765</th>\n",
              "      <td>765</td>\n",
              "      <td>افتضاح لوت‌باکس‌های Battlefront ۲ سیاه‌ترین دو...</td>\n",
              "      <td>بازی ویدیویی</td>\n",
              "      <td>0</td>\n",
              "    </tr>\n",
              "    <tr>\n",
              "      <th>766</th>\n",
              "      <td>766</td>\n",
              "      <td>چطور هنگام تماس تلفنی نفر سوم را به مکالمه اضا...</td>\n",
              "      <td>علم و تکنولوژی</td>\n",
              "      <td>3</td>\n",
              "    </tr>\n",
              "  </tbody>\n",
              "</table>\n",
              "<p>767 rows × 4 columns</p>\n",
              "</div>"
            ],
            "text/plain": [
              "     Unnamed: 0  ... label_id\n",
              "0             0  ...        5\n",
              "1             1  ...        0\n",
              "2             2  ...        3\n",
              "3             3  ...        0\n",
              "4             4  ...        3\n",
              "..          ...  ...      ...\n",
              "762         762  ...        2\n",
              "763         763  ...        0\n",
              "764         764  ...        0\n",
              "765         765  ...        0\n",
              "766         766  ...        3\n",
              "\n",
              "[767 rows x 4 columns]"
            ]
          },
          "metadata": {
            "tags": []
          },
          "execution_count": 96
        }
      ]
    },
    {
      "cell_type": "code",
      "metadata": {
        "id": "-gJSYNO8x7--"
      },
      "source": [
        "sentence_valid = np.asarray(valid_set['content'])\n",
        "label_valid = np.asarray(valid_set['label_id'])"
      ],
      "execution_count": null,
      "outputs": []
    },
    {
      "cell_type": "code",
      "metadata": {
        "colab": {
          "base_uri": "https://localhost:8080/"
        },
        "id": "KTlW3tjVxTRn",
        "outputId": "8e5b0ecc-f665-4d78-d286-ffb986eecead"
      },
      "source": [
        "categorical_label_valid = to_categorical(label_valid, 7)\n",
        "categorical_label_valid"
      ],
      "execution_count": null,
      "outputs": [
        {
          "output_type": "execute_result",
          "data": {
            "text/plain": [
              "array([[0., 0., 0., ..., 0., 1., 0.],\n",
              "       [1., 0., 0., ..., 0., 0., 0.],\n",
              "       [0., 0., 0., ..., 0., 0., 0.],\n",
              "       ...,\n",
              "       [1., 0., 0., ..., 0., 0., 0.],\n",
              "       [1., 0., 0., ..., 0., 0., 0.],\n",
              "       [0., 0., 0., ..., 0., 0., 0.]], dtype=float32)"
            ]
          },
          "metadata": {
            "tags": []
          },
          "execution_count": 98
        }
      ]
    },
    {
      "cell_type": "code",
      "metadata": {
        "id": "zNucBGCv2Lf3"
      },
      "source": [
        "# Apply preprocessing step to valid data\n",
        "valid_docs = np.empty_like(sentence_valid)\n",
        "for index, document in enumerate(sentence_valid):\n",
        "  valid_docs[index] = clean_data(document)"
      ],
      "execution_count": null,
      "outputs": []
    },
    {
      "cell_type": "code",
      "metadata": {
        "id": "a3zRzBkB2shI"
      },
      "source": [
        "# Embed valid sequences\n",
        "encoded_docs1 = tokenizer.texts_to_sequences(valid_docs)\n",
        "x_valid_padded = pad_sequences(encoded_docs1, maxlen=max_length, padding='post')"
      ],
      "execution_count": null,
      "outputs": []
    },
    {
      "cell_type": "code",
      "metadata": {
        "id": "zT2PpRMyP2_S"
      },
      "source": [
        "model_lstm = Sequential()\n",
        "model_lstm.add(Embedding(vocab_size, 100, input_length=max_length))\n",
        "model_lstm.add(LSTM(100, return_sequences=True, name='lstm_layer'))\n",
        "model_lstm.add(GlobalMaxPool1D())\n",
        "model_lstm.add(Dropout(0.25))\n",
        "model_lstm.add(Dense(300, activation=\"relu\"))\n",
        "model_lstm.add(Dropout(0.2))\n",
        "model_lstm.add(Dense(7, activation='softmax'))"
      ],
      "execution_count": null,
      "outputs": []
    },
    {
      "cell_type": "code",
      "metadata": {
        "id": "2j3q6GoE95qx",
        "colab": {
          "base_uri": "https://localhost:8080/"
        },
        "outputId": "384713dc-9823-4256-92e2-dbd1959c0165"
      },
      "source": [
        "model_lstm.compile(loss='categorical_crossentropy',\n",
        "              optimizer='adam',\n",
        "              metrics=[\"categorical_accuracy\"])\n",
        "model_lstm.summary()"
      ],
      "execution_count": null,
      "outputs": [
        {
          "output_type": "stream",
          "text": [
            "Model: \"sequential_3\"\n",
            "_________________________________________________________________\n",
            "Layer (type)                 Output Shape              Param #   \n",
            "=================================================================\n",
            "embedding_3 (Embedding)      (None, 10148, 100)        6750400   \n",
            "_________________________________________________________________\n",
            "lstm_layer (LSTM)            (None, 10148, 100)        80400     \n",
            "_________________________________________________________________\n",
            "global_max_pooling1d_3 (Glob (None, 100)               0         \n",
            "_________________________________________________________________\n",
            "dropout_6 (Dropout)          (None, 100)               0         \n",
            "_________________________________________________________________\n",
            "dense_6 (Dense)              (None, 300)               30300     \n",
            "_________________________________________________________________\n",
            "dropout_7 (Dropout)          (None, 300)               0         \n",
            "_________________________________________________________________\n",
            "dense_7 (Dense)              (None, 7)                 2107      \n",
            "=================================================================\n",
            "Total params: 6,863,207\n",
            "Trainable params: 6,863,207\n",
            "Non-trainable params: 0\n",
            "_________________________________________________________________\n"
          ],
          "name": "stdout"
        }
      ]
    },
    {
      "cell_type": "code",
      "metadata": {
        "id": "T3wYFg8_-EUk",
        "colab": {
          "base_uri": "https://localhost:8080/"
        },
        "outputId": "3aa2a68c-bb46-47f5-8fa1-4427079ca744"
      },
      "source": [
        "hist_lstm = model_lstm.fit(\n",
        "    x_train_padded, categorical_label_train,validation_data=(x_valid_padded,categorical_label_valid),\n",
        "    batch_size=64, epochs=10,\n",
        "    shuffle=True, verbose=1)"
      ],
      "execution_count": null,
      "outputs": [
        {
          "output_type": "stream",
          "text": [
            "Train on 6896 samples, validate on 767 samples\n",
            "Epoch 1/10\n",
            "6896/6896 [==============================] - 89s 13ms/sample - loss: 1.4170 - categorical_accuracy: 0.4317 - val_loss: 1.0321 - val_categorical_accuracy: 0.6167\n",
            "Epoch 2/10\n",
            "6896/6896 [==============================] - 86s 13ms/sample - loss: 0.8280 - categorical_accuracy: 0.7487 - val_loss: 0.6208 - val_categorical_accuracy: 0.7914\n",
            "Epoch 3/10\n",
            "6896/6896 [==============================] - 87s 13ms/sample - loss: 0.5075 - categorical_accuracy: 0.8551 - val_loss: 0.3448 - val_categorical_accuracy: 0.9009\n",
            "Epoch 4/10\n",
            "6896/6896 [==============================] - 87s 13ms/sample - loss: 0.3493 - categorical_accuracy: 0.8989 - val_loss: 0.2735 - val_categorical_accuracy: 0.9270\n",
            "Epoch 5/10\n",
            "6896/6896 [==============================] - 87s 13ms/sample - loss: 0.2796 - categorical_accuracy: 0.9201 - val_loss: 0.2513 - val_categorical_accuracy: 0.9348\n",
            "Epoch 6/10\n",
            "6896/6896 [==============================] - 87s 13ms/sample - loss: 0.2249 - categorical_accuracy: 0.9371 - val_loss: 0.2577 - val_categorical_accuracy: 0.9296\n",
            "Epoch 7/10\n",
            "6896/6896 [==============================] - 86s 12ms/sample - loss: 0.1944 - categorical_accuracy: 0.9501 - val_loss: 0.2230 - val_categorical_accuracy: 0.9413\n",
            "Epoch 8/10\n",
            "6896/6896 [==============================] - 86s 13ms/sample - loss: 0.1641 - categorical_accuracy: 0.9571 - val_loss: 0.2265 - val_categorical_accuracy: 0.9361\n",
            "Epoch 9/10\n",
            "6896/6896 [==============================] - 87s 13ms/sample - loss: 0.1433 - categorical_accuracy: 0.9630 - val_loss: 0.2270 - val_categorical_accuracy: 0.9361\n",
            "Epoch 10/10\n",
            "6896/6896 [==============================] - 86s 13ms/sample - loss: 0.1372 - categorical_accuracy: 0.9626 - val_loss: 0.2161 - val_categorical_accuracy: 0.9374\n"
          ],
          "name": "stdout"
        }
      ]
    },
    {
      "cell_type": "code",
      "metadata": {
        "id": "wLSBuDob-Xw-",
        "colab": {
          "base_uri": "https://localhost:8080/"
        },
        "outputId": "9535aae9-46b2-41f3-c9fa-47aea368d3b0"
      },
      "source": [
        "# Evaluate model\n",
        "loss_lstm, acc_lstm = model_lstm.evaluate(x_test_padded, categorical_y_test, verbose=1)\n",
        "print('Test Accuracy: %f' % (acc_lstm*100))"
      ],
      "execution_count": null,
      "outputs": [
        {
          "output_type": "stream",
          "text": [
            "\r852/1 [========================================================================================================================================================================================================================================================================================================================================================================================================================================================================================================================================================================================================================================================================================================================================================================================================================================================================================================================================================================================================================================================================================================================================================================================================================================================================================================================================================================================================================================================================================================================================================================================================================================================================================================================================================================================================================================================================================================================================================================================================================================================================================================================================================================================================================================================================================================================================================================================================================================================================================================================================================================================================================================================================================================================================================================================================================================================================================================================================================================================================================================================================================================================================================================================================================================================================================================================================================================================================================================================================================================================================================================================================================================================================================================================================================================================================================================================================================================================================================================================================================================================================================================================================================================================================================================================================================================================================================================================================================================================================================================================================================================================================================================================================================================================================================================================================================================================================================================================================================================================================================================================================================================================================================================================================================================================================================================================================================================================================================================================================================================================================================================================================================================================================================================================================================================================================================================================================================================================================================================================================================================================================================================================================================================================================================================================================================================================================================================================================================================================================================================================================================================================================================================================================================================================================================================================================================================================================================================================================================================================================================================================================================================================================================================================================================================================================================================================================================================================================================================================================================================================================================================================================================================================================================================================================================================================================================================================================================================================================================================================================================================================================================================================================================================================================================================================================================================================================================================================================================================================================================================================================================================================================================================================================================================================================================================================================================================================================================================================================================================================================================================================================================================================================================================================================================================================================================================================================================================================================================================================================================================================================================================================================================================================================================================================================================================================================================================================================================================================================================================================================================================================================================================================================================================================================================================================================================================================================================================================================================================================================================================================================================================================================================================================================================================================================================================================================================================================================================================================================================================================================================================================================================================================================================================================================================================================================================================================================================================================================================================================================================================================================================================================================================================================================================================================================================================================================================================================================================================================================================================================================================================================================================================================================================================================================================================================================================================================================================================================================================================================================================================================================================================================================================================================================================================================================================================================================================================================================================================================================================================================================================================================================================================================================================================================================================================================================================================================================================================================================================================================================================================================================================================================================================================================================================================================================================================================================================================================================================================================================================================================================================================================================================================================================================================================================================================================================================================================================================================================================================================================================================================================================================================================================================================================================================================================================================================================================================================================================================================================================================================================================================================================================================================================================================================================================================================================================================================================================================================================================================================================================================================================================================================================================================================================================================================================================================================================================================================================================================================================================================================================================================================================================================================================================================================================================================================================================================================================================================================================================================================================================================================================================================================================================================================================================================================================================================================================================================================================================================================================================================================================================================================================================================================================================================================================================================================================================================================================================================================================================================================================================================================================================================================================================================================================================================================================================================================================================================================================================================================================================================================================================================================================================================================================================================================================================================================================================================================================================================================================================================================================================================================================================================================================================================================================================================================================================================================================================================================================================================================================================================================================================================================================================================================================================================================================================================================================================================================================================================================================================================================================================================================================================================================================================================================================================================================================================================================================================================================================================================================================================================================================================================================================================================================================================================================================================================================================================================================================================================================================================================================================================================================================================================================================================================================================================================================================================================================================================================================================================================================================================================================================================================================================================================================================================================================================================================================================================================================================================================================================================================================================================================================================================================================================================================================================================================================================================================================================================================================================================================================================================================================================================================================================================================================================================================================================================================================================================================================================================================================================================================================================================================================================================================================================================================================================================================================================================================================================================================================================================================================================================================================================================================================================================================================================================================================================================================================================================================================================================================================================================================================================================================================================================================================================================================================================================================================================================================================================================================================================================================================================================================================================================================================================================================================================================================================================================================================================================================================================================================================================================================================================================================================================================================================================================================================================================================================================================================================================================================================================================================================================================================================================================================================================================================================================================================================================================================================================================================================================================================================================================================================================================================================================================================================================================================================================================================================================================================================================================================================================================================================================================================================================================================================================================================================================================================================================================================================================================================================================================================================================================================================================================================================================================================================================================================] - 6s 7ms/sample - loss: 0.2898 - categorical_accuracy: 0.9096\n",
            "Test Accuracy: 90.962440\n"
          ],
          "name": "stdout"
        }
      ]
    },
    {
      "cell_type": "code",
      "metadata": {
        "id": "sn1wJukrXbRK"
      },
      "source": [
        "y_pred_lstm = model_lstm.predict_classes(x_test_padded)"
      ],
      "execution_count": null,
      "outputs": []
    },
    {
      "cell_type": "code",
      "metadata": {
        "id": "PItPiV5AXhI-"
      },
      "source": [
        "text = []\n",
        "true_label = []\n",
        "pred_label = []\n",
        "\n",
        "\n",
        "public =0\n",
        "\n",
        "Art_cinema= 0 \n",
        "\n",
        "Science_technology=0\n",
        "\n",
        "Health_Beauty = 0\n",
        "\n",
        "Purchase_guide = 0\n",
        "\n",
        "Books_literature = 0\n",
        "\n",
        "games=0\n",
        "\n",
        "\n",
        "\n",
        "for i in range(len(y_pred_blstm)):\n",
        "  text.append(x_test[i])\n",
        "  true_label.append(y_test[i])\n",
        "\n",
        "  if y_pred_blstm[i] == 0:\n",
        "    games +=1\n",
        "    pred_label.append(\"بازی ویدیویی\")\n",
        "\n",
        "  elif y_pred_blstm[i] == 1:\n",
        "    Purchase_guide +=1\n",
        "    pred_label.append(\"راهنمای خرید\")\n",
        "\n",
        "  elif y_pred_blstm[i] == 2:\n",
        "    Health_Beauty +=1\n",
        "    pred_label.append(\"سلامت و زیبایی\")\n",
        "\n",
        "  if y_pred_blstm[i] == 3:\n",
        "    Science_technology +=1\n",
        "    pred_label.append(\"علم و تکنولوژی\")\n",
        "\n",
        "  elif y_pred_blstm[i] == 4:\n",
        "    public +=1\n",
        "    pred_label.append(\"عمومی\")\n",
        "\n",
        "  elif y_pred_blstm[i] == 5:\n",
        "    Art_cinema +=1\n",
        "    pred_label.append(\"هنر و سینما\")\n",
        "\n",
        "  if y_pred_blstm[i] == 6:\n",
        "    Books_literature +=1\n",
        "    pred_label.append(\"کتاب و ادبیات\")\n",
        "\n"
      ],
      "execution_count": null,
      "outputs": []
    },
    {
      "cell_type": "code",
      "metadata": {
        "colab": {
          "base_uri": "https://localhost:8080/"
        },
        "id": "yLoLq_0UXwX-",
        "outputId": "ff457cc5-9f19-4d64-ce10-b315eeff276c"
      },
      "source": [
        "print(\"بازی ویدیویی: \" , (games/852)*100)\n",
        "print(\"راهنمای خرید: \" , (Purchase_guide/852)*100)\n",
        "print(\"سلامت و زیبایی: \" , (Health_Beauty/852)*100)\n",
        "print(\"علم و تکنولوژی: \" , (Science_technology/852)*100)\n",
        "print(\"عمومی: \" , (public/852)*100)\n",
        "print(\"هنر و سینما: \" , (Art_cinema/852)*100)\n",
        "print(\"کتاب و ادبیات: \" , (Books_literature/852)*100)\n",
        "\n"
      ],
      "execution_count": null,
      "outputs": [
        {
          "output_type": "stream",
          "text": [
            "بازی ویدیویی:  23.591549295774648\n",
            "راهنمای خرید:  1.5258215962441315\n",
            "سلامت و زیبایی:  20.657276995305164\n",
            "علم و تکنولوژی:  31.572769953051644\n",
            "عمومی:  0.4694835680751174\n",
            "هنر و سینما:  19.366197183098592\n",
            "کتاب و ادبیات:  2.8169014084507045\n"
          ],
          "name": "stdout"
        }
      ]
    },
    {
      "cell_type": "code",
      "metadata": {
        "id": "61D-JJxOX4JT"
      },
      "source": [
        "dataFrame = pd.DataFrame({\"text\":text, \"true label\":true_label, \"prediction label\":pred_label})"
      ],
      "execution_count": null,
      "outputs": []
    },
    {
      "cell_type": "code",
      "metadata": {
        "id": "LC3uQj_8X8IB"
      },
      "source": [
        "dataFrame.to_excel(\"prediction2Lstm.xlsx\", index=False)"
      ],
      "execution_count": null,
      "outputs": []
    },
    {
      "cell_type": "markdown",
      "metadata": {
        "id": "bb5NaYXRfyB8"
      },
      "source": [
        "#GRU"
      ]
    },
    {
      "cell_type": "code",
      "metadata": {
        "id": "FYsa9mJwfdvd"
      },
      "source": [
        "from tensorflow.keras.layers import GRU\n",
        "model_GRU = Sequential()\n",
        "model_GRU.add(Embedding(vocab_size, 100, input_length=max_length))\n",
        "model_GRU.add(GRU(100, return_sequences=True, name='gru_layer'))\n",
        "model_GRU.add(GlobalMaxPool1D())\n",
        "model_GRU.add(Dropout(0.25))\n",
        "model_GRU.add(Dense(300, activation=\"relu\"))\n",
        "model_GRU.add(Dropout(0.2))\n",
        "model_GRU.add(Dense(7, activation='softmax'))"
      ],
      "execution_count": null,
      "outputs": []
    },
    {
      "cell_type": "code",
      "metadata": {
        "id": "WYzGBvXXfd9W",
        "colab": {
          "base_uri": "https://localhost:8080/"
        },
        "outputId": "0cf542f5-79b9-432a-c3dc-0d610c1cfe62"
      },
      "source": [
        "model_GRU.compile(loss='categorical_crossentropy',\n",
        "              optimizer='adam',\n",
        "              metrics=[\"categorical_accuracy\"])\n",
        "model_GRU.summary()"
      ],
      "execution_count": null,
      "outputs": [
        {
          "output_type": "stream",
          "text": [
            "Model: \"sequential_4\"\n",
            "_________________________________________________________________\n",
            "Layer (type)                 Output Shape              Param #   \n",
            "=================================================================\n",
            "embedding_4 (Embedding)      (None, 10148, 100)        6750400   \n",
            "_________________________________________________________________\n",
            "gru_layer (GRU)              (None, 10148, 100)        60600     \n",
            "_________________________________________________________________\n",
            "global_max_pooling1d_4 (Glob (None, 100)               0         \n",
            "_________________________________________________________________\n",
            "dropout_8 (Dropout)          (None, 100)               0         \n",
            "_________________________________________________________________\n",
            "dense_8 (Dense)              (None, 300)               30300     \n",
            "_________________________________________________________________\n",
            "dropout_9 (Dropout)          (None, 300)               0         \n",
            "_________________________________________________________________\n",
            "dense_9 (Dense)              (None, 7)                 2107      \n",
            "=================================================================\n",
            "Total params: 6,843,407\n",
            "Trainable params: 6,843,407\n",
            "Non-trainable params: 0\n",
            "_________________________________________________________________\n"
          ],
          "name": "stdout"
        }
      ]
    },
    {
      "cell_type": "code",
      "metadata": {
        "id": "4PAxywo5f3qd",
        "colab": {
          "base_uri": "https://localhost:8080/"
        },
        "outputId": "ba157d2b-4f74-4143-83dd-c541d74ba5e4"
      },
      "source": [
        "hist_GRU = model_GRU.fit(\n",
        "    x_train_padded, categorical_label_train,validation_data=(x_valid_padded,categorical_label_valid),\n",
        "    batch_size=64, epochs=20,\n",
        "    shuffle=True, verbose=1)"
      ],
      "execution_count": null,
      "outputs": [
        {
          "output_type": "stream",
          "text": [
            "Train on 6896 samples, validate on 767 samples\n",
            "Epoch 1/20\n",
            "6896/6896 [==============================] - 84s 12ms/sample - loss: 1.1723 - categorical_accuracy: 0.5774 - val_loss: 0.4191 - val_categorical_accuracy: 0.8892\n",
            "Epoch 2/20\n",
            "6896/6896 [==============================] - 81s 12ms/sample - loss: 0.3982 - categorical_accuracy: 0.8865 - val_loss: 0.2712 - val_categorical_accuracy: 0.9283\n",
            "Epoch 3/20\n",
            "6896/6896 [==============================] - 81s 12ms/sample - loss: 0.2713 - categorical_accuracy: 0.9234 - val_loss: 0.2375 - val_categorical_accuracy: 0.9426\n",
            "Epoch 4/20\n",
            "6896/6896 [==============================] - 81s 12ms/sample - loss: 0.2088 - categorical_accuracy: 0.9411 - val_loss: 0.2054 - val_categorical_accuracy: 0.9465\n",
            "Epoch 5/20\n",
            "6896/6896 [==============================] - 81s 12ms/sample - loss: 0.1596 - categorical_accuracy: 0.9566 - val_loss: 0.2335 - val_categorical_accuracy: 0.9413\n",
            "Epoch 6/20\n",
            "6896/6896 [==============================] - 81s 12ms/sample - loss: 0.1400 - categorical_accuracy: 0.9611 - val_loss: 0.2231 - val_categorical_accuracy: 0.9439\n",
            "Epoch 7/20\n",
            "6896/6896 [==============================] - 81s 12ms/sample - loss: 0.1186 - categorical_accuracy: 0.9656 - val_loss: 0.2765 - val_categorical_accuracy: 0.9374\n",
            "Epoch 8/20\n",
            "6896/6896 [==============================] - 81s 12ms/sample - loss: 0.1041 - categorical_accuracy: 0.9695 - val_loss: 0.2294 - val_categorical_accuracy: 0.9465\n",
            "Epoch 9/20\n",
            "6896/6896 [==============================] - 81s 12ms/sample - loss: 0.0803 - categorical_accuracy: 0.9758 - val_loss: 0.3126 - val_categorical_accuracy: 0.9348\n",
            "Epoch 10/20\n",
            "6896/6896 [==============================] - 81s 12ms/sample - loss: 0.0779 - categorical_accuracy: 0.9758 - val_loss: 0.2559 - val_categorical_accuracy: 0.9426\n",
            "Epoch 11/20\n",
            "6896/6896 [==============================] - 81s 12ms/sample - loss: 0.0554 - categorical_accuracy: 0.9832 - val_loss: 0.2716 - val_categorical_accuracy: 0.9452\n",
            "Epoch 12/20\n",
            "6896/6896 [==============================] - 82s 12ms/sample - loss: 0.0556 - categorical_accuracy: 0.9836 - val_loss: 0.3037 - val_categorical_accuracy: 0.9439\n",
            "Epoch 13/20\n",
            "6896/6896 [==============================] - 81s 12ms/sample - loss: 0.0533 - categorical_accuracy: 0.9825 - val_loss: 0.2995 - val_categorical_accuracy: 0.9478\n",
            "Epoch 14/20\n",
            "6896/6896 [==============================] - 82s 12ms/sample - loss: 0.0391 - categorical_accuracy: 0.9877 - val_loss: 0.2992 - val_categorical_accuracy: 0.9465\n",
            "Epoch 15/20\n",
            "6896/6896 [==============================] - 82s 12ms/sample - loss: 0.0390 - categorical_accuracy: 0.9872 - val_loss: 0.3185 - val_categorical_accuracy: 0.9361\n",
            "Epoch 16/20\n",
            "6896/6896 [==============================] - 82s 12ms/sample - loss: 0.0312 - categorical_accuracy: 0.9900 - val_loss: 0.3695 - val_categorical_accuracy: 0.9413\n",
            "Epoch 17/20\n",
            "6896/6896 [==============================] - 82s 12ms/sample - loss: 0.0264 - categorical_accuracy: 0.9923 - val_loss: 0.3624 - val_categorical_accuracy: 0.9465\n",
            "Epoch 18/20\n",
            "6896/6896 [==============================] - 81s 12ms/sample - loss: 0.0213 - categorical_accuracy: 0.9922 - val_loss: 0.4196 - val_categorical_accuracy: 0.9465\n",
            "Epoch 19/20\n",
            "6896/6896 [==============================] - 81s 12ms/sample - loss: 0.0225 - categorical_accuracy: 0.9927 - val_loss: 0.4565 - val_categorical_accuracy: 0.9192\n",
            "Epoch 20/20\n",
            "6896/6896 [==============================] - 81s 12ms/sample - loss: 0.0363 - categorical_accuracy: 0.9878 - val_loss: 0.3429 - val_categorical_accuracy: 0.9439\n"
          ],
          "name": "stdout"
        }
      ]
    },
    {
      "cell_type": "code",
      "metadata": {
        "id": "Se2LgWWsgIGw",
        "colab": {
          "base_uri": "https://localhost:8080/"
        },
        "outputId": "f560b15d-8583-455a-9f68-b164591e17b9"
      },
      "source": [
        "# Evaluate model\n",
        "loss_GRU, acc_GRU = model_GRU.evaluate(x_test_padded, categorical_y_test, verbose=1)\n",
        "print('Test Accuracy: %f' % (acc_GRU*100))"
      ],
      "execution_count": null,
      "outputs": [
        {
          "output_type": "stream",
          "text": [
            "\r852/1 [========================================================================================================================================================================================================================================================================================================================================================================================================================================================================================================================================================================================================================================================================================================================================================================================================================================================================================================================================================================================================================================================================================================================================================================================================================================================================================================================================================================================================================================================================================================================================================================================================================================================================================================================================================================================================================================================================================================================================================================================================================================================================================================================================================================================================================================================================================================================================================================================================================================================================================================================================================================================================================================================================================================================================================================================================================================================================================================================================================================================================================================================================================================================================================================================================================================================================================================================================================================================================================================================================================================================================================================================================================================================================================================================================================================================================================================================================================================================================================================================================================================================================================================================================================================================================================================================================================================================================================================================================================================================================================================================================================================================================================================================================================================================================================================================================================================================================================================================================================================================================================================================================================================================================================================================================================================================================================================================================================================================================================================================================================================================================================================================================================================================================================================================================================================================================================================================================================================================================================================================================================================================================================================================================================================================================================================================================================================================================================================================================================================================================================================================================================================================================================================================================================================================================================================================================================================================================================================================================================================================================================================================================================================================================================================================================================================================================================================================================================================================================================================================================================================================================================================================================================================================================================================================================================================================================================================================================================================================================================================================================================================================================================================================================================================================================================================================================================================================================================================================================================================================================================================================================================================================================================================================================================================================================================================================================================================================================================================================================================================================================================================================================================================================================================================================================================================================================================================================================================================================================================================================================================================================================================================================================================================================================================================================================================================================================================================================================================================================================================================================================================================================================================================================================================================================================================================================================================================================================================================================================================================================================================================================================================================================================================================================================================================================================================================================================================================================================================================================================================================================================================================================================================================================================================================================================================================================================================================================================================================================================================================================================================================================================================================================================================================================================================================================================================================================================================================================================================================================================================================================================================================================================================================================================================================================================================================================================================================================================================================================================================================================================================================================================================================================================================================================================================================================================================================================================================================================================================================================================================================================================================================================================================================================================================================================================================================================================================================================================================================================================================================================================================================================================================================================================================================================================================================================================================================================================================================================================================================================================================================================================================================================================================================================================================================================================================================================================================================================================================================================================================================================================================================================================================================================================================================================================================================================================================================================================================================================================================================================================================================================================================================================================================================================================================================================================================================================================================================================================================================================================================================================================================================================================================================================================================================================================================================================================================================================================================================================================================================================================================================================================================================================================================================================================================================================================================================================================================================================================================================================================================================================================================================================================================================================================================================================================================================================================================================================================================================================================================================================================================================================================================================================================================================================================================================================================================================================================================================================================================================================================================================================================================================================================================================================================================================================================================================================================================================================================================================================================================================================================================================================================================================================================================================================================================================================================================================================================================================================================================================================================================================================================================================================================================================================================================================================================================================================================================================================================================================================================================================================================================================================================================================================================================================================================================================================================================================================================================================================================================================================================================================================================================================================================================================================================================================================================================================================================================================================================================================================================================================================================================================================================================================================================================================================================================================================================================================================================================================================================================================================================================================================================================================================================================================================================================================================================================================================================================================================================================================================================================================================================================================================================================================================================================================================================================================================================================================================================================================================================================================================================================================================================================================================================================================================================================================================================================================================================================================================================================================================================================================================================================================================================================================================================================================================================================================================================================================================================================================================================================================================================================================================================================================================================================================================================================================================================================================================================================================================================================================================================================================================================================================================================================================================================================================================================================================================================================================================================================================================================================================================================================================================================================================================================================================================================================================================================================================================================================================================================================================================================================================================================================================================================================================================================================================================================================================================================================================================================================================================================================================================================================================================================================================================================================================================================================================================================================================================================================================================================================================================================================================================================================================================================================================================================================================================================================================================================================================================================================================================================================================================================================================================================================================================================================================================================================================================================================================================================================================================================================================================================================================================================================================================================================================================================================================================================================================================================================================================================================================================================================================================================================================================================================================================================================================================================================] - 5s 6ms/sample - loss: 0.3667 - categorical_accuracy: 0.9331\n",
            "Test Accuracy: 93.309861\n"
          ],
          "name": "stdout"
        }
      ]
    },
    {
      "cell_type": "code",
      "metadata": {
        "id": "dr_k1YnqhmH-"
      },
      "source": [
        "y_pred_GRU = model_GRU.predict_classes(x_test_padded)"
      ],
      "execution_count": null,
      "outputs": []
    },
    {
      "cell_type": "code",
      "metadata": {
        "id": "Ox9qE3_ghmIA"
      },
      "source": [
        "text = []\n",
        "true_label = []\n",
        "pred_label = []\n",
        "public =0\n",
        "\n",
        "Art_cinema= 0 \n",
        "\n",
        "Science_technology=0\n",
        "\n",
        "Health_Beauty = 0\n",
        "\n",
        "Purchase_guide = 0\n",
        "\n",
        "Books_literature = 0\n",
        "\n",
        "games=0\n",
        "\n",
        "\n",
        "\n",
        "for i in range(len(y_pred_blstm)):\n",
        "  text.append(x_test[i])\n",
        "  true_label.append(y_test[i])\n",
        "\n",
        "  if y_pred_blstm[i] == 0:\n",
        "    games +=1\n",
        "    pred_label.append(\"بازی ویدیویی\")\n",
        "\n",
        "  elif y_pred_blstm[i] == 1:\n",
        "    Purchase_guide +=1\n",
        "    pred_label.append(\"راهنمای خرید\")\n",
        "\n",
        "  elif y_pred_blstm[i] == 2:\n",
        "    Health_Beauty +=1\n",
        "    pred_label.append(\"سلامت و زیبایی\")\n",
        "\n",
        "  if y_pred_blstm[i] == 3:\n",
        "    Science_technology +=1\n",
        "    pred_label.append(\"علم و تکنولوژی\")\n",
        "\n",
        "  elif y_pred_blstm[i] == 4:\n",
        "    public +=1\n",
        "    pred_label.append(\"عمومی\")\n",
        "\n",
        "  elif y_pred_blstm[i] == 5:\n",
        "    Art_cinema +=1\n",
        "    pred_label.append(\"هنر و سینما\")\n",
        "\n",
        "  if y_pred_blstm[i] == 6:\n",
        "    Books_literature +=1\n",
        "    pred_label.append(\"کتاب و ادبیات\")\n",
        "\n"
      ],
      "execution_count": null,
      "outputs": []
    },
    {
      "cell_type": "code",
      "metadata": {
        "colab": {
          "base_uri": "https://localhost:8080/"
        },
        "id": "G_x-mYFAhmIB",
        "outputId": "9b78e53e-3651-4203-f08d-7b815e54d11d"
      },
      "source": [
        "print(\"بازی ویدیویی: \" , (games/852)*100)\n",
        "print(\"راهنمای خرید: \" , (Purchase_guide/852)*100)\n",
        "print(\"سلامت و زیبایی: \" , (Health_Beauty/852)*100)\n",
        "print(\"علم و تکنولوژی: \" , (Science_technology/852)*100)\n",
        "print(\"عمومی: \" , (public/852)*100)\n",
        "print(\"هنر و سینما: \" , (Art_cinema/852)*100)\n",
        "print(\"کتاب و ادبیات: \" , (Books_literature/852)*100)\n"
      ],
      "execution_count": null,
      "outputs": [
        {
          "output_type": "stream",
          "text": [
            "بازی ویدیویی:  23.591549295774648\n",
            "راهنمای خرید:  1.5258215962441315\n",
            "سلامت و زیبایی:  20.657276995305164\n",
            "علم و تکنولوژی:  31.572769953051644\n",
            "عمومی:  0.4694835680751174\n",
            "هنر و سینما:  19.366197183098592\n",
            "کتاب و ادبیات:  2.8169014084507045\n"
          ],
          "name": "stdout"
        }
      ]
    },
    {
      "cell_type": "code",
      "metadata": {
        "id": "A1qUbd3ohmIE"
      },
      "source": [
        "dataFrame = pd.DataFrame({\"text\":text, \"true label\":true_label, \"prediction label\":pred_label})"
      ],
      "execution_count": null,
      "outputs": []
    },
    {
      "cell_type": "code",
      "metadata": {
        "id": "IwOcO9w-hmIE"
      },
      "source": [
        "dataFrame.to_excel(\"prediction2GRU.xlsx\", index=False)"
      ],
      "execution_count": null,
      "outputs": []
    },
    {
      "cell_type": "markdown",
      "metadata": {
        "id": "YNZ9yuHBceh1"
      },
      "source": [
        "### Resource : \n",
        "\n",
        "\n",
        "```\n",
        "https://arxiv.org/pdf/2004.05328.pdf\n",
        "https://github.com/JoyeBright/DeepSentiPers\n",
        "\n",
        "```\n",
        "\n"
      ]
    }
  ]
}