{
  "nbformat": 4,
  "nbformat_minor": 0,
  "metadata": {
    "colab": {
      "name": "bert_digimag.ipynb",
      "provenance": [],
      "collapsed_sections": []
    },
    "kernelspec": {
      "name": "python3",
      "display_name": "Python 3"
    },
    "language_info": {
      "name": "python"
    },
    "accelerator": "GPU"
  },
  "cells": [
    {
      "cell_type": "code",
      "metadata": {
        "colab": {
          "base_uri": "https://localhost:8080/"
        },
        "id": "9tIvpXqko2Gu",
        "outputId": "131f4ce2-c9e7-4d84-bbc1-8d1684ca92dd"
      },
      "source": [
        "from google.colab import drive\n",
        "drive.mount('/content/drive')"
      ],
      "execution_count": 74,
      "outputs": [
        {
          "output_type": "stream",
          "text": [
            "Drive already mounted at /content/drive; to attempt to forcibly remount, call drive.mount(\"/content/drive\", force_remount=True).\n"
          ],
          "name": "stdout"
        }
      ]
    },
    {
      "cell_type": "code",
      "metadata": {
        "colab": {
          "base_uri": "https://localhost:8080/"
        },
        "id": "SKn3N45x_wyb",
        "outputId": "0108981f-14e9-4308-88dc-a3b58f6097be"
      },
      "source": [
        "!pip3 install ktrain"
      ],
      "execution_count": 75,
      "outputs": [
        {
          "output_type": "stream",
          "text": [
            "Requirement already satisfied: ktrain in /usr/local/lib/python3.7/dist-packages (0.27.2)\n",
            "Requirement already satisfied: chardet in /usr/local/lib/python3.7/dist-packages (from ktrain) (3.0.4)\n",
            "Requirement already satisfied: sentencepiece in /usr/local/lib/python3.7/dist-packages (from ktrain) (0.1.96)\n",
            "Requirement already satisfied: jieba in /usr/local/lib/python3.7/dist-packages (from ktrain) (0.42.1)\n",
            "Requirement already satisfied: syntok in /usr/local/lib/python3.7/dist-packages (from ktrain) (1.3.1)\n",
            "Requirement already satisfied: matplotlib>=3.0.0 in /usr/local/lib/python3.7/dist-packages (from ktrain) (3.2.2)\n",
            "Requirement already satisfied: whoosh in /usr/local/lib/python3.7/dist-packages (from ktrain) (2.7.4)\n",
            "Requirement already satisfied: transformers<=4.3.3,>=4.0.0 in /usr/local/lib/python3.7/dist-packages (from ktrain) (4.3.3)\n",
            "Requirement already satisfied: keras-bert>=0.86.0 in /usr/local/lib/python3.7/dist-packages (from ktrain) (0.88.0)\n",
            "Requirement already satisfied: fastprogress>=0.1.21 in /usr/local/lib/python3.7/dist-packages (from ktrain) (1.0.0)\n",
            "Requirement already satisfied: requests in /usr/local/lib/python3.7/dist-packages (from ktrain) (2.23.0)\n",
            "Requirement already satisfied: pandas>=1.0.1 in /usr/local/lib/python3.7/dist-packages (from ktrain) (1.1.5)\n",
            "Requirement already satisfied: ipython in /usr/local/lib/python3.7/dist-packages (from ktrain) (5.5.0)\n",
            "Requirement already satisfied: scikit-learn==0.23.2 in /usr/local/lib/python3.7/dist-packages (from ktrain) (0.23.2)\n",
            "Requirement already satisfied: joblib in /usr/local/lib/python3.7/dist-packages (from ktrain) (1.0.1)\n",
            "Requirement already satisfied: networkx>=2.3 in /usr/local/lib/python3.7/dist-packages (from ktrain) (2.5.1)\n",
            "Requirement already satisfied: packaging in /usr/local/lib/python3.7/dist-packages (from ktrain) (21.0)\n",
            "Requirement already satisfied: seqeval==0.0.19 in /usr/local/lib/python3.7/dist-packages (from ktrain) (0.0.19)\n",
            "Requirement already satisfied: langdetect in /usr/local/lib/python3.7/dist-packages (from ktrain) (1.0.9)\n",
            "Requirement already satisfied: cchardet in /usr/local/lib/python3.7/dist-packages (from ktrain) (2.1.7)\n",
            "Requirement already satisfied: scipy>=0.19.1 in /usr/local/lib/python3.7/dist-packages (from scikit-learn==0.23.2->ktrain) (1.4.1)\n",
            "Requirement already satisfied: threadpoolctl>=2.0.0 in /usr/local/lib/python3.7/dist-packages (from scikit-learn==0.23.2->ktrain) (2.2.0)\n",
            "Requirement already satisfied: numpy>=1.13.3 in /usr/local/lib/python3.7/dist-packages (from scikit-learn==0.23.2->ktrain) (1.19.5)\n",
            "Requirement already satisfied: Keras>=2.2.4 in /usr/local/lib/python3.7/dist-packages (from seqeval==0.0.19->ktrain) (2.4.3)\n",
            "Requirement already satisfied: h5py in /usr/local/lib/python3.7/dist-packages (from Keras>=2.2.4->seqeval==0.0.19->ktrain) (3.1.0)\n",
            "Requirement already satisfied: pyyaml in /usr/local/lib/python3.7/dist-packages (from Keras>=2.2.4->seqeval==0.0.19->ktrain) (3.13)\n",
            "Requirement already satisfied: keras-transformer>=0.39.0 in /usr/local/lib/python3.7/dist-packages (from keras-bert>=0.86.0->ktrain) (0.39.0)\n",
            "Requirement already satisfied: keras-pos-embd>=0.12.0 in /usr/local/lib/python3.7/dist-packages (from keras-transformer>=0.39.0->keras-bert>=0.86.0->ktrain) (0.12.0)\n",
            "Requirement already satisfied: keras-multi-head>=0.28.0 in /usr/local/lib/python3.7/dist-packages (from keras-transformer>=0.39.0->keras-bert>=0.86.0->ktrain) (0.28.0)\n",
            "Requirement already satisfied: keras-position-wise-feed-forward>=0.7.0 in /usr/local/lib/python3.7/dist-packages (from keras-transformer>=0.39.0->keras-bert>=0.86.0->ktrain) (0.7.0)\n",
            "Requirement already satisfied: keras-embed-sim>=0.9.0 in /usr/local/lib/python3.7/dist-packages (from keras-transformer>=0.39.0->keras-bert>=0.86.0->ktrain) (0.9.0)\n",
            "Requirement already satisfied: keras-layer-normalization>=0.15.0 in /usr/local/lib/python3.7/dist-packages (from keras-transformer>=0.39.0->keras-bert>=0.86.0->ktrain) (0.15.0)\n",
            "Requirement already satisfied: keras-self-attention>=0.50.0 in /usr/local/lib/python3.7/dist-packages (from keras-multi-head>=0.28.0->keras-transformer>=0.39.0->keras-bert>=0.86.0->ktrain) (0.50.0)\n",
            "Requirement already satisfied: pyparsing!=2.0.4,!=2.1.2,!=2.1.6,>=2.0.1 in /usr/local/lib/python3.7/dist-packages (from matplotlib>=3.0.0->ktrain) (2.4.7)\n",
            "Requirement already satisfied: kiwisolver>=1.0.1 in /usr/local/lib/python3.7/dist-packages (from matplotlib>=3.0.0->ktrain) (1.3.1)\n",
            "Requirement already satisfied: cycler>=0.10 in /usr/local/lib/python3.7/dist-packages (from matplotlib>=3.0.0->ktrain) (0.10.0)\n",
            "Requirement already satisfied: python-dateutil>=2.1 in /usr/local/lib/python3.7/dist-packages (from matplotlib>=3.0.0->ktrain) (2.8.1)\n",
            "Requirement already satisfied: six in /usr/local/lib/python3.7/dist-packages (from cycler>=0.10->matplotlib>=3.0.0->ktrain) (1.15.0)\n",
            "Requirement already satisfied: decorator<5,>=4.3 in /usr/local/lib/python3.7/dist-packages (from networkx>=2.3->ktrain) (4.4.2)\n",
            "Requirement already satisfied: pytz>=2017.2 in /usr/local/lib/python3.7/dist-packages (from pandas>=1.0.1->ktrain) (2018.9)\n",
            "Requirement already satisfied: regex!=2019.12.17 in /usr/local/lib/python3.7/dist-packages (from transformers<=4.3.3,>=4.0.0->ktrain) (2019.12.20)\n",
            "Requirement already satisfied: tokenizers<0.11,>=0.10.1 in /usr/local/lib/python3.7/dist-packages (from transformers<=4.3.3,>=4.0.0->ktrain) (0.10.3)\n",
            "Requirement already satisfied: sacremoses in /usr/local/lib/python3.7/dist-packages (from transformers<=4.3.3,>=4.0.0->ktrain) (0.0.45)\n",
            "Requirement already satisfied: tqdm>=4.27 in /usr/local/lib/python3.7/dist-packages (from transformers<=4.3.3,>=4.0.0->ktrain) (4.41.1)\n",
            "Requirement already satisfied: importlib-metadata in /usr/local/lib/python3.7/dist-packages (from transformers<=4.3.3,>=4.0.0->ktrain) (4.6.1)\n",
            "Requirement already satisfied: filelock in /usr/local/lib/python3.7/dist-packages (from transformers<=4.3.3,>=4.0.0->ktrain) (3.0.12)\n",
            "Requirement already satisfied: cached-property in /usr/local/lib/python3.7/dist-packages (from h5py->Keras>=2.2.4->seqeval==0.0.19->ktrain) (1.5.2)\n",
            "Requirement already satisfied: zipp>=0.5 in /usr/local/lib/python3.7/dist-packages (from importlib-metadata->transformers<=4.3.3,>=4.0.0->ktrain) (3.5.0)\n",
            "Requirement already satisfied: typing-extensions>=3.6.4 in /usr/local/lib/python3.7/dist-packages (from importlib-metadata->transformers<=4.3.3,>=4.0.0->ktrain) (3.7.4.3)\n",
            "Requirement already satisfied: pygments in /usr/local/lib/python3.7/dist-packages (from ipython->ktrain) (2.6.1)\n",
            "Requirement already satisfied: prompt-toolkit<2.0.0,>=1.0.4 in /usr/local/lib/python3.7/dist-packages (from ipython->ktrain) (1.0.18)\n",
            "Requirement already satisfied: pickleshare in /usr/local/lib/python3.7/dist-packages (from ipython->ktrain) (0.7.5)\n",
            "Requirement already satisfied: simplegeneric>0.8 in /usr/local/lib/python3.7/dist-packages (from ipython->ktrain) (0.8.1)\n",
            "Requirement already satisfied: pexpect in /usr/local/lib/python3.7/dist-packages (from ipython->ktrain) (4.8.0)\n",
            "Requirement already satisfied: setuptools>=18.5 in /usr/local/lib/python3.7/dist-packages (from ipython->ktrain) (57.2.0)\n",
            "Requirement already satisfied: traitlets>=4.2 in /usr/local/lib/python3.7/dist-packages (from ipython->ktrain) (5.0.5)\n",
            "Requirement already satisfied: wcwidth in /usr/local/lib/python3.7/dist-packages (from prompt-toolkit<2.0.0,>=1.0.4->ipython->ktrain) (0.2.5)\n",
            "Requirement already satisfied: ipython-genutils in /usr/local/lib/python3.7/dist-packages (from traitlets>=4.2->ipython->ktrain) (0.2.0)\n",
            "Requirement already satisfied: ptyprocess>=0.5 in /usr/local/lib/python3.7/dist-packages (from pexpect->ipython->ktrain) (0.7.0)\n",
            "Requirement already satisfied: urllib3!=1.25.0,!=1.25.1,<1.26,>=1.21.1 in /usr/local/lib/python3.7/dist-packages (from requests->ktrain) (1.24.3)\n",
            "Requirement already satisfied: certifi>=2017.4.17 in /usr/local/lib/python3.7/dist-packages (from requests->ktrain) (2021.5.30)\n",
            "Requirement already satisfied: idna<3,>=2.5 in /usr/local/lib/python3.7/dist-packages (from requests->ktrain) (2.10)\n",
            "Requirement already satisfied: click in /usr/local/lib/python3.7/dist-packages (from sacremoses->transformers<=4.3.3,>=4.0.0->ktrain) (7.1.2)\n"
          ],
          "name": "stdout"
        }
      ]
    },
    {
      "cell_type": "code",
      "metadata": {
        "id": "_MXH7InfpW0X"
      },
      "source": [
        "#import numpy as np\n",
        "#import pandas as pd\n",
        "#import tensorflow as tf\n",
        "#import ktrain\n",
        "#from ktrain import text\n"
      ],
      "execution_count": 22,
      "outputs": []
    },
    {
      "cell_type": "code",
      "metadata": {
        "id": "jrmSQTjM_4Ji"
      },
      "source": [
        "import ktrain\n",
        "from ktrain import text"
      ],
      "execution_count": 76,
      "outputs": []
    },
    {
      "cell_type": "code",
      "metadata": {
        "colab": {
          "base_uri": "https://localhost:8080/",
          "height": 423
        },
        "id": "lYb0wZ62s1zk",
        "outputId": "f56f02e0-d9e0-465c-e7c5-2c6df3063431"
      },
      "source": [
        "data_train = pd.read_csv('/content/drive/MyDrive/digimag/train.csv', sep='\\t', encoding=\"utf-8\")\n",
        "data_train"
      ],
      "execution_count": 77,
      "outputs": [
        {
          "output_type": "execute_result",
          "data": {
            "text/html": [
              "<div>\n",
              "<style scoped>\n",
              "    .dataframe tbody tr th:only-of-type {\n",
              "        vertical-align: middle;\n",
              "    }\n",
              "\n",
              "    .dataframe tbody tr th {\n",
              "        vertical-align: top;\n",
              "    }\n",
              "\n",
              "    .dataframe thead th {\n",
              "        text-align: right;\n",
              "    }\n",
              "</style>\n",
              "<table border=\"1\" class=\"dataframe\">\n",
              "  <thead>\n",
              "    <tr style=\"text-align: right;\">\n",
              "      <th></th>\n",
              "      <th>Unnamed: 0</th>\n",
              "      <th>content</th>\n",
              "      <th>label</th>\n",
              "      <th>label_id</th>\n",
              "    </tr>\n",
              "  </thead>\n",
              "  <tbody>\n",
              "    <tr>\n",
              "      <th>0</th>\n",
              "      <td>0</td>\n",
              "      <td>نمایش تبلیغ در لاک‌اسکرین تعدادی از گوشی‌های ه...</td>\n",
              "      <td>علم و تکنولوژی</td>\n",
              "      <td>3</td>\n",
              "    </tr>\n",
              "    <tr>\n",
              "      <th>1</th>\n",
              "      <td>1</td>\n",
              "      <td>شکست Justice League در باکس آفیس پس از بازخورد...</td>\n",
              "      <td>هنر و سینما</td>\n",
              "      <td>5</td>\n",
              "    </tr>\n",
              "    <tr>\n",
              "      <th>2</th>\n",
              "      <td>2</td>\n",
              "      <td>کلاسیک بینی؛ همه چیز در یک شب اتفاق افتاد فیلم...</td>\n",
              "      <td>هنر و سینما</td>\n",
              "      <td>5</td>\n",
              "    </tr>\n",
              "    <tr>\n",
              "      <th>3</th>\n",
              "      <td>3</td>\n",
              "      <td>اپل دوباره سراغ رنده رفته چراکه آپگرید کردن سط...</td>\n",
              "      <td>علم و تکنولوژی</td>\n",
              "      <td>3</td>\n",
              "    </tr>\n",
              "    <tr>\n",
              "      <th>4</th>\n",
              "      <td>4</td>\n",
              "      <td>بررسی جزء به جزء بهترین بخش Ori and the Blind ...</td>\n",
              "      <td>بازی ویدیویی</td>\n",
              "      <td>0</td>\n",
              "    </tr>\n",
              "    <tr>\n",
              "      <th>...</th>\n",
              "      <td>...</td>\n",
              "      <td>...</td>\n",
              "      <td>...</td>\n",
              "      <td>...</td>\n",
              "    </tr>\n",
              "    <tr>\n",
              "      <th>6891</th>\n",
              "      <td>6891</td>\n",
              "      <td>چند ساعت خواب برای بدن شما مفید است؟ شایع است ...</td>\n",
              "      <td>سلامت و زیبایی</td>\n",
              "      <td>2</td>\n",
              "    </tr>\n",
              "    <tr>\n",
              "      <th>6892</th>\n",
              "      <td>6892</td>\n",
              "      <td>فیلم مگامن ساخته می‌شود شرکت بازی‌سازی کپ‌کام ...</td>\n",
              "      <td>بازی ویدیویی</td>\n",
              "      <td>0</td>\n",
              "    </tr>\n",
              "    <tr>\n",
              "      <th>6893</th>\n",
              "      <td>6893</td>\n",
              "      <td>تعداد حملات بدافزاری به سیستم‌ عامل مکینتاش بر...</td>\n",
              "      <td>علم و تکنولوژی</td>\n",
              "      <td>3</td>\n",
              "    </tr>\n",
              "    <tr>\n",
              "      <th>6894</th>\n",
              "      <td>6894</td>\n",
              "      <td>چطور از مبتلا شدن به آنفولانزا پیشگیری کنیم؟ (...</td>\n",
              "      <td>سلامت و زیبایی</td>\n",
              "      <td>2</td>\n",
              "    </tr>\n",
              "    <tr>\n",
              "      <th>6895</th>\n",
              "      <td>6895</td>\n",
              "      <td>وقتی اینترنت بتسدا را بر سر عرضه Doom دست می‌ا...</td>\n",
              "      <td>بازی ویدیویی</td>\n",
              "      <td>0</td>\n",
              "    </tr>\n",
              "  </tbody>\n",
              "</table>\n",
              "<p>6896 rows × 4 columns</p>\n",
              "</div>"
            ],
            "text/plain": [
              "      Unnamed: 0  ... label_id\n",
              "0              0  ...        3\n",
              "1              1  ...        5\n",
              "2              2  ...        5\n",
              "3              3  ...        3\n",
              "4              4  ...        0\n",
              "...          ...  ...      ...\n",
              "6891        6891  ...        2\n",
              "6892        6892  ...        0\n",
              "6893        6893  ...        3\n",
              "6894        6894  ...        2\n",
              "6895        6895  ...        0\n",
              "\n",
              "[6896 rows x 4 columns]"
            ]
          },
          "metadata": {
            "tags": []
          },
          "execution_count": 77
        }
      ]
    },
    {
      "cell_type": "code",
      "metadata": {
        "colab": {
          "base_uri": "https://localhost:8080/",
          "height": 423
        },
        "id": "KbIl8jbFBg_P",
        "outputId": "c2b00aef-a5e2-4046-f216-b91e7774dd6a"
      },
      "source": [
        "data_test = pd.read_csv('/content/drive/MyDrive/digimag/test.csv', sep='\\t', encoding=\"utf-8\")\n",
        "data_test"
      ],
      "execution_count": 78,
      "outputs": [
        {
          "output_type": "execute_result",
          "data": {
            "text/html": [
              "<div>\n",
              "<style scoped>\n",
              "    .dataframe tbody tr th:only-of-type {\n",
              "        vertical-align: middle;\n",
              "    }\n",
              "\n",
              "    .dataframe tbody tr th {\n",
              "        vertical-align: top;\n",
              "    }\n",
              "\n",
              "    .dataframe thead th {\n",
              "        text-align: right;\n",
              "    }\n",
              "</style>\n",
              "<table border=\"1\" class=\"dataframe\">\n",
              "  <thead>\n",
              "    <tr style=\"text-align: right;\">\n",
              "      <th></th>\n",
              "      <th>Unnamed: 0</th>\n",
              "      <th>content</th>\n",
              "      <th>label</th>\n",
              "      <th>label_id</th>\n",
              "    </tr>\n",
              "  </thead>\n",
              "  <tbody>\n",
              "    <tr>\n",
              "      <th>0</th>\n",
              "      <td>0</td>\n",
              "      <td>با این ۵ صبحانه رژیمی لاغر شوید صبحانه همیشه ب...</td>\n",
              "      <td>سلامت و زیبایی</td>\n",
              "      <td>2</td>\n",
              "    </tr>\n",
              "    <tr>\n",
              "      <th>1</th>\n",
              "      <td>1</td>\n",
              "      <td>نمایشگر گوشی تاشونده ال‌جی مانند بروشور باز و ...</td>\n",
              "      <td>علم و تکنولوژی</td>\n",
              "      <td>3</td>\n",
              "    </tr>\n",
              "    <tr>\n",
              "      <th>2</th>\n",
              "      <td>2</td>\n",
              "      <td>چرا برخی سلبریتی‌های هالیوودی از شبکه‌های اجتم...</td>\n",
              "      <td>هنر و سینما</td>\n",
              "      <td>5</td>\n",
              "    </tr>\n",
              "    <tr>\n",
              "      <th>3</th>\n",
              "      <td>3</td>\n",
              "      <td>گوگل استیدیا؛ آینده‌ی صنعت بازی یا محکوم به شک...</td>\n",
              "      <td>بازی ویدیویی</td>\n",
              "      <td>0</td>\n",
              "    </tr>\n",
              "    <tr>\n",
              "      <th>4</th>\n",
              "      <td>4</td>\n",
              "      <td>ویژگی جذاب گلکسی Z Flip به زودی به گوشی‌های ان...</td>\n",
              "      <td>علم و تکنولوژی</td>\n",
              "      <td>3</td>\n",
              "    </tr>\n",
              "    <tr>\n",
              "      <th>...</th>\n",
              "      <td>...</td>\n",
              "      <td>...</td>\n",
              "      <td>...</td>\n",
              "      <td>...</td>\n",
              "    </tr>\n",
              "    <tr>\n",
              "      <th>847</th>\n",
              "      <td>847</td>\n",
              "      <td>Death Stranding پر از میان‌پرده‌های طولانی است...</td>\n",
              "      <td>بازی ویدیویی</td>\n",
              "      <td>0</td>\n",
              "    </tr>\n",
              "    <tr>\n",
              "      <th>848</th>\n",
              "      <td>848</td>\n",
              "      <td>حالت نیو گیم پلاس به اسپایدرمن اضافه می‌شود چن...</td>\n",
              "      <td>بازی ویدیویی</td>\n",
              "      <td>0</td>\n",
              "    </tr>\n",
              "    <tr>\n",
              "      <th>849</th>\n",
              "      <td>849</td>\n",
              "      <td>بوکوفسکی؛ ملک‌الشعرای فرودستان آمریکا چارلز بو...</td>\n",
              "      <td>کتاب و ادبیات</td>\n",
              "      <td>6</td>\n",
              "    </tr>\n",
              "    <tr>\n",
              "      <th>850</th>\n",
              "      <td>850</td>\n",
              "      <td>چگونه مثل جف بزوس هک نشویم؛ ۵ توصیه امنیتی برا...</td>\n",
              "      <td>علم و تکنولوژی</td>\n",
              "      <td>3</td>\n",
              "    </tr>\n",
              "    <tr>\n",
              "      <th>851</th>\n",
              "      <td>851</td>\n",
              "      <td>چطور با مصرف ویتامین از فراموشی جلوگیری کنیم؟ ...</td>\n",
              "      <td>سلامت و زیبایی</td>\n",
              "      <td>2</td>\n",
              "    </tr>\n",
              "  </tbody>\n",
              "</table>\n",
              "<p>852 rows × 4 columns</p>\n",
              "</div>"
            ],
            "text/plain": [
              "     Unnamed: 0  ... label_id\n",
              "0             0  ...        2\n",
              "1             1  ...        3\n",
              "2             2  ...        5\n",
              "3             3  ...        0\n",
              "4             4  ...        3\n",
              "..          ...  ...      ...\n",
              "847         847  ...        0\n",
              "848         848  ...        0\n",
              "849         849  ...        6\n",
              "850         850  ...        3\n",
              "851         851  ...        2\n",
              "\n",
              "[852 rows x 4 columns]"
            ]
          },
          "metadata": {
            "tags": []
          },
          "execution_count": 78
        }
      ]
    },
    {
      "cell_type": "code",
      "metadata": {
        "colab": {
          "base_uri": "https://localhost:8080/",
          "height": 451
        },
        "id": "vfg05yfEtOv0",
        "outputId": "14d9b5c4-81a7-46ae-8f19-3492348c7c51"
      },
      "source": [
        "(X_train, y_train), (X_test, y_test), preprocess = text.texts_from_df(train_df = data_train,\n",
        "                                                                      text_column = 'content',\n",
        "                                                                      label_columns = 'label',\n",
        "                                                                      val_df = data_test,\n",
        "                                                                      maxlen = 512,\n",
        "                                                                      preprocess_mode = 'bert')\n"
      ],
      "execution_count": 79,
      "outputs": [
        {
          "output_type": "stream",
          "text": [
            "['بازی ویدیویی', 'راهنمای خرید', 'سلامت و زیبایی', 'علم و تکنولوژی', 'عمومی', 'هنر و سینما', 'کتاب و ادبیات']\n",
            "   بازی ویدیویی  راهنمای خرید  ...  هنر و سینما  کتاب و ادبیات\n",
            "0           0.0           0.0  ...          0.0            0.0\n",
            "1           0.0           0.0  ...          1.0            0.0\n",
            "2           0.0           0.0  ...          1.0            0.0\n",
            "3           0.0           0.0  ...          0.0            0.0\n",
            "4           1.0           0.0  ...          0.0            0.0\n",
            "\n",
            "[5 rows x 7 columns]\n",
            "['بازی ویدیویی', 'راهنمای خرید', 'سلامت و زیبایی', 'علم و تکنولوژی', 'عمومی', 'هنر و سینما', 'کتاب و ادبیات']\n",
            "   بازی ویدیویی  راهنمای خرید  ...  هنر و سینما  کتاب و ادبیات\n",
            "0           0.0           0.0  ...          0.0            0.0\n",
            "1           0.0           0.0  ...          0.0            0.0\n",
            "2           0.0           0.0  ...          1.0            0.0\n",
            "3           1.0           0.0  ...          0.0            0.0\n",
            "4           0.0           0.0  ...          0.0            0.0\n",
            "\n",
            "[5 rows x 7 columns]\n",
            "preprocessing train...\n",
            "language: fa\n"
          ],
          "name": "stdout"
        },
        {
          "output_type": "display_data",
          "data": {
            "text/html": [
              "done."
            ],
            "text/plain": [
              "<IPython.core.display.HTML object>"
            ]
          },
          "metadata": {
            "tags": []
          }
        },
        {
          "output_type": "stream",
          "text": [
            "Is Multi-Label? False\n",
            "preprocessing test...\n",
            "language: fa\n"
          ],
          "name": "stdout"
        },
        {
          "output_type": "display_data",
          "data": {
            "text/html": [
              "done."
            ],
            "text/plain": [
              "<IPython.core.display.HTML object>"
            ]
          },
          "metadata": {
            "tags": []
          }
        }
      ]
    },
    {
      "cell_type": "code",
      "metadata": {
        "colab": {
          "base_uri": "https://localhost:8080/"
        },
        "id": "gj4fSpN9DJhx",
        "outputId": "a02e6c89-7b39-4324-9d9b-44db5cb5d2e3"
      },
      "source": [
        "X_train[0].shape"
      ],
      "execution_count": 80,
      "outputs": [
        {
          "output_type": "execute_result",
          "data": {
            "text/plain": [
              "(6896, 400)"
            ]
          },
          "metadata": {
            "tags": []
          },
          "execution_count": 80
        }
      ]
    },
    {
      "cell_type": "code",
      "metadata": {
        "colab": {
          "base_uri": "https://localhost:8080/"
        },
        "id": "3Ibq1xm1AIUX",
        "outputId": "fbfeb7a2-db00-4ff9-b4d5-e1bc369fdaaf"
      },
      "source": [
        "model = text.text_classifier(name = 'bert',\n",
        "                             train_data = (X_train, y_train),\n",
        "                             preproc = preprocess)"
      ],
      "execution_count": 81,
      "outputs": [
        {
          "output_type": "stream",
          "text": [
            "Is Multi-Label? False\n",
            "maxlen is 400\n",
            "done.\n"
          ],
          "name": "stdout"
        }
      ]
    },
    {
      "cell_type": "code",
      "metadata": {
        "id": "ITNsErMCCLdd"
      },
      "source": [
        "learner = ktrain.get_learner(model = model,\n",
        "                             train_data = (X_train, y_train),\n",
        "                             val_data = (X_test, y_test), \n",
        "                             batch_size = 6)\n"
      ],
      "execution_count": 82,
      "outputs": []
    },
    {
      "cell_type": "code",
      "metadata": {
        "colab": {
          "base_uri": "https://localhost:8080/"
        },
        "id": "AqE_69NcDfCB",
        "outputId": "f08af5f2-4153-4f78-a462-1703083550b4"
      },
      "source": [
        "learner.fit_onecycle(lr = 2e-5 , epochs = 1)"
      ],
      "execution_count": 83,
      "outputs": [
        {
          "output_type": "stream",
          "text": [
            "\n",
            "\n",
            "begin training using onecycle policy with max lr of 2e-05...\n",
            "1150/1150 [==============================] - 1603s 1s/step - loss: 0.4968 - accuracy: 0.8474 - val_loss: 0.2308 - val_accuracy: 0.9343\n"
          ],
          "name": "stdout"
        },
        {
          "output_type": "execute_result",
          "data": {
            "text/plain": [
              "<tensorflow.python.keras.callbacks.History at 0x7f2affe8b5d0>"
            ]
          },
          "metadata": {
            "tags": []
          },
          "execution_count": 83
        }
      ]
    },
    {
      "cell_type": "code",
      "metadata": {
        "id": "akYnnQCSCSDF"
      },
      "source": [
        "predictor = ktrain.get_predictor(learner.model, preprocess)"
      ],
      "execution_count": 85,
      "outputs": []
    },
    {
      "cell_type": "code",
      "metadata": {
        "id": "PPbZoD6PGQDJ"
      },
      "source": [
        "data = [ 'قشر تحصیلکرده جذاب باشد و واقعا باید ببینم در اکران عمومی چه اتفاقی می‌افتد‌ مهدی جعفری: وظیفه خودم می‌دانستم ۲۳ نفر را بسازم منبع: سوره سینما نشست خبری فیلم بیست و سه نفر با حضور مهدی جعفری کارگردان، آلبو عبادی (بازیگر)، امیر و هادی اسلامی (جلوه‌های ویژه بصری)، محسن روزبهانی (جلوه‌های ویژه میدانی)، مرتضی قیدی (فیلمبردار)، مجتبی فرآورده (تهیه‌کننده)، آریا عظیمی‌نژاد (موسیقی)، میثم مولایی (تدوینگر)، بهمن اردلان (صدابردار و صداگذار) و احمد یوسف‌زاده (مشاور فیلمنامه) در ششمین روز جشنواره فیلم فجر برگزار شد‌ جعفری درباره ساخت فیلم گفت: جوابش خیلی پیچیده نیست‌ از چند سال پیش که مستندی درباره آن‌ها ساختم این موضوع در ذهن من هک شده بود و این جزء آرزوهای من شد که یک روز بتوانم فیلم‌سینمایی از روزگاری که این دوستان گذراندند بسازم‌ او درباره انتخاب بازیگران فیلمش چنین توضیح داد: مساله مهم این بود که در اقتباس چقدر می‌توانیم به واقعیت وفادار باشیم‌ بعد از ۱۰، ۱۲ سال رفاقت با این بچه‌ها وظیفه خودم می‌دانستم که تلاش کنم تا فیلمی درست درباره آن‌ها بسازم‌ از روز اول همه ما نگران بودیم که آیا می‌توانیم بچه‌هایی را پیدا کنیم که بتوانند قصه ما را واقعی بازی کنند‌ کارگردان فیلم سینمایی ۲۳ نفر درباره بازیگران فیلمش افزود: در واقعیت هم در بین این ۲۳ نفر از گویش‌ها و شهرهای مختلف وجود داشتند‌ بنابراین خواسته یا ناخواسته طوری این قصه اتفاق افتاده بود که انگار آنها سمبل ایران بودند‌ ما حدود یک ماه با آن‌ها کار کردیم تا سطح بازی آن‌ها را بهم برسانیم‌ حدود یک ماه و نیم انتخاب بازیگران طول کشید‌ در شهرستان‌هایی که می‌خواستیم از آنجا بازیگر داشته باشیم، فراخوان اعلام کردیم‌ او درباره اینکه همه ۲۳ نفر شخصیت‌های فیلم امروز در عالم واقع زنده هستند یا خیر پاسخ داد: ۲۲ نفر در قید حیات هستند و فقط یکی از آنها به نام احمد سعادت سال‌ها پیش از دنیا رفته است‌ شعبانی: اولین هدف‌مان جشنواره کن است منبع: سوره سینما نشست خبری فیلم نت‌های مسی یک رویا با حضور رضا فرهمند (کارگردان)، مرتضی شعبانی (تهیه کننده)، ستاره بنیادی (تدوینگر)، حمید احمدی (صدابردار) و حسن مهدوی (صداگذار) برگزار شد. رضا فرهمند کارگردان فیلم در ابتدای نشست درباره ساخت این مستند و تولید آن در خارج از کشور گفت: من اساسا چهار یا پنج سال است که درگیر بحران‌های خارجی هستم. به سوریه رفتم و تصمیم گرفتم برای زنان سوری مستندی بسازم اما بخاطر مسائل امنیتی نشد. در ادامه اما توانستیم به این سوژه در مورد کودکان برسیم. کارگردان نت‌های مسی یک رویا در مورد خطرات ساخت مستند در سوریه برای گروه گفت: منطقه یرموک سه ماه بود که آزاد شده بود و منطقه پر از تله‌های انفجاری و بمب‌های دستی بود. ما نمی‌دانستیم که وقتی پای‌مان را زمین می‌گذاریم چه اتفاقی برای ما می‌افتد و این کابوس همیشه همراه ما بود. با این حال خدا را شکر اتفاقی نیفتاد و کار فیلم پیش رفت. شعبانی تهیه کننده فیلم درباره پخش جهانی اثر عنوان کرد: فیلم دارد مسیر خودش را طی می‌کند و برنامه داریم که به زودی فیلم را در خارج از کشور نمایش دهیم، اولین هدف‌مان جشنواره کن است. ']"
      ],
      "execution_count": 86,
      "outputs": []
    },
    {
      "cell_type": "code",
      "metadata": {
        "colab": {
          "base_uri": "https://localhost:8080/"
        },
        "id": "y1dBzyO2Qm0d",
        "outputId": "d2edbbd9-f267-4634-8793-cebfc1cde728"
      },
      "source": [
        "predictor.predict(data)"
      ],
      "execution_count": 87,
      "outputs": [
        {
          "output_type": "execute_result",
          "data": {
            "text/plain": [
              "['هنر و سینما']"
            ]
          },
          "metadata": {
            "tags": []
          },
          "execution_count": 87
        }
      ]
    },
    {
      "cell_type": "code",
      "metadata": {
        "colab": {
          "base_uri": "https://localhost:8080/"
        },
        "id": "7t97apyw_u-E",
        "outputId": "1142b263-2b50-4b31-c357-90dad15416a2"
      },
      "source": [
        "predictor.save('contents/bertmag')"
      ],
      "execution_count": 88,
      "outputs": [
        {
          "output_type": "stream",
          "text": [
            "/usr/local/lib/python3.7/dist-packages/tensorflow/python/keras/utils/generic_utils.py:497: CustomMaskWarning: Custom mask layers require a config and must override get_config. When loading, the custom mask layer must be passed to the custom_objects argument.\n",
            "  category=CustomMaskWarning)\n"
          ],
          "name": "stderr"
        }
      ]
    }
  ]
}